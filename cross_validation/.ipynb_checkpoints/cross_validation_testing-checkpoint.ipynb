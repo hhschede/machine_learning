{
 "cells": [
  {
   "cell_type": "code",
   "execution_count": 16,
   "metadata": {},
   "outputs": [
    {
     "name": "stdout",
     "output_type": "stream",
     "text": [
      "The autoreload extension is already loaded. To reload it, use:\n",
      "  %reload_ext autoreload\n"
     ]
    }
   ],
   "source": [
    "# Modules\n",
    "import csv\n",
    "import numpy as np\n",
    "import matplotlib.pyplot as plt\n",
    "from mpl_toolkits import mplot3d\n",
    "import datetime\n",
    "import os\n",
    "\n",
    "# Functions\n",
    "from implementations_cross_validation import *\n",
    "from helpers import *\n",
    "from preprocessing import *\n",
    "\n",
    "# Autoreload\n",
    "%load_ext autoreload\n",
    "%autoreload 2\n"
   ]
  },
  {
   "cell_type": "code",
   "execution_count": 2,
   "metadata": {},
   "outputs": [
    {
     "name": "stdout",
     "output_type": "stream",
     "text": [
      "The original dimensions of the training data set was 250000 samples and 30 columns\n",
      " After feature and sample filtering, there are 250000 samples and 30 columns\n"
     ]
    }
   ],
   "source": [
    "# Set random seed\n",
    "np.random.seed(0)\n",
    "\n",
    "(labels_raw, data_raw, ids_raw) = load_csv_data(\"data/train.csv\")\n",
    "(t_labels, t_data_raw, t_ids) = load_csv_data(\"data/test.csv\")\n",
    "\n",
    "data_, data_t_, labels = process_data(data_raw, t_data_raw, labels_raw,\n",
    "                                      ids_raw, sample_filtering = False, feature_filtering = False,\n",
    "                                      replace = 'median', remove_outlier=True)\n"
   ]
  },
  {
   "cell_type": "code",
   "execution_count": 3,
   "metadata": {},
   "outputs": [],
   "source": [
    "# Create train/test split\n",
    "\n",
    "X_train, y_train, X_test, y_test = split_data(data_, labels, ratio=0.8, seed=0)\n",
    "\n",
    "# Add interaction terms and polynomial of degree 2 to cross val set (no bias term is added here\n",
    "# since its done inside crossval function)\n",
    "\n",
    "X_train_int = build_interact_terms(X_train)\n",
    "X_test_int = build_interact_terms(X_test)\n",
    "X_train_poly = build_poly(X_train, 2)\n",
    "X_test_poly = build_poly(X_test, 2)\n",
    "X_train = np.c_[X_train_poly, X_train_int]\n",
    "X_test_forstd = np.c_[X_test_poly, X_test_int]\n",
    "\n",
    "# Create standardizations for the split\n",
    "X_train_std, mean, variance = standardize(X_train)\n",
    "X_test_std = standardize_test(X_test_forstd, mean, variance)\n",
    "\n",
    "\n",
    "# Perform PCA\n",
    "eigVal, eigVec, sumEigVal = PCA(X_train_std, threshold = 0.9)\n",
    "X_train_std = X_train_std.dot(eigVec)\n",
    "X_test_std = X_test_std.dot(eigVec)\n",
    "\n",
    "# Add the bias term for the final models\n",
    "y_train, X_train_std = build_model_data(X_train_std, y_train)\n",
    "y_test, X_test_std = build_model_data(X_test_std, y_test)\n",
    "\n",
    "\n",
    "# Initialize boxplots values\n",
    "boxplots = []\n",
    "test_accuracies = []"
   ]
  },
  {
   "cell_type": "markdown",
   "metadata": {},
   "source": [
    "# Linear Regression: Gradient Descent"
   ]
  },
  {
   "cell_type": "code",
   "execution_count": 4,
   "metadata": {},
   "outputs": [],
   "source": [
    "# Initialize w vector\n",
    "initial_w = np.random.rand(X_train_std.shape[1])\n",
    "k_ = 6\n",
    "\n",
    "# Perform linear regression by gradient descent with cross validation (k=4)\n",
    "test_loss_mean, test_loss_var, vector_test_loss, train_loss_mean, w_final, accuracies = least_squares_GD(y_train, X_train, initial_w, gamma = 0.005, k=k_, max_iters = 500)\n",
    "boxplots.append(accuracies)\n",
    "\n",
    "# Perform linear regression by gradient descent on whole training set\n",
    "w = least_squares_GD(y_train, X_train_std, initial_w, gamma = 0.005, k=0, max_iters = 500)\n",
    "\n",
    "# Use w to predict unseen test set labels\n",
    "test_pred_lab = predict_labels(w, X_test_std)\n",
    "test_accuracy = pred_accuracy(test_pred_lab, y_test)\n",
    "test_accuracies.append(test_accuracy)"
   ]
  },
  {
   "cell_type": "code",
   "execution_count": 5,
   "metadata": {},
   "outputs": [
    {
     "data": {
      "text/plain": [
       "88"
      ]
     },
     "execution_count": 5,
     "metadata": {},
     "output_type": "execute_result"
    }
   ],
   "source": [
    "# Write results to file\n",
    "\n",
    "file_object = open('cv_results', 'w')\n",
    "file_object.write('fold1, fold2, fold3, fold4, test_set \\n')\n",
    "acc_s = str(accuracies[0]) + ', ' + str(accuracies[1]) + ', ' + str(accuracies[2]) + ', ' + str(accuracies[3])\n",
    "acc_t = str(test_accuracy) + '\\n'\n",
    "file_object.write(acc_s + ', ' + acc_t)\n"
   ]
  },
  {
   "cell_type": "markdown",
   "metadata": {},
   "source": [
    "# Linear Regression: Stochastic Gradient Descent"
   ]
  },
  {
   "cell_type": "code",
   "execution_count": 7,
   "metadata": {},
   "outputs": [],
   "source": [
    "# Initialize w vector\n",
    "initial_w = np.random.rand(X_train_std.shape[1])\n",
    "k_ = 6\n",
    "\n",
    "# Perform algorithm with cross validation (k=4)\n",
    "w_final, accuracies = least_squares_SGD(y_train, X_train, initial_w, batch_size=400, gamma = 0.005, k=k_, max_iters=500)\n",
    "boxplots.append(accuracies)\n",
    "\n",
    "# Perform algorithm on whole training set\n",
    "w = least_squares_SGD(y_train, X_train_std, initial_w, gamma = 0.005, batch_size = 1000, k=0, max_iters=500)\n",
    "\n",
    "# Use w to predict unseen test set labels\n",
    "test_pred_lab = predict_labels(w, X_test_std)\n",
    "test_accuracy = pred_accuracy(test_pred_lab, y_test)\n",
    "test_accuracies.append(test_accuracy)"
   ]
  },
  {
   "cell_type": "code",
   "execution_count": 8,
   "metadata": {},
   "outputs": [
    {
     "data": {
      "text/plain": [
       "88"
      ]
     },
     "execution_count": 8,
     "metadata": {},
     "output_type": "execute_result"
    }
   ],
   "source": [
    "# Write results to file\n",
    "\n",
    "acc_s = str(accuracies[0]) + ', ' + str(accuracies[1]) + ', ' + str(accuracies[2]) + ', ' + str(accuracies[3])\n",
    "acc_t = str(test_accuracy) + '\\n'\n",
    "file_object.write(acc_s + ', ' + acc_t)"
   ]
  },
  {
   "cell_type": "markdown",
   "metadata": {},
   "source": [
    "# Linear Regression: Direct Least Squares"
   ]
  },
  {
   "cell_type": "code",
   "execution_count": 9,
   "metadata": {},
   "outputs": [],
   "source": [
    "k_ = 6\n",
    "\n",
    "# Perform linear regression by direct least squares with cross validation (k=4)\n",
    "test_loss_mean, test_loss_var, train_loss_mean, w_final, accuracies = least_squares(y_train, X_train, k_)\n",
    "boxplots.append(accuracies)\n",
    "\n",
    "# Perform linear regression by direct least squares on whole training set\n",
    "w = least_squares(y_train, X_train_std, k=0)\n",
    "\n",
    "# Use w to predict unseen test set labels\n",
    "test_pred_lab = predict_labels(w, X_test_std)\n",
    "test_accuracy = pred_accuracy(test_pred_lab, y_test)\n",
    "test_accuracies.append(test_accuracy)"
   ]
  },
  {
   "cell_type": "code",
   "execution_count": 10,
   "metadata": {},
   "outputs": [
    {
     "data": {
      "text/plain": [
       "87"
      ]
     },
     "execution_count": 10,
     "metadata": {},
     "output_type": "execute_result"
    }
   ],
   "source": [
    "# Write results to file\n",
    "\n",
    "acc_s = str(accuracies[0]) + ', ' + str(accuracies[1]) + ', ' + str(accuracies[2]) + ', ' + str(accuracies[3])\n",
    "acc_t = str(test_accuracy) + '\\n'\n",
    "file_object.write(acc_s + ', ' + acc_t)\n"
   ]
  },
  {
   "cell_type": "markdown",
   "metadata": {},
   "source": [
    "# Linear Regression: Regularized"
   ]
  },
  {
   "cell_type": "code",
   "execution_count": 11,
   "metadata": {},
   "outputs": [],
   "source": [
    "# Search for optimal lambda value to implement for cross validation\n",
    "\n",
    "lambdas = np.logspace(-7, 0, 30)\n",
    "rmse_tr = []\n",
    "rmse_ts = []\n",
    "pred_tr = []\n",
    "pred_ts = []\n",
    "\n",
    "for ind, lambda_ in enumerate(lambdas):\n",
    "    \n",
    "    w = ridge_regression(y_train, X_train_std, lambda_, k=0)\n",
    "    \n",
    "#     rmse_tr.append(np.sqrt(2 * compute_loss(y_train, X_train, w)))\n",
    "    pred_tr.append(pred_accuracy(predict_labels(w, X_train_std), y_train))\n",
    "#     rmse_ts.append(np.sqrt(2 * compute_loss(y_test, X_test, w)))\n",
    "    pred_ts.append(pred_accuracy(predict_labels(w, X_test_std), y_test))\n",
    "    \n",
    "selected_lambda = lambdas[np.argmax(pred_ts)]"
   ]
  },
  {
   "cell_type": "code",
   "execution_count": 12,
   "metadata": {},
   "outputs": [
    {
     "name": "stdout",
     "output_type": "stream",
     "text": [
      "0.06210169418915616\n"
     ]
    }
   ],
   "source": [
    "print(selected_lambda)"
   ]
  },
  {
   "cell_type": "code",
   "execution_count": 17,
   "metadata": {},
   "outputs": [],
   "source": [
    "k_ = 6\n",
    "\n",
    "# Perform regularized linear regression with cross validation (k=4)\n",
    "# Note that the value for lambda that is selected for this cross validation assessment it taken \n",
    "# from the above grid search which provided the best accuracies scores for the test set.\n",
    "\n",
    "w_final, accuracies = ridge_regression(y_train, X_train, lambda_=selected_lambda, k=k_)\n",
    "boxplots.append(accuracies)\n",
    "\n",
    "# Perform regularized linear regression on whole training set\n",
    "w = ridge_regression(y_train, X_train_std, lambda_=selected_lambda, k=0)\n",
    "\n",
    "# Use w to predict unseen test set labels\n",
    "test_pred_lab = predict_labels(w, X_test_std)\n",
    "test_accuracy = pred_accuracy(test_pred_lab, y_test)\n",
    "test_accuracies.append(test_accuracy)"
   ]
  },
  {
   "cell_type": "code",
   "execution_count": 18,
   "metadata": {},
   "outputs": [
    {
     "data": {
      "text/plain": [
       "88"
      ]
     },
     "execution_count": 18,
     "metadata": {},
     "output_type": "execute_result"
    }
   ],
   "source": [
    "# Write results to file\n",
    "\n",
    "acc_s = str(accuracies[0]) + ', ' + str(accuracies[1]) + ', ' + str(accuracies[2]) + ', ' + str(accuracies[3])\n",
    "acc_t = str(test_accuracy) + '\\n'\n",
    "file_object.write(acc_s + ', ' + acc_t)"
   ]
  },
  {
   "cell_type": "markdown",
   "metadata": {},
   "source": [
    "# Logistic Regression"
   ]
  },
  {
   "cell_type": "code",
   "execution_count": 27,
   "metadata": {},
   "outputs": [],
   "source": [
    "# Initialize parameters\n",
    "initial_w = np.random.rand(X_train_std.shape[1])\n",
    "k_ = 6\n",
    "thresh = 0.5\n",
    "\n",
    "# Perform logistic regression with Newton's Method\n",
    "\n",
    "gen = cross_val(y_train, X_train, k_) # initiate generator object\n",
    "accuracies = []\n",
    "for i in np.arange(k_):\n",
    "    y_tr, x_tr, y_te, x_te = next(gen) # take next subtraining and subtest sets\n",
    "    w = np.random.rand(x_tr.shape[1])\n",
    "    losses, losses_t, acc, acc_t, w = logistic_hessian(y_tr, x_tr, y_te, x_te, w, 0.07, 500, 150, writing=False)\n",
    "    accuracies.append(acc_t[-1])\n",
    "boxplots.append(accuracies)\n",
    "\n",
    "# Perform algorithm on entire training set to retrieve w\n",
    "losses, losses_t, acc, test_accuracy, w = logistic_hessian(y_train, X_train_std, y_test,\n",
    "                                                           X_test_std, initial_w, 0.07, 500, 150, writing=False)\n",
    "test_accuracies.append(test_accuracy[-1])"
   ]
  },
  {
   "cell_type": "code",
   "execution_count": 28,
   "metadata": {},
   "outputs": [],
   "source": [
    "# Write results to file\n",
    "\n",
    "acc_s = str(accuracies[0]) + ', ' + str(accuracies[1]) + ', ' + str(accuracies[2]) + ', ' + str(accuracies[3])\n",
    "acc_t = str(test_accuracy) + '\\n'\n",
    "file_object.write(acc_s + ', ' + acc_t)\n",
    "file_object.close()"
   ]
  },
  {
   "cell_type": "markdown",
   "metadata": {},
   "source": [
    "# Create Boxplots"
   ]
  },
  {
   "cell_type": "code",
   "execution_count": 29,
   "metadata": {},
   "outputs": [
    {
     "name": "stdout",
     "output_type": "stream",
     "text": [
      "5\n",
      "[0.72846, 0.74034, 0.7643, 0.76516, 0.76852]\n"
     ]
    },
    {
     "data": {
      "image/png": "[encoded data removed]",
      "text/plain": [
       "<Figure size 576x396 with 1 Axes>"
      ]
     },
     "metadata": {},
     "output_type": "display_data"
    }
   ],
   "source": [
    "# Create boxplots\n",
    "print(len(boxplots))\n",
    "plt.style.use('seaborn')\n",
    "plt.boxplot(boxplots, labels=['LinReg GD', 'LinReg SGD','LinReg Direct','LinReg Ridge','LogisticReg'])\n",
    "# plt.boxplot(boxplots, labels=[''])\n",
    "plt.plot(1, test_accuracies[0], marker='o', c='red')\n",
    "plt.plot(2, test_accuracies[1], marker='o', c='red')\n",
    "plt.plot(3, test_accuracies[2], marker='o', c='red')\n",
    "plt.plot(4, test_accuracies[3], marker='o', c='red')\n",
    "plt.plot(5, test_accuracies[4], marker='o', c='red')\n",
    "print(test_accuracies)"
   ]
  }
 ],
 "metadata": {
  "kernelspec": {
   "display_name": "Python [conda env:ada]",
   "language": "python",
   "name": "conda-env-ada-py"
  },
  "language_info": {
   "codemirror_mode": {
    "name": "ipython",
    "version": 3
   },
   "file_extension": ".py",
   "mimetype": "text/x-python",
   "name": "python",
   "nbconvert_exporter": "python",
   "pygments_lexer": "ipython3",
   "version": "3.6.6"
  }
 },
 "nbformat": 4,
 "nbformat_minor": 2
}
