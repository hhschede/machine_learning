{
 "cells": [
  {
   "cell_type": "code",
   "execution_count": 2,
   "metadata": {},
   "outputs": [],
   "source": [
    "# the imports\n",
    "import csv\n",
    "import numpy as np\n",
    "import matplotlib.pyplot as plt\n",
    "from mpl_toolkits import mplot3d\n",
    "import datetime"
   ]
  },
  {
   "cell_type": "code",
   "execution_count": 1,
   "metadata": {},
   "outputs": [],
   "source": [
    "# import all the important functions\n",
    "from implementations import *\n",
    "from helpers import *"
   ]
  },
  {
   "cell_type": "code",
   "execution_count": 3,
   "metadata": {},
   "outputs": [],
   "source": [
    "#upload data\n",
    "(labels, data, ids) = load_csv_data(\"C:/Users/remy/Documents/data/train.csv\")  # load data"
   ]
  },
  {
   "cell_type": "code",
   "execution_count": 4,
   "metadata": {
    "scrolled": true
   },
   "outputs": [
    {
     "name": "stdout",
     "output_type": "stream",
     "text": [
      "(250000,)\n",
      "(250000, 30)\n",
      "(250000,)\n"
     ]
    }
   ],
   "source": [
    "print(labels.shape)\n",
    "print(data.shape)\n",
    "print(ids.shape)"
   ]
  },
  {
   "cell_type": "code",
   "execution_count": 5,
   "metadata": {},
   "outputs": [],
   "source": [
    "# set values of -999 to NaN. \n",
    "# Then calculate the means of the features. \n",
    "# Replace NaN values with new values.\n",
    "\n",
    "data_process = np.array(data[:1000,:])\n",
    "labels_select = np.array(labels[:1000])\n",
    "lab = []\n",
    "for entry in labels_select:\n",
    "    if int(entry) == 1:\n",
    "        lab.append(1)\n",
    "    else:\n",
    "        lab.append(0)\n",
    "lab = np.array(lab)\n",
    "data_process[data_process == -999] = np.nan\n",
    "\n",
    "# print(data_process.shape)"
   ]
  },
  {
   "cell_type": "code",
   "execution_count": 6,
   "metadata": {},
   "outputs": [],
   "source": [
    "# filter out really shitty features\n",
    "# retrieve percentage for each feature \n",
    "# - how many nan's are there?\n",
    "\n",
    "nan_count = []\n",
    "for c in data_process.T:\n",
    "    count = 0\n",
    "    for e in c:\n",
    "        if np.isnan(e):\n",
    "            count += 1\n",
    "    pcent = count / data_process.shape[0]\n",
    "    nan_count.append(pcent)"
   ]
  },
  {
   "cell_type": "code",
   "execution_count": 7,
   "metadata": {},
   "outputs": [],
   "source": [
    "# filter out features which have nan values of 50%\n",
    "\n",
    "data_set_filtered = []\n",
    "for idx, entry in enumerate(nan_count):\n",
    "    if entry < 0.6:\n",
    "        #append the column of the original dataset that is good\n",
    "        data_set_filtered.append(data_process.T[idx]) \n",
    "#save that shit as an np array\n",
    "data_set_filtered = np.array(data_set_filtered).T #save that shit as an np array"
   ]
  },
  {
   "cell_type": "code",
   "execution_count": 8,
   "metadata": {},
   "outputs": [],
   "source": [
    "# filter out samples that have more than half of their features as nan (crappy samples)\n",
    "\n",
    "nan_count_2 = []\n",
    "data_set_filtered_2 = [] # dataset filtered for columns and samples\n",
    "y = [] # array that gets rid of entries that are no longer corresponding in the dataframe\n",
    "for sample in data_set_filtered:\n",
    "    count = 0\n",
    "    for col in sample:\n",
    "        if np.isnan(col):\n",
    "            count += 1\n",
    "    pcent = count / data_set_filtered.shape[1]\n",
    "    nan_count_2.append(pcent)\n",
    "\n",
    "for idx, entry in enumerate(nan_count_2):\n",
    "    if entry < 0.15:\n",
    "        y.append(lab[idx])\n",
    "        data_set_filtered_2.append(data_set_filtered[idx])\n",
    "data_set_filtered_2 = np.array(data_set_filtered_2) # turn dat shit into an array\n",
    "y = np.array(y) # also this one gotta be an array"
   ]
  },
  {
   "cell_type": "code",
   "execution_count": 9,
   "metadata": {},
   "outputs": [
    {
     "name": "stdout",
     "output_type": "stream",
     "text": [
      "The original dimensions of the training data set was 1000 samples and 30 columns. After feature and sample filtering, there are 909 samples and 23 columns\n"
     ]
    }
   ],
   "source": [
    "# print new dimensions of the dataframe after filtering\n",
    "\n",
    "print('The original dimensions of the training data set was {0} samples'\n",
    "      ' and {1} columns. After feature and sample filtering, there are'\n",
    "      ' {2} samples and {3} columns'.format(data_process.shape[0],\n",
    "                                            data_process.shape[1],\n",
    "                                            data_set_filtered_2.shape[0],\n",
    "                                            data_set_filtered_2.shape[1]))\n"
   ]
  },
  {
   "cell_type": "code",
   "execution_count": 10,
   "metadata": {},
   "outputs": [],
   "source": [
    "# variable reassigned\n",
    "data_nan = data_set_filtered_2.copy() \n",
    "# create list with average values of columns, excluding nans\n",
    "column_means = [] \n",
    "for column in data_nan.T:\n",
    "    column_means.append(np.nanmean(column))\n",
    "    \n",
    "\n",
    "# variable containing locations of nan in data frame\n",
    "inds = np.where(np.isnan(data_nan)) \n",
    "# reassign locations of nan to the column means\n",
    "data_nan[inds] = np.take(column_means, inds[1]) "
   ]
  },
  {
   "cell_type": "code",
   "execution_count": 11,
   "metadata": {},
   "outputs": [],
   "source": [
    "# standardize and normalize the features\n",
    "column_variance = []\n",
    "for idx, column in enumerate(data_nan.T):\n",
    "    mean = np.mean(column)\n",
    "    variance = np.var(column)\n",
    "    for entry, value in enumerate(column):\n",
    "        data_nan[entry, idx] = (value - mean)/variance"
   ]
  },
  {
   "cell_type": "code",
   "execution_count": 12,
   "metadata": {},
   "outputs": [],
   "source": [
    "# COMPRESS DATA BY PCA. Note that this is an unsupervised method and might not be a good alternative\n",
    "\n",
    "# pca_ = pca(percent_rep=0.9)\n",
    "# pca_.fit(data_nan)\n",
    "# pca_data = pca_.transform(data_nan)\n",
    "#\n",
    "# pca_data_A = []\n",
    "# pca_data_B = []\n",
    "# for idx, entry in enumerate(labels_select):\n",
    "#     if entry == 1:\n",
    "#         pca_data_A.append(pca_data[idx])\n",
    "#     else:\n",
    "#         pca_data_B.append(pca_data[idx])\n",
    "# pca_data_A = np.array(pca_data_A)\n",
    "# pca_data_B = np.array(pca_data_B)\n",
    "#\n",
    "# fig = plt.figure()\n",
    "# scattered = plt.axes(projection = '3d')\n",
    "# scattered.scatter3D(pca_data_A[:,0], pca_data_A[:,1], pca_data_A[:,2], c='blue')\n",
    "# scattered.scatter3D(pca_data_B[:,0], pca_data_B[:,1], pca_data_B[:,2], c='red')\n",
    "#\n",
    "# plt.show()\n",
    "# pca_int = logreg.add_int(pca_data)\n",
    "# prediction = logreg.predict_class(pca_int)\n",
    "# print(prediction)\n",
    "\n",
    "# add some non-linear variants of each of the features that are included in the data set\n",
    "# do this by constructing a new array, which will then be concatenated with the old one\n",
    "# note that the addition of the squared features increases accuracy by a few percentage\n",
    "# but there is a smaller, but clear, difference with the cubed features\n"
   ]
  },
  {
   "cell_type": "code",
   "execution_count": 13,
   "metadata": {},
   "outputs": [],
   "source": [
    "# concatenate_me = []\n",
    "\n",
    "# for col in data_nan.T:\n",
    "#     col_squared = [entry**2 for entry in col]\n",
    "#     col_cubed = [entry ** 3 for entry in col]\n",
    "#     concatenate_me.append(col_squared)\n",
    "#     concatenate_me.append(col_cubed)\n",
    "\n",
    "# concatenate_me = np.array(concatenate_me).T\n",
    "# data_concatenated = np.concatenate((data_nan, concatenate_me), axis=1)"
   ]
  },
  {
   "cell_type": "code",
   "execution_count": 14,
   "metadata": {},
   "outputs": [
    {
     "data": {
      "text/plain": [
       "(909, 23)"
      ]
     },
     "execution_count": 14,
     "metadata": {},
     "output_type": "execute_result"
    }
   ],
   "source": [
    "data_nan.shape\n"
   ]
  },
  {
   "cell_type": "code",
   "execution_count": null,
   "metadata": {},
   "outputs": [],
   "source": [
    "%load_ext autoreload\n",
    "%autoreload 2\n",
    "\n",
    "\n",
    "\n",
    "\n"
   ]
  },
  {
   "cell_type": "code",
   "execution_count": 35,
   "metadata": {
    "scrolled": true
   },
   "outputs": [
    {
     "name": "stdout",
     "output_type": "stream",
     "text": [
      "The autoreload extension is already loaded. To reload it, use:\n",
      "  %reload_ext autoreload\n"
     ]
    },
    {
     "name": "stderr",
     "output_type": "stream",
     "text": [
      "C:\\Users\\remy\\Documents\\machine_learning\\project_1\\implementations.py:155: RuntimeWarning: divide by zero encountered in log\n",
      "  return (-y * np.log(h) - (1 - y) * np.log(1 - h)).mean()\n",
      "C:\\Users\\remy\\Documents\\machine_learning\\project_1\\implementations.py:155: RuntimeWarning: invalid value encountered in multiply\n",
      "  return (-y * np.log(h) - (1 - y) * np.log(1 - h)).mean()\n"
     ]
    },
    {
     "name": "stdout",
     "output_type": "stream",
     "text": [
      "iteration: 0 | accuracy : 0.43471479500891264, loss : nan\n",
      "iteration: 500 | accuracy : 0.5934714795008913, loss : 1.0892098101847942\n",
      "iteration: 1000 | accuracy : 0.6281194295900179, loss : 0.7670669352752669\n",
      "iteration: 1500 | accuracy : 0.670120320855615, loss : nan\n",
      "iteration: 2000 | accuracy : 0.6720142602495544, loss : 0.6401741389912253\n",
      "iteration: 2500 | accuracy : 0.6915106951871658, loss : nan\n",
      "iteration: 3000 | accuracy : 0.6946301247771836, loss : 0.5842166790386295\n",
      "iteration: 3500 | accuracy : 0.7004233511586453, loss : 0.5772469895126368\n",
      "iteration: 4000 | accuracy : 0.7027629233511586, loss : 0.5750838187532412\n",
      "iteration: 4500 | accuracy : 0.6878342245989305, loss : inf\n",
      "iteration: 5000 | accuracy : 0.7030971479500892, loss : nan\n",
      "iteration: 5500 | accuracy : 0.7039884135472371, loss : nan\n",
      "iteration: 6000 | accuracy : 0.7090017825311943, loss : 0.567219663628794\n",
      "iteration: 6500 | accuracy : 0.7092245989304813, loss : 0.5657530935181705\n",
      "iteration: 7000 | accuracy : 0.7074420677361853, loss : 0.6049953934603916\n",
      "iteration: 7500 | accuracy : 0.7129010695187166, loss : 0.56839195884392\n",
      "iteration: 8000 | accuracy : 0.7124554367201426, loss : 0.5703110940033703\n",
      "iteration: 8500 | accuracy : 0.7108957219251337, loss : 0.5854748298089998\n",
      "iteration: 9000 | accuracy : 0.7038770053475936, loss : 0.5770764892607215\n",
      "iteration: 9500 | accuracy : 0.7102272727272727, loss : 0.5600892613990436\n",
      "iteration: 0 | accuracy : 0.43404634581105167, loss : nan\n",
      "iteration: 500 | accuracy : 0.5907976827094474, loss : 1.0778896692943145\n",
      "iteration: 1000 | accuracy : 0.635806595365419, loss : 0.7504531799399715\n",
      "iteration: 1500 | accuracy : 0.6570855614973262, loss : 0.6476924342671416\n",
      "iteration: 2000 | accuracy : 0.6746880570409982, loss : 0.6053580077363161\n",
      "iteration: 2500 | accuracy : 0.6909536541889483, loss : 0.5854816946160465\n",
      "iteration: 3000 | accuracy : 0.6974153297682709, loss : 0.5752392900206614\n",
      "iteration: 3500 | accuracy : 0.7010918003565062, loss : 0.5695180617361658\n",
      "iteration: 4000 | accuracy : 0.7018716577540107, loss : 0.5660594216125283\n",
      "iteration: 4500 | accuracy : 0.7049910873440285, loss : 0.563798930962855\n",
      "iteration: 5000 | accuracy : 0.7054367201426025, loss : 0.562209345722064\n",
      "iteration: 5500 | accuracy : 0.70599376114082, loss : 0.5610178638287202\n",
      "iteration: 6000 | accuracy : 0.7067736185383244, loss : 0.5600771780981957\n",
      "iteration: 6500 | accuracy : 0.7072192513368984, loss : 0.5593040843953465\n",
      "iteration: 7000 | accuracy : 0.7071078431372549, loss : 0.5586492608992506\n",
      "iteration: 7500 | accuracy : 0.7090017825311943, loss : 0.5580819574166184\n",
      "iteration: 8000 | accuracy : 0.7103386809269162, loss : 0.5575820163599906\n",
      "iteration: 8500 | accuracy : 0.7123440285204992, loss : 0.5571355865431183\n",
      "iteration: 9000 | accuracy : 0.7131238859180036, loss : 0.5567327419946444\n",
      "iteration: 9500 | accuracy : 0.7122326203208557, loss : 0.5563661093596972\n"
     ]
    }
   ],
   "source": [
    "# perform the linear regression\n",
    "# i just noticed that the prediction accuracy also depends quite a bit on the initialized w.\n",
    "# for example if you initialize them all to ones instead of zeros, accuracy increases. overfitting?\n",
    "\n",
    "\n",
    "\n",
    "logreg_SGD = LogisticRegression(writing=True)\n",
    "accuracy_SGD, loss_SGD = logreg_SGD.fit(data_nan, y,\"sgd\")\n",
    "\n",
    "logreg_GD = LogisticRegression(writing=True)\n",
    "accuracy_GD, loss_GD = logreg.fit(data_nan, y,\"gd\")"
   ]
  },
  {
   "cell_type": "code",
   "execution_count": 36,
   "metadata": {},
   "outputs": [
    {
     "data": {
      "text/plain": [
       "[<matplotlib.lines.Line2D at 0x1cfd8657dd8>]"
      ]
     },
     "execution_count": 36,
     "metadata": {},
     "output_type": "execute_result"
    },
    {
     "data": {
      "image/png": "[encoded data removed]",
      "text/plain": [
       "<Figure size 432x288 with 1 Axes>"
      ]
     },
     "metadata": {},
     "output_type": "display_data"
    }
   ],
   "source": [
    "plt.plot(accuracy_GD)\n",
    "plt.plot(accuracy_SGD)\n"
   ]
  },
  {
   "cell_type": "code",
   "execution_count": 25,
   "metadata": {},
   "outputs": [],
   "source": [
    "# SPLIT DATA\n",
    "\n",
    "#(X_train, y_train, X_test, y_test) = test_train(data, labels, test_ratio=0.3)  # split into train and test set\n",
    "\n",
    "\n",
    "np.set_printoptions(precision=3)\n",
    "np.set_printoptions(threshold=np.nan)\n",
    "\n",
    "# # CALCULATE FISHER SCORE VARIANT\n",
    "#\n",
    "# scores = []\n",
    "# means_A = []\n",
    "# var_A = []\n",
    "# means_B = []\n",
    "# var_B = []\n",
    "# class_A = np.array(data_nan[np.argwhere(y == 1)])# separate out classes\n",
    "# class_A = class_A[:,0,:]\n",
    "# class_B = np.array(data_nan[np.argwhere(y == 0)])\n",
    "# class_B = class_B[:,0,:]\n",
    "#\n",
    "# for c in class_A.T:\n",
    "#     means_A.append(np.mean(c))\n",
    "#     var_A.append(np.var(c))\n",
    "# for c in class_B.T:\n",
    "#     means_B.append(np.mean(c))\n",
    "#     var_B.append(np.mean(c))\n",
    "# for x in range(len(means_A)):\n",
    "#     scores.append(means_A[x] - means_B[x]) # score function\n",
    "# print(np.array(scores))\n",
    "#\n",
    "#\n",
    "# # fig = plt.figure()\n",
    "# # scattered = plt.axes(projection = '3d')\n",
    "# # scattered.scatter3D(class_A[:,12], class_A[:,28], class_A[:,4], c='blue')\n",
    "# # scattered.scatter3D(class_B[:,12], class_B[:,28], class_B[:,4], c='red')\n",
    "# fig = plt.figure()\n",
    "# plt.scatter(class_B[:,12], class_B[:,10], c='blue', alpha=0.2)\n",
    "# plt.scatter(class_A[:,12], class_A[:,10], c='red', alpha=0.2)\n",
    "#\n",
    "# plt.show()\n"
   ]
  }
 ],
 "metadata": {
  "kernelspec": {
   "display_name": "Python 3",
   "language": "python",
   "name": "python3"
  },
  "language_info": {
   "codemirror_mode": {
    "name": "ipython",
    "version": 3
   },
   "file_extension": ".py",
   "mimetype": "text/x-python",
   "name": "python",
   "nbconvert_exporter": "python",
   "pygments_lexer": "ipython3",
   "version": "3.6.5"
  }
 },
 "nbformat": 4,
 "nbformat_minor": 2
}
