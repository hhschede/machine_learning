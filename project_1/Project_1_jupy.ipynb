{
 "cells": [
  {
   "cell_type": "code",
   "execution_count": 2,
   "metadata": {},
   "outputs": [],
   "source": [
    "# the imports\n",
    "import csv\n",
    "import numpy as np\n",
    "import matplotlib.pyplot as plt\n",
    "from mpl_toolkits import mplot3d\n",
    "import datetime"
   ]
  },
  {
   "cell_type": "code",
   "execution_count": 3,
   "metadata": {},
   "outputs": [],
   "source": [
    "# import all the important functions\n",
    "from implementations import *\n",
    "from helpers import *"
   ]
  },
  {
   "cell_type": "code",
   "execution_count": 5,
   "metadata": {},
   "outputs": [],
   "source": [
    "#upload data\n",
    "(labels, data, ids) = load_csv_data(\"../../data/train.csv\")  # load data"
   ]
  },
  {
   "cell_type": "code",
   "execution_count": 7,
   "metadata": {
    "scrolled": true
   },
   "outputs": [
    {
     "name": "stdout",
     "output_type": "stream",
     "text": [
      "(250000,)\n",
      "(250000, 30)\n",
      "(250000,)\n"
     ]
    }
   ],
   "source": [
    "print(labels.shape)\n",
    "print(data.shape)\n",
    "print(ids.shape)"
   ]
  },
  {
   "cell_type": "code",
   "execution_count": 61,
   "metadata": {},
   "outputs": [],
   "source": [
    "# set values of -999 to NaN. \n",
    "# Then calculate the means of the features. \n",
    "# Replace NaN values with new values.\n",
    "\n",
    "data_process = np.array(data[:,:])\n",
    "labels_select = np.array(labels[:])\n",
    "lab = []\n",
    "\n",
    "for entry in labels_select:\n",
    "    if int(entry) == 1:\n",
    "        lab.append(1)\n",
    "    else:\n",
    "        lab.append(0)\n",
    "lab = np.array(lab)\n",
    "data_process[data_process == -999] = np.nan\n"
   ]
  },
  {
   "cell_type": "code",
   "execution_count": 62,
   "metadata": {},
   "outputs": [],
   "source": [
    "# filter out really shitty features\n",
    "# retrieve percentage for each feature \n",
    "# - how many nan's are there?\n",
    "\n",
    "nan_count = []\n",
    "for c in data_process.T:\n",
    "    count = 0\n",
    "    for e in c:\n",
    "        if np.isnan(e):\n",
    "            count += 1\n",
    "    pcent = count / data_process.shape[0]\n",
    "    nan_count.append(pcent)"
   ]
  },
  {
   "cell_type": "code",
   "execution_count": 63,
   "metadata": {},
   "outputs": [],
   "source": [
    "# filter out features which have nan values of 50%\n",
    "\n",
    "data_set_filtered = []\n",
    "for idx, entry in enumerate(nan_count):\n",
    "    if entry < 0.6:\n",
    "        #append the column of the original dataset that is good\n",
    "        data_set_filtered.append(data_process.T[idx]) \n",
    "#save that shit as an np array\n",
    "data_set_filtered = np.array(data_set_filtered).T #save that shit as an np array"
   ]
  },
  {
   "cell_type": "code",
   "execution_count": 64,
   "metadata": {},
   "outputs": [],
   "source": [
    "# filter out samples that have more than half of their features as nan (crappy samples)\n",
    "\n",
    "nan_count_2 = []\n",
    "data_set_filtered_2 = [] # dataset filtered for columns and samples\n",
    "y = [] # array that gets rid of entries that are no longer corresponding in the dataframe\n",
    "for sample in data_set_filtered:\n",
    "    count = 0\n",
    "    for col in sample:\n",
    "        if np.isnan(col):\n",
    "            count += 1\n",
    "    pcent = count / data_set_filtered.shape[1]\n",
    "    nan_count_2.append(pcent)\n",
    "\n",
    "for idx, entry in enumerate(nan_count_2):\n",
    "    if entry < 0.15:\n",
    "        y.append(lab[idx])\n",
    "        data_set_filtered_2.append(data_set_filtered[idx])\n",
    "data_set_filtered_2 = np.array(data_set_filtered_2) # turn dat shit into an array\n",
    "y = np.array(y) # also this one gotta be an array"
   ]
  },
  {
   "cell_type": "code",
   "execution_count": 65,
   "metadata": {},
   "outputs": [
    {
     "name": "stdout",
     "output_type": "stream",
     "text": [
      "The original dimensions of the training data set was 250000 samples and 30 columns. After feature and sample filtering, there are 223877 samples and 23 columns\n"
     ]
    }
   ],
   "source": [
    "# print new dimensions of the dataframe after filtering\n",
    "\n",
    "print('The original dimensions of the training data set was {0} samples'\n",
    "      ' and {1} columns. After feature and sample filtering, there are'\n",
    "      ' {2} samples and {3} columns'.format(data_process.shape[0],\n",
    "                                            data_process.shape[1],\n",
    "                                            data_set_filtered_2.shape[0],\n",
    "                                            data_set_filtered_2.shape[1]))\n"
   ]
  },
  {
   "cell_type": "code",
   "execution_count": 66,
   "metadata": {},
   "outputs": [],
   "source": [
    "# variable reassigned\n",
    "data_nan = data_set_filtered_2.copy() \n",
    "# create list with average values of columns, excluding nans\n",
    "column_means = [] \n",
    "for column in data_nan.T:\n",
    "    column_means.append(np.nanmean(column))\n",
    "    \n",
    "\n",
    "# variable containing locations of nan in data frame\n",
    "inds = np.where(np.isnan(data_nan)) \n",
    "# reassign locations of nan to the column means\n",
    "data_nan[inds] = np.take(column_means, inds[1]) "
   ]
  },
  {
   "cell_type": "code",
   "execution_count": 67,
   "metadata": {},
   "outputs": [],
   "source": [
    "# standardize and normalize the features\n",
    "column_variance = []\n",
    "for idx, column in enumerate(data_nan.T):\n",
    "    mean = np.mean(column)\n",
    "    variance = np.var(column)\n",
    "    for entry, value in enumerate(column):\n",
    "        data_nan[entry, idx] = (value - mean)/variance"
   ]
  },
  {
   "cell_type": "code",
   "execution_count": 75,
   "metadata": {
    "scrolled": false
   },
   "outputs": [
    {
     "name": "stdout",
     "output_type": "stream",
     "text": [
      "The autoreload extension is already loaded. To reload it, use:\n",
      "  %reload_ext autoreload\n"
     ]
    },
    {
     "name": "stderr",
     "output_type": "stream",
     "text": [
      "C:\\Users\\remy\\Documents\\machine_learning\\project_1\\Project_without_class\\implementations.py:18: RuntimeWarning: divide by zero encountered in log\n",
      "  loss = (-y * np.log(tx) - (1 - y) * np.log(1 - tx)).mean()\n",
      "C:\\Users\\remy\\Documents\\machine_learning\\project_1\\Project_without_class\\implementations.py:18: RuntimeWarning: invalid value encountered in multiply\n",
      "  loss = (-y * np.log(tx) - (1 - y) * np.log(1 - tx)).mean()\n"
     ]
    },
    {
     "data": {
      "image/png": "[encoded data removed]",
      "text/plain": [
       "<Figure size 432x288 with 1 Axes>"
      ]
     },
     "metadata": {},
     "output_type": "display_data"
    },
    {
     "data": {
      "image/png": "[encoded data removed]",
      "text/plain": [
       "<Figure size 432x288 with 1 Axes>"
      ]
     },
     "metadata": {},
     "output_type": "display_data"
    },
    {
     "name": "stdout",
     "output_type": "stream",
     "text": [
      "0.668\n"
     ]
    }
   ],
   "source": [
    "%load_ext autoreload\n",
    "%autoreload 2\n",
    "\n",
    "X = prepare_data_order_3(data_nan)\n",
    "initial_w = np.ones(X.shape[1])\n",
    "\n",
    "test_loss,w, test_acc = logistic_regression(y, X, initial_w, max_iters = 1000, gamma = 0.05, method = \"sgd\", writing = False)\n",
    "plt.plot(test_loss)\n",
    "plt.show()\n",
    "plt.plot(test_acc)\n",
    "plt.show()\n",
    "\n",
    "print(test_acc[-1])"
   ]
  },
  {
   "cell_type": "code",
   "execution_count": 76,
   "metadata": {},
   "outputs": [
    {
     "data": {
      "text/plain": [
       "0.78"
      ]
     },
     "execution_count": 76,
     "metadata": {},
     "output_type": "execute_result"
    }
   ],
   "source": [
    "max(test_acc)"
   ]
  },
  {
   "cell_type": "code",
   "execution_count": 59,
   "metadata": {},
   "outputs": [
    {
     "name": "stderr",
     "output_type": "stream",
     "text": [
      "C:\\Users\\remy\\Documents\\machine_learning\\project_1\\Project_without_class\\implementations.py:18: RuntimeWarning: divide by zero encountered in log\n",
      "  loss = (-y * np.log(tx) - (1 - y) * np.log(1 - tx)).mean()\n",
      "C:\\Users\\remy\\Documents\\machine_learning\\project_1\\Project_without_class\\implementations.py:18: RuntimeWarning: invalid value encountered in multiply\n",
      "  loss = (-y * np.log(tx) - (1 - y) * np.log(1 - tx)).mean()\n"
     ]
    }
   ],
   "source": [
    "\n",
    "val_acc = []\n",
    "val_loss = []\n",
    "for i in range(len(w)):\n",
    "    h = sigmoid(np.dot(X, w[i]))\n",
    "    val_acc.append(compute_accuracy_logistic_regression(h,y))\n",
    "    val_loss.append(compute_loss(y, h, w[i], method = \"logistic\"))"
   ]
  },
  {
   "cell_type": "code",
   "execution_count": 60,
   "metadata": {},
   "outputs": [
    {
     "data": {
      "text/plain": [
       "[<matplotlib.lines.Line2D at 0x191d648c240>]"
      ]
     },
     "execution_count": 60,
     "metadata": {},
     "output_type": "execute_result"
    },
    {
     "data": {
      "image/png": "[encoded data removed]",
      "text/plain": [
       "<Figure size 432x288 with 1 Axes>"
      ]
     },
     "metadata": {},
     "output_type": "display_data"
    }
   ],
   "source": [
    "plt.plot(val_acc)"
   ]
  },
  {
   "cell_type": "code",
   "execution_count": 70,
   "metadata": {},
   "outputs": [
    {
     "name": "stdout",
     "output_type": "stream",
     "text": [
      "The autoreload extension is already loaded. To reload it, use:\n",
      "  %reload_ext autoreload\n",
      "Gradient Descent(0/9999): loss=23.940603511649314, w0=0.6116308636215155, w1=1.000661435722479\n",
      "Gradient Descent(500/9999): loss=0.2551575478917232, w0=-0.9344577587702134, w1=0.970705133616901\n",
      "Gradient Descent(1000/9999): loss=19850.29963149452, w0=-2.4627929822171786, w1=0.8754130606684445\n",
      "Gradient Descent(1500/9999): loss=280.9829756573092, w0=-8.945090352097619, w1=-2.422211716050518\n",
      "Gradient Descent(2000/9999): loss=36.75833902536178, w0=-9.378608435010065, w1=-2.453490238112599\n",
      "Gradient Descent(2500/9999): loss=7858752137.528243, w0=29148.10385845526, w1=-727.533507132826\n"
     ]
    },
    {
     "ename": "KeyboardInterrupt",
     "evalue": "",
     "output_type": "error",
     "traceback": [
      "\u001b[1;31m---------------------------------------------------------------------------\u001b[0m",
      "\u001b[1;31mKeyboardInterrupt\u001b[0m                         Traceback (most recent call last)",
      "\u001b[1;32m<ipython-input-70-e9cd651c470b>\u001b[0m in \u001b[0;36m<module>\u001b[1;34m()\u001b[0m\n\u001b[0;32m      5\u001b[0m \u001b[0minitial_w\u001b[0m \u001b[1;33m=\u001b[0m \u001b[0mnp\u001b[0m\u001b[1;33m.\u001b[0m\u001b[0mones\u001b[0m\u001b[1;33m(\u001b[0m\u001b[0mX\u001b[0m\u001b[1;33m.\u001b[0m\u001b[0mshape\u001b[0m\u001b[1;33m[\u001b[0m\u001b[1;36m1\u001b[0m\u001b[1;33m]\u001b[0m\u001b[1;33m)\u001b[0m\u001b[1;33m\u001b[0m\u001b[0m\n\u001b[0;32m      6\u001b[0m \u001b[1;33m\u001b[0m\u001b[0m\n\u001b[1;32m----> 7\u001b[1;33m \u001b[0mtest_loss\u001b[0m\u001b[1;33m,\u001b[0m \u001b[0mw\u001b[0m\u001b[1;33m,\u001b[0m \u001b[0mtest_acc\u001b[0m \u001b[1;33m=\u001b[0m \u001b[0mstochastic_gradient_descent\u001b[0m\u001b[1;33m(\u001b[0m\u001b[0my\u001b[0m\u001b[1;33m,\u001b[0m \u001b[0mX\u001b[0m\u001b[1;33m,\u001b[0m \u001b[0minitial_w\u001b[0m\u001b[1;33m,\u001b[0m \u001b[0mwrite\u001b[0m \u001b[1;33m=\u001b[0m \u001b[1;32mTrue\u001b[0m\u001b[1;33m)\u001b[0m\u001b[1;33m\u001b[0m\u001b[0m\n\u001b[0m",
      "\u001b[1;32m~\\Documents\\machine_learning\\project_1\\Project_without_class\\implementations.py\u001b[0m in \u001b[0;36mstochastic_gradient_descent\u001b[1;34m(y, tx, initial_w, batch_size, max_iters, gamma, write)\u001b[0m\n\u001b[0;32m     64\u001b[0m \u001b[1;33m\u001b[0m\u001b[0m\n\u001b[0;32m     65\u001b[0m     \u001b[1;32mfor\u001b[0m \u001b[0mn_iter\u001b[0m \u001b[1;32min\u001b[0m \u001b[0mrange\u001b[0m\u001b[1;33m(\u001b[0m\u001b[0mmax_iters\u001b[0m\u001b[1;33m)\u001b[0m\u001b[1;33m:\u001b[0m\u001b[1;33m\u001b[0m\u001b[0m\n\u001b[1;32m---> 66\u001b[1;33m         \u001b[1;32mfor\u001b[0m \u001b[0mmini_y\u001b[0m\u001b[1;33m,\u001b[0m \u001b[0mmini_tx\u001b[0m \u001b[1;32min\u001b[0m \u001b[0mbatch_iter\u001b[0m\u001b[1;33m(\u001b[0m\u001b[0my\u001b[0m\u001b[1;33m,\u001b[0m \u001b[0mtx\u001b[0m\u001b[1;33m,\u001b[0m \u001b[1;36m32\u001b[0m\u001b[1;33m)\u001b[0m\u001b[1;33m:\u001b[0m\u001b[1;33m\u001b[0m\u001b[0m\n\u001b[0m\u001b[0;32m     67\u001b[0m             \u001b[0mgd\u001b[0m \u001b[1;33m=\u001b[0m \u001b[0mcompute_gradient\u001b[0m\u001b[1;33m(\u001b[0m\u001b[0mmini_y\u001b[0m\u001b[1;33m,\u001b[0m \u001b[0mmini_tx\u001b[0m\u001b[1;33m,\u001b[0m \u001b[0mw\u001b[0m\u001b[1;33m)\u001b[0m\u001b[1;33m\u001b[0m\u001b[0m\n\u001b[0;32m     68\u001b[0m             \u001b[0mw\u001b[0m \u001b[1;33m=\u001b[0m \u001b[0mw\u001b[0m \u001b[1;33m-\u001b[0m \u001b[0mgamma\u001b[0m\u001b[1;33m*\u001b[0m\u001b[0mgd\u001b[0m\u001b[1;33m\u001b[0m\u001b[0m\n",
      "\u001b[1;32m~\\Documents\\machine_learning\\project_1\\Project_without_class\\helpers.py\u001b[0m in \u001b[0;36mbatch_iter\u001b[1;34m(y, tx, batch_size, num_batches, shuffle)\u001b[0m\n\u001b[0;32m    121\u001b[0m         \u001b[1;31m# example np.random.permutation(np.arange(5)) = 4, 0, 2, 3, 1\u001b[0m\u001b[1;33m\u001b[0m\u001b[1;33m\u001b[0m\u001b[0m\n\u001b[0;32m    122\u001b[0m         \u001b[0mshuffled_y\u001b[0m \u001b[1;33m=\u001b[0m \u001b[0my\u001b[0m\u001b[1;33m[\u001b[0m\u001b[0mshuffle_indices\u001b[0m\u001b[1;33m]\u001b[0m\u001b[1;33m\u001b[0m\u001b[0m\n\u001b[1;32m--> 123\u001b[1;33m         \u001b[0mshuffled_tx\u001b[0m \u001b[1;33m=\u001b[0m \u001b[0mtx\u001b[0m\u001b[1;33m[\u001b[0m\u001b[0mshuffle_indices\u001b[0m\u001b[1;33m]\u001b[0m\u001b[1;33m\u001b[0m\u001b[0m\n\u001b[0m\u001b[0;32m    124\u001b[0m     \u001b[1;32melse\u001b[0m\u001b[1;33m:\u001b[0m\u001b[1;33m\u001b[0m\u001b[0m\n\u001b[0;32m    125\u001b[0m         \u001b[0mshuffled_y\u001b[0m \u001b[1;33m=\u001b[0m \u001b[0my\u001b[0m\u001b[1;33m\u001b[0m\u001b[0m\n",
      "\u001b[1;31mKeyboardInterrupt\u001b[0m: "
     ]
    }
   ],
   "source": [
    "%load_ext autoreload\n",
    "%autoreload 2\n",
    "\n",
    "X = prepare_data_order_2(data_nan)\n",
    "initial_w = np.ones(X.shape[1])\n",
    "\n",
    "test_loss, w, test_acc = stochastic_gradient_descent(y, X, initial_w, write = True)\n"
   ]
  },
  {
   "cell_type": "code",
   "execution_count": 71,
   "metadata": {},
   "outputs": [
    {
     "data": {
      "image/png": "[encoded data removed]",
      "text/plain": [
       "<Figure size 432x288 with 1 Axes>"
      ]
     },
     "metadata": {},
     "output_type": "display_data"
    }
   ],
   "source": [
    "plt.plot(test_loss)\n",
    "plt.show()\n",
    "\n"
   ]
  },
  {
   "cell_type": "code",
   "execution_count": null,
   "metadata": {},
   "outputs": [],
   "source": []
  }
 ],
 "metadata": {
  "kernelspec": {
   "display_name": "Python 3",
   "language": "python",
   "name": "python3"
  },
  "language_info": {
   "codemirror_mode": {
    "name": "ipython",
    "version": 3
   },
   "file_extension": ".py",
   "mimetype": "text/x-python",
   "name": "python",
   "nbconvert_exporter": "python",
   "pygments_lexer": "ipython3",
   "version": "3.6.5"
  }
 },
 "nbformat": 4,
 "nbformat_minor": 2
}
