{
 "cells": [
  {
   "cell_type": "code",
   "execution_count": 410,
   "metadata": {},
   "outputs": [],
   "source": [
    "# Importing\n",
    "\n",
    "# modules\n",
    "import csv\n",
    "import numpy as np\n",
    "import matplotlib.pyplot as plt\n",
    "from mpl_toolkits import mplot3d\n",
    "import datetime\n",
    "\n",
    "# functions\n",
    "from implementations import *\n",
    "from helpers import *\n",
    "\n",
    "#data\n",
    "(labels, data, ids) = load_csv_data(\"data/train.csv\")  # load data"
   ]
  },
  {
   "cell_type": "code",
   "execution_count": 411,
   "metadata": {},
   "outputs": [
    {
     "name": "stdout",
     "output_type": "stream",
     "text": [
      "The original dimensions of the training data set was 10000 samples and 30 columns. After feature and sample filtering, there are 8976 samples and 23 columns\n",
      "Standardized and randomized samples are found as the variables X_train, y_train, X_test, y_test. Values are split for testing and training sets with the test_ratio of 0.3\n"
     ]
    }
   ],
   "source": [
    "# Function that returns tuple (data_processed and new_labels)\n",
    "\n",
    "def process_data(data, labels, sample_filtering=True, feature_filtering=True):\n",
    "    # Preparing data\n",
    "\n",
    "    # set values of -999 to NaN. \n",
    "    # Then calculate the means of the features. \n",
    "    # Replace NaN values with new values.\n",
    "\n",
    "    data_process = np.array(data[:10000,:])\n",
    "    labels_select = np.array(labels[:10000])\n",
    "    lab = []\n",
    "    for entry in labels_select:\n",
    "        if int(entry) == 1:\n",
    "            lab.append(1)\n",
    "        else:\n",
    "            lab.append(0)\n",
    "    lab = np.array(lab)\n",
    "    data_process[data_process == -999] = np.nan\n",
    "\n",
    "    # Filtering weak features and samples\n",
    "\n",
    "    # retrieve percentage for each feature \n",
    "    # - how many nan's are there?\n",
    "    \n",
    "    if feature_filtering:\n",
    "        nan_count = []\n",
    "        for c in data_process.T:\n",
    "            count = 0\n",
    "            for e in c:\n",
    "                if np.isnan(e):\n",
    "                    count += 1\n",
    "            pcent = count / data_process.shape[0]\n",
    "            nan_count.append(pcent)\n",
    "\n",
    "        # filter out features which have nan values of 50%\n",
    "\n",
    "        data_set_filtered = []\n",
    "        for idx, entry in enumerate(nan_count):\n",
    "            if entry < 0.6:\n",
    "                #append the column of the original dataset that is good\n",
    "                data_set_filtered.append(data_process.T[idx]) \n",
    "        #save that shit as an np array\n",
    "        data_set_filtered = np.array(data_set_filtered).T #save that shit as an np array\n",
    "        \n",
    "    if sample_filtering:\n",
    "        nan_count_2 = []\n",
    "        data_set_filtered_2 = [] # dataset filtered for columns and samples\n",
    "        y = [] # array that gets rid of entries that are no longer corresponding in the dataframe\n",
    "        for sample in data_set_filtered:\n",
    "            count = 0\n",
    "            for col in sample:\n",
    "                if np.isnan(col):\n",
    "                    count += 1\n",
    "            pcent = count / data_set_filtered.shape[1]\n",
    "            nan_count_2.append(pcent)\n",
    "\n",
    "        for idx, entry in enumerate(nan_count_2):\n",
    "            if entry < 0.15:\n",
    "                y.append(lab[idx])\n",
    "                data_set_filtered_2.append(data_set_filtered[idx])\n",
    "        data_set_filtered_2 = np.array(data_set_filtered_2) # turn dat shit into an array\n",
    "        y = np.array(y) # also this one gotta be an array\n",
    "\n",
    "\n",
    "    # print new dimensions of the dataframe after filtering\n",
    "\n",
    "    print('The original dimensions of the training data set was {0} samples'\n",
    "          ' and {1} columns. After feature and sample filtering, there are'\n",
    "          ' {2} samples and {3} columns'.format(data_process.shape[0],\n",
    "                                                data_process.shape[1],\n",
    "                                                data_set_filtered_2.shape[0],\n",
    "                                                data_set_filtered_2.shape[1]))\n",
    "\n",
    "    # Getting Rid of NAN and Replacing with Mean\n",
    "\n",
    "    # variable reassigned\n",
    "    data_nan = data_set_filtered_2.copy() \n",
    "    # create list with average values of columns, excluding nans\n",
    "    column_means = [] \n",
    "    for column in data_nan.T:\n",
    "        column_means.append(np.nanmean(column))\n",
    "    # variable containing locations of nan in data frame\n",
    "    inds = np.where(np.isnan(data_nan)) \n",
    "    # reassign locations of nan to the column means\n",
    "    data_nan[inds] = np.take(column_means, inds[1])\n",
    "    return (data_nan, y)\n",
    "\n",
    "def standardize(data):\n",
    "     # standardize and normalize the features\n",
    "    for idx, column in enumerate(data.T):\n",
    "        mean = np.mean(column)\n",
    "        variance = np.std(column)\n",
    "        for entry, value in enumerate(column):\n",
    "            data[entry, idx] = (value - mean)/variance\n",
    "    return data\n",
    "\n",
    "(new_data, new_labels) = process_data(data, labels)\n",
    "data_std = standardize(new_data)\n",
    "\n",
    "# Shuffle data and create training and testing sections\n",
    "test_ratio_ = 0.3\n",
    "X_train, y_train, X_test, y_test = test_train(data_std, new_labels, test_ratio = test_ratio_)\n",
    "X_train = np.asarray(X_train)\n",
    "X_test = np.asarray(X_test)\n",
    "print('Standardized and randomized samples are found as the variables X_train, y_train, X_test, y_test. Values' +\n",
    "      ' are split for testing and training sets with the test_ratio of {}'.format(test_ratio_))"
   ]
  },
  {
   "cell_type": "code",
   "execution_count": 466,
   "metadata": {},
   "outputs": [],
   "source": [
    "# predict accuracy of logreg\n",
    "\n",
    "def predict_logreg_accuracy(target, training, w):\n",
    "    h = sigmoid(np.dot(training, w))\n",
    "    trues = abs(target - h)\n",
    "    percent = np.count_nonzero(trues)\n",
    "    percent = 1 - np.mean(trues)\n",
    "    return percent"
   ]
  },
  {
   "cell_type": "code",
   "execution_count": 467,
   "metadata": {},
   "outputs": [],
   "source": [
    "# Lets do some regularized Logistic Regression!\n",
    "\n",
    "def reg_logreg(y, tx, initial_w, max_iters = 10000, gamma = 0.01, \n",
    "               lam = 0.1, method = \"sgd\", batch_size = 250, \n",
    "               writing = False, accuracy_scores = True):\n",
    "    \n",
    "    def reg_logreg_loss(y, tx, w, lam):\n",
    "        loss = np.mean((-y * np.log(sigmoid(tx.dot(w))) - (1 - y) * np.log(1 - sigmoid(tx.dot(w)))) + 0.5 * lam * np.linalg.norm(w)) ** 2\n",
    "        return loss\n",
    "\n",
    "    ws = np.zeros([max_iters + 1, tx.shape[1]])\n",
    "    ws[0] = initial_w \n",
    "    losses = []\n",
    "    percents = []\n",
    "    w = initial_w\n",
    "    \n",
    "    if method == \"gd\":\n",
    "        for i in range(max_iters):\n",
    "            h = sigmoid(np.dot(tx, w))\n",
    "            grad = np.dot(tx.T, (h - y)) / y.shape[0] + lam * np.linalg.norm(w) / y.shape[0]\n",
    "            w -= gamma * grad\n",
    "            ws[i+1] = w\n",
    "            losses.append(reg_logreg_loss(y, tx, w, lam))\n",
    "            # print(compute_accuracy_logistic_regression(y, tx, w, threshold = 0.5))\n",
    "            if accuracy_scores:\n",
    "                percents.append(predict_logreg_accuracy(y, tx, w))\n",
    "            if writing:\n",
    "                if i % 500 == 0:\n",
    "                    print(\"iteration: {iter} | loss : {l}\".format(\n",
    "                        iter = i, l=losses[-1] ))\n",
    "                    \n",
    "\n",
    "    if method == \"sgd\":\n",
    "        for i in range(max_iters):   \n",
    "            for mini_y, mini_X in batch_iter(y, tx, batch_size):                \n",
    "                h = sigmoid(np.dot(mini_X, w))\n",
    "                grad = np.dot(mini_X.T, (h - mini_y)) / mini_y.shape[0] + lam * np.linalg.norm(w) / y.shape[0]\n",
    "                w -= gamma * grad\n",
    "                ws[i+1] = w\n",
    "                losses.append(reg_logreg_loss(mini_y, mini_X, w, lam))\n",
    "                if accuracy_scores:\n",
    "                    percents.append(predict_logreg_accuracy(y, tx, w))\n",
    "            if writing:\n",
    "                if i % 500 == 0:\n",
    "                    print(\"iteration: {iter} | loss : {l}\".format(\n",
    "                        iter = i, l=losses[-1] ))\n",
    "\n",
    "    return losses, ws, percents\n"
   ]
  },
  {
   "cell_type": "code",
   "execution_count": 470,
   "metadata": {},
   "outputs": [
    {
     "name": "stderr",
     "output_type": "stream",
     "text": [
      "/anaconda3/envs/ada/lib/python3.6/site-packages/ipykernel/__main__.py:8: RuntimeWarning: divide by zero encountered in log\n",
      "/anaconda3/envs/ada/lib/python3.6/site-packages/ipykernel/__main__.py:8: RuntimeWarning: invalid value encountered in multiply\n"
     ]
    },
    {
     "name": "stdout",
     "output_type": "stream",
     "text": [
      "13.03392152044415 0.7310950524532152\n"
     ]
    }
   ],
   "source": [
    "np.random.RandomState(seed =2)\n",
    "loss, ws, p = reg_logreg(y_train, X_train, \n",
    "                         np.random.randn(X_train.shape[1]), method = 'gd', \n",
    "                         gamma = 0.01, lam = 0.2, max_iters= 10000, \n",
    "                         accuracy_scores = True)\n",
    "\n",
    "# for every ws, compute an accuracy and store the result in percent_test\n",
    "percent_test = []\n",
    "for value in ws:\n",
    "    acc = predict_logreg_accuracy(y_test, X_test, value)\n",
    "    percent_test.append(acc)\n",
    "\n",
    "    \n",
    "print(loss[0],loss[-1])"
   ]
  },
  {
   "cell_type": "code",
   "execution_count": 471,
   "metadata": {},
   "outputs": [
    {
     "data": {
      "image/png": "[encoded data removed]",
      "text/plain": [
       "<Figure size 576x396 with 1 Axes>"
      ]
     },
     "metadata": {},
     "output_type": "display_data"
    }
   ],
   "source": [
    "# print(np.array(p))\n",
    "plt.style.use('seaborn')\n",
    "plt.plot(p)\n",
    "plt.plot(percent_test, c='orange')\n",
    "plt.title('Classification Accuracy Over Iterations')\n",
    "plt.xlabel('Iteration')\n",
    "plt.ylabel('Percent Accuracy')\n",
    "plt.legend(['Training Accuracy', 'Test Accuracy'])\n",
    "plt.show()"
   ]
  },
  {
   "cell_type": "code",
   "execution_count": null,
   "metadata": {},
   "outputs": [],
   "source": []
  }
 ],
 "metadata": {
  "kernelspec": {
   "display_name": "Python [conda env:ada]",
   "language": "python",
   "name": "conda-env-ada-py"
  },
  "language_info": {
   "codemirror_mode": {
    "name": "ipython",
    "version": 3
   },
   "file_extension": ".py",
   "mimetype": "text/x-python",
   "name": "python",
   "nbconvert_exporter": "python",
   "pygments_lexer": "ipython3",
   "version": "3.6.6"
  }
 },
 "nbformat": 4,
 "nbformat_minor": 2
}
