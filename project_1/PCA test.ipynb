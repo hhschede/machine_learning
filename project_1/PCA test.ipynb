{
 "cells": [
  {
   "cell_type": "code",
   "execution_count": 1,
   "metadata": {},
   "outputs": [],
   "source": [
    "# Modules\n",
    "import csv\n",
    "import numpy as np\n",
    "import matplotlib.pyplot as plt\n",
    "from mpl_toolkits import mplot3d\n",
    "import datetime\n",
    "import random\n",
    "\n",
    "# Functions\n",
    "from implementations import *\n",
    "from helpers import *\n",
    "\n",
    "# Autoreload\n",
    "%load_ext autoreload\n",
    "%autoreload 2\n",
    "\n",
    "# Set random seed\n",
    "np.random.seed(1)"
   ]
  },
  {
   "cell_type": "code",
   "execution_count": 2,
   "metadata": {},
   "outputs": [],
   "source": [
    "(labels_raw, data_raw, ids_raw) = load_csv_data(\"data/train.csv\")\n",
    "(t_labels, t_data_raw, t_ids) = load_csv_data(\"data/test.csv\")"
   ]
  },
  {
   "cell_type": "code",
   "execution_count": 3,
   "metadata": {},
   "outputs": [
    {
     "name": "stdout",
     "output_type": "stream",
     "text": [
      "The original dimensions of the training data set was 250000 samples and 30 columns\n",
      " After feature and sample filtering, there are 250000 samples and 30 columns\n"
     ]
    }
   ],
   "source": [
    "data_, data_t_, labels = process_data(data_raw, t_data_raw, labels_raw, ids_raw,sample_filtering = False, feature_filtering = False, replace = 'zero')\n",
    "data, means, variance = standardize(data_)\n",
    "# need to standardize test using moments calculated from training\n",
    "data_t = standardize_test(data_t_, means, variance)"
   ]
  },
  {
   "cell_type": "code",
   "execution_count": 15,
   "metadata": {},
   "outputs": [],
   "source": []
  },
  {
   "cell_type": "code",
   "execution_count": 11,
   "metadata": {},
   "outputs": [],
   "source": [
    "def PCA(data, threshold = 1):\n",
    "    cov_matrix = np.cov(data.T)\n",
    "    eigenVal, eigenVec = np.linalg.eig(cov_matrix)\n",
    "\n",
    "    idx = eigenVal.argsort()[::-1]   \n",
    "    eigenVal = np.asarray(eigenVal[idx])\n",
    "    eigenVec = np.asarray(eigenVec[:,idx])\n",
    "\n",
    "\n",
    "    eigenVal=abs(eigenVal)/sum(abs(eigenVal))\n",
    "\n",
    "\n",
    "    sumEigenVal = [0]\n",
    "    k = 0\n",
    "    while(sumEigenVal[-1]<threshold):\n",
    "        sumEigenVal.append(sumEigenVal[-1] + eigenVal[k])\n",
    "        k = k+1\n",
    "\n",
    "    #keep only kth first dimension\n",
    "    eigenVec=eigenVec[:,:(k)]\n",
    "    \n",
    "    return eigenVal,eigenVec,sumEigenVal"
   ]
  },
  {
   "cell_type": "code",
   "execution_count": 12,
   "metadata": {},
   "outputs": [
    {
     "name": "stdout",
     "output_type": "stream",
     "text": [
      "(30,)\n",
      "(30, 9)\n",
      "10\n"
     ]
    },
    {
     "data": {
      "image/png": "[encoded data removed]",
      "text/plain": [
       "<Figure size 432x288 with 1 Axes>"
      ]
     },
     "metadata": {},
     "output_type": "display_data"
    }
   ],
   "source": [
    "eigVal,eigVec,sumEigVal = PCA(data, threshold = 0.7)\n",
    "plt.plot(sumEigVal)\n",
    "print(eigVal.shape)\n",
    "print(eigVec.shape)\n",
    "print(len(sumEigVal))"
   ]
  },
  {
   "cell_type": "code",
   "execution_count": null,
   "metadata": {},
   "outputs": [],
   "source": [
    "\n",
    "    \n",
    "    \n",
    "    \n",
    "    eigen = eigen.astype(float)\n",
    "    eigenvectors = eigenvectors.astype(float)\n",
    "\n",
    "\n",
    "    # calculate the number of eigenvalues needed to retrieve desired percent\n",
    "    percent = 0\n",
    "    selected_eigenvalues = []\n",
    "    selected_eigenvectors = []\n",
    "\n",
    "    for i in np.arange(1,x.shape[0]):\n",
    "        percent += eigen_sort[-i]/eigen_sort.sum()\n",
    "        selected_eigenvalues.append(eigen_sort[-i])\n",
    "        selected_eigenvectors.append(eigenvector_sort[-i])\n",
    "        if percent > self.percent_rep:\n",
    "            break\n",
    "\n",
    "    self.eigenvalues = np.array(selected_eigenvalues)\n",
    "    self.eigenvectors = np.array(selected_eigenvectors\n",
    "    \n",
    "    return \n",
    "\n",
    "\n",
    "class pca(object):\n",
    "    \"\"\"find principal components and order them by eigenvalue. comes with the two methods fit and transform\"\"\"\n",
    "    def __init__(self, percent_rep):\n",
    "        self.percent_rep = percent_rep # decimal value of the percent of the original data we want to represent\n",
    "        self.eigenvectors = 0\n",
    "        self.eigenvalues = 0\n",
    "\n",
    "    def fit(self, x):\n",
    "        import numpy as np\n",
    "        # x is a dataset that is already standardized as a numpy matrix\n",
    "        # create covariance matrix\n",
    "        cov_matrix = np.cov(x.T)\n",
    "        eigen, eigenvectors = np.linalg.eig(cov_matrix)\n",
    "\n",
    "        eigen = eigen.astype(float)\n",
    "        eigenvectors = eigenvectors.astype(float)\n",
    "        eigen_sort = np.sort(eigen)\n",
    "        eigenvector_sort = eigenvectors[np.argsort(eigen)]\n",
    "\n",
    "        # calculate the number of eigenvalues needed to retrieve desired percent\n",
    "        percent = 0\n",
    "        selected_eigenvalues = []\n",
    "        selected_eigenvectors = []\n",
    "\n",
    "        for i in np.arange(1,x.shape[0]):\n",
    "            percent += eigen_sort[-i]/eigen_sort.sum()\n",
    "            selected_eigenvalues.append(eigen_sort[-i])\n",
    "            selected_eigenvectors.append(eigenvector_sort[-i])\n",
    "            if percent > self.percent_rep:\n",
    "                break\n",
    "\n",
    "        self.eigenvalues = np.array(selected_eigenvalues)\n",
    "        self.eigenvectors = np.array(selected_eigenvectors)\n",
    "        return self.eigenvalues, self.eigenvectors\n",
    "\n",
    "    def transform(self, input):\n",
    "        import numpy as np\n",
    "        transformed = np.dot(self.eigenvectors, input.T).T\n",
    "        return transformed\n",
    "\n",
    "import requests\n",
    "import pandas as pd\n",
    "import numpy as np\n",
    "import io\n",
    "pull = requests.get('https://gist.githubusercontent.com/curran/a08a1080b88344b0c8a7/raw/d546eaee765268bf2f487608c537c05e22e4b221/iris.csv').content\n",
    "data = io.StringIO(pull.decode('utf-8'))\n",
    "iris = pd.read_csv(data, sep=',')\n",
    "iris = iris.iloc[:,[0,1,2,3]]\n",
    "\n",
    "\n",
    "pcomp = pca(percent_rep=0.7)\n",
    "pcomp.fit(iris)\n",
    "print(np.array(pcomp.transform(iris)).shape)\n"
   ]
  }
 ],
 "metadata": {
  "kernelspec": {
   "display_name": "Python 3",
   "language": "python",
   "name": "python3"
  },
  "language_info": {
   "codemirror_mode": {
    "name": "ipython",
    "version": 3
   },
   "file_extension": ".py",
   "mimetype": "text/x-python",
   "name": "python",
   "nbconvert_exporter": "python",
   "pygments_lexer": "ipython3",
   "version": "3.6.5"
  }
 },
 "nbformat": 4,
 "nbformat_minor": 2
}
