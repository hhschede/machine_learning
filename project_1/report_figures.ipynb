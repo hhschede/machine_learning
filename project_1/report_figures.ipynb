{
 "cells": [
  {
   "cell_type": "code",
   "execution_count": 1,
   "metadata": {},
   "outputs": [],
   "source": [
    "# Modules\n",
    "import csv\n",
    "import numpy as np\n",
    "import matplotlib.pyplot as plt\n",
    "from mpl_toolkits import mplot3d\n",
    "import sys\n",
    "import datetime\n",
    "import random\n",
    "import warnings\n",
    "\n",
    "# Functions\n",
    "sys.path.insert(0, './implementations/')\n",
    "from implementations import *\n",
    "from preprocessing import *\n",
    "from pca import *\n",
    "from plot import *\n",
    "from helpers import *\n",
    "\n",
    "# Autoreload\n",
    "%load_ext autoreload\n",
    "%autoreload 2\n",
    "\n",
    "# Set random seed\n",
    "np.random.seed(1)"
   ]
  },
  {
   "cell_type": "code",
   "execution_count": 24,
   "metadata": {},
   "outputs": [
    {
     "name": "stdout",
     "output_type": "stream",
     "text": [
      "The original dimensions of the training data set was 250000 samples and 30 columns\n",
      " After feature and sample filtering, there are 250000 samples and 30 columns\n"
     ]
    }
   ],
   "source": [
    "# Load data and create optimized dataset (includes interaction terms and degree 3)\n",
    "\n",
    "# Set random seed\n",
    "np.random.seed(0)\n",
    "\n",
    "(labels, data_raw, ids_raw) = load_csv_data(\"data/train.csv\")\n",
    "(t_labels, t_data_raw, t_ids) = load_csv_data(\"data/test.csv\")\n",
    "\n",
    "data_, data_t_= process_data(data_raw, t_data_raw, feature_filtering = False,\n",
    "                                      replace = 'median', standardize=False, remove_outlier=True)\n",
    "\n",
    "# Create partitions for dataset\n",
    "y_train, X_train, y_test, X_train_std, X_test_std = create_dataset(data_,\n",
    "                                                                   labels,\n",
    "                                                                   interact = True,\n",
    "                                                                   degree = 2)\n",
    "# Initialize boxplots values\n",
    "boxplots = []\n",
    "test_accuracies = []"
   ]
  },
  {
   "cell_type": "markdown",
   "metadata": {},
   "source": [
    "# Linear Regression: Gradient Descent"
   ]
  },
  {
   "cell_type": "code",
   "execution_count": 25,
   "metadata": {},
   "outputs": [
    {
     "data": {
      "text/plain": [
       "87"
      ]
     },
     "execution_count": 25,
     "metadata": {},
     "output_type": "execute_result"
    }
   ],
   "source": [
    "# Initialize w vector\n",
    "initial_w = np.random.rand(X_train_std.shape[1])\n",
    "k_ = 6\n",
    "\n",
    "# Perform linear regression by gradient descent with cross validation (k=4)\n",
    "_, _, _, _, _, accuracies = least_squares_GD(y_train, X_train, y_test, X_train_std,\n",
    "                                             initial_w, gamma = 0.005, k=k_, max_iters = 500)\n",
    "boxplots.append(accuracies)\n",
    "\n",
    "# Perform linear regression by gradient descent on whole training set\n",
    "_, _, _, test_accuracy, _ = least_squares_GD(y_train, X_train_std, y_test, X_test_std,\n",
    "                                             initial_w, gamma = 0.005, k=0, max_iters = 500)\n",
    "\n",
    "# Use w to predict unseen test set labels\n",
    "\n",
    "test_accuracies.append(test_accuracy[-1])\n",
    "\n",
    "# Write results to file\n",
    "\n",
    "file_object = open('cv_results', 'w')\n",
    "file_object.write('fold1, fold2, fold3, fold4, test_set \\n')\n",
    "acc_s = str(accuracies[0]) + ', ' + str(accuracies[1]) + ', ' + str(accuracies[2]) + ', ' + str(accuracies[3])\n",
    "acc_t = str(test_accuracy[-1]) + '\\n'\n",
    "file_object.write(acc_s + ', ' + acc_t)\n"
   ]
  },
  {
   "cell_type": "markdown",
   "metadata": {},
   "source": [
    "# Linear Regression: Stochastic Gradient Descent "
   ]
  },
  {
   "cell_type": "code",
   "execution_count": null,
   "metadata": {},
   "outputs": [],
   "source": [
    "# # Initialize w vector\n",
    "# initial_w = np.random.rand(X_train_std.shape[1])\n",
    "# k_ = 6\n",
    "\n",
    "# cv_accuracies, test_accuracy = do_cross_val('linear_regression_SGD',\n",
    "#                                             k_, initial_w, y_train,\n",
    "#                                             X_train, y_test, X_train_std,\n",
    "#                                             X_test_std)\n",
    "# boxplots.append(cv_accuracies)\n",
    "# test_accuracies.append(test_accuracy)\n",
    "\n",
    "# # Write results to file\n",
    "\n",
    "# acc_s = str(accuracies[0]) + ', ' + str(accuracies[1]) + ', ' + str(accuracies[2]) + ', ' + str(accuracies[3])\n",
    "# acc_t = str(test_accuracy) + '\\n'\n",
    "# file_object.write(acc_s + ', ' + acc_t)"
   ]
  },
  {
   "cell_type": "markdown",
   "metadata": {},
   "source": [
    "# Linear Regression: Direct Least Squares"
   ]
  },
  {
   "cell_type": "code",
   "execution_count": 26,
   "metadata": {},
   "outputs": [
    {
     "data": {
      "text/plain": [
       "88"
      ]
     },
     "execution_count": 26,
     "metadata": {},
     "output_type": "execute_result"
    }
   ],
   "source": [
    "k_ = 6\n",
    "\n",
    "# Perform linear regression by direct least squares with cross validation (k=4)\n",
    "_, _, _, _, accuracies = least_squares(y_train, X_train, k_)\n",
    "boxplots.append(accuracies)\n",
    "\n",
    "# Perform linear regression by direct least squares on whole training set\n",
    "w = least_squares(y_train, X_train_std, k=0)\n",
    "\n",
    "# Use w to predict unseen test set labels\n",
    "test_pred_lab = predict_labels(w, X_test_std)\n",
    "test_accuracy = pred_accuracy(test_pred_lab, y_test)\n",
    "test_accuracies.append(test_accuracy)\n",
    "\n",
    "# Write results to file\n",
    "\n",
    "acc_s = str(accuracies[0]) + ', ' + str(accuracies[1]) + ', ' + str(accuracies[2]) + ', ' + str(accuracies[3])\n",
    "acc_t = str(test_accuracy) + '\\n'\n",
    "file_object.write(acc_s + ', ' + acc_t)\n"
   ]
  },
  {
   "cell_type": "markdown",
   "metadata": {},
   "source": [
    "# Linear Regression: Regularized"
   ]
  },
  {
   "cell_type": "code",
   "execution_count": 27,
   "metadata": {},
   "outputs": [
    {
     "data": {
      "text/plain": [
       "88"
      ]
     },
     "execution_count": 27,
     "metadata": {},
     "output_type": "execute_result"
    }
   ],
   "source": [
    "# Search for optimal lambda value to implement for cross validation\n",
    "\n",
    "lambdas = np.logspace(-7, 0, 30)\n",
    "rmse_tr = []\n",
    "rmse_ts = []\n",
    "pred_tr = []\n",
    "pred_ts = []\n",
    "\n",
    "for ind, lambda_ in enumerate(lambdas):\n",
    "    \n",
    "    w = ridge_regression(y_train, X_train_std, lambda_)\n",
    "    \n",
    "#     rmse_tr.append(np.sqrt(2 * compute_loss(y_train, X_train, w)))\n",
    "    pred_tr.append(pred_accuracy(predict_labels(w, X_train_std), y_train))\n",
    "#     rmse_ts.append(np.sqrt(2 * compute_loss(y_test, X_test, w)))\n",
    "    pred_ts.append(pred_accuracy(predict_labels(w, X_test_std), y_test))\n",
    "    \n",
    "selected_lambda = lambdas[np.argmax(pred_ts)]\n",
    "\n",
    "k_ = 6\n",
    "\n",
    "# Perform regularized linear regression with cross validation (k=4)\n",
    "# Note that the value for lambda that is selected for this cross validation assessment it taken \n",
    "# from the above grid search which provided the best accuracies scores for the test set.\n",
    "\n",
    "cv_accuracies, test_accuracy = do_cross_val('ridge_regression',\n",
    "                                            k_, initial_w, y_train,\n",
    "                                            X_train, y_test, X_train_std,\n",
    "                                            X_test_std, lambda_ = selected_lambda)\n",
    "boxplots.append(cv_accuracies)\n",
    "test_accuracies.append(test_accuracy)\n",
    "\n",
    "# Write results to file\n",
    "\n",
    "acc_s = str(accuracies[0]) + ', ' + str(accuracies[1]) + ', ' + str(accuracies[2]) + ', ' + str(accuracies[3])\n",
    "acc_t = str(test_accuracy) + '\\n'\n",
    "file_object.write(acc_s + ', ' + acc_t)"
   ]
  },
  {
   "cell_type": "markdown",
   "metadata": {},
   "source": [
    "# Logistic Regression"
   ]
  },
  {
   "cell_type": "code",
   "execution_count": 28,
   "metadata": {},
   "outputs": [],
   "source": [
    "initial_w = np.random.rand(X_train_std.shape[1])\n",
    "k_ = 6\n",
    "\n",
    "# Perform logistic regression with Newton's Method\n",
    "cv_accuracies, test_accuracy = do_cross_val('logistic_regression',\n",
    "                                            k_, initial_w, y_train,\n",
    "                                            X_train, y_test, X_train_std,\n",
    "                                            X_test_std)\n",
    "boxplots.append(cv_accuracies)\n",
    "test_accuracies.append(test_accuracy)\n",
    "\n",
    "# Write results to file\n",
    "\n",
    "acc_s = str(cv_accuracies[0]) + ', ' + str(cv_accuracies[1]) + ', ' + str(cv_accuracies[2]) + ', ' + str(cv_accuracies[3])\n",
    "acc_t = str(test_accuracy) + '\\n'\n",
    "file_object.write(acc_s + ', ' + acc_t)\n",
    "file_object.close()"
   ]
  },
  {
   "cell_type": "markdown",
   "metadata": {},
   "source": [
    "# Boxplots for Learning Algorithm"
   ]
  },
  {
   "cell_type": "code",
   "execution_count": 29,
   "metadata": {},
   "outputs": [
    {
     "data": {
      "image/png": "[encoded data removed]",
      "text/plain": [
       "<Figure size 576x396 with 1 Axes>"
      ]
     },
     "metadata": {},
     "output_type": "display_data"
    }
   ],
   "source": [
    "# Create boxplots\n",
    "labels = ['LinReg GD','LinReg Direct','LinReg Ridge','LogisticReg']\n",
    "boxplotter(boxplots, test_accuracies, labels, 'Learning Algorithm', 'Prediction Accuracy', 'LearningAlgs.png')\n"
   ]
  },
  {
   "cell_type": "markdown",
   "metadata": {},
   "source": [
    "# Logistic Regression with Varying Degrees and Interaction Terms"
   ]
  },
  {
   "cell_type": "code",
   "execution_count": 30,
   "metadata": {},
   "outputs": [
    {
     "name": "stdout",
     "output_type": "stream",
     "text": [
      "The original dimensions of the training data set was 250000 samples and 30 columns\n",
      " After feature and sample filtering, there are 250000 samples and 30 columns\n"
     ]
    }
   ],
   "source": [
    "# Load data and create optimized dataset (includes interaction terms and degree 3)\n",
    "\n",
    "# Set random seed\n",
    "np.random.seed(0)\n",
    "\n",
    "(labels, data_raw, ids_raw) = load_csv_data(\"data/train.csv\")\n",
    "(t_labels, t_data_raw, t_ids) = load_csv_data(\"data/test.csv\")\n",
    "\n",
    "data_, data_t_= process_data(data_raw, t_data_raw, feature_filtering = False,\n",
    "                                      replace = 'median', standardize=False, remove_outlier=True)\n"
   ]
  },
  {
   "cell_type": "markdown",
   "metadata": {},
   "source": [
    "**Without addition of features by degree 2 or interaction terms**"
   ]
  },
  {
   "cell_type": "code",
   "execution_count": 31,
   "metadata": {},
   "outputs": [],
   "source": [
    "boxplots_log = []\n",
    "test_accuracies_log = []\n",
    "y_train, X_train, y_test, X_train_std, X_test_std = create_dataset(data_,\n",
    "                                                                   labels,\n",
    "                                                                   interact = False,\n",
    "                                                                   degree = 0)\n",
    "\n",
    "# Perform logistic regression with Newton's Method\n",
    "cv_accuracies, test_accuracy = do_cross_val('logistic_regression',\n",
    "                                            k_, initial_w, y_train,\n",
    "                                            X_train, y_test, X_train_std,\n",
    "                                            X_test_std)\n",
    "boxplots_log.append(cv_accuracies)\n",
    "test_accuracies_log.append(test_accuracy)"
   ]
  },
  {
   "cell_type": "markdown",
   "metadata": {},
   "source": [
    "**With degree 2 features but no interactive terms**"
   ]
  },
  {
   "cell_type": "code",
   "execution_count": 32,
   "metadata": {},
   "outputs": [],
   "source": [
    "y_train, X_train, y_test, X_train_std, X_test_std = create_dataset(data_,\n",
    "                                                                   labels,\n",
    "                                                                   interact = False,\n",
    "                                                                   degree = 2)\n",
    "\n",
    "# Perform logistic regression with Newton's Method\n",
    "cv_accuracies, test_accuracy = do_cross_val('logistic_regression',\n",
    "                                            k_, initial_w, y_train,\n",
    "                                            X_train, y_test, X_train_std,\n",
    "                                            X_test_std)\n",
    "boxplots_log.append(cv_accuracies)\n",
    "test_accuracies_log.append(test_accuracy)"
   ]
  },
  {
   "cell_type": "markdown",
   "metadata": {},
   "source": [
    "**With degree 3 without interaction terms**"
   ]
  },
  {
   "cell_type": "code",
   "execution_count": 33,
   "metadata": {},
   "outputs": [],
   "source": [
    "y_train, X_train, y_test, X_train_std, X_test_std = create_dataset(data_,\n",
    "                                                                   labels,\n",
    "                                                                   interact = False,\n",
    "                                                                   degree = 3)\n",
    "# Perform logistic regression with Newton's Method\n",
    "cv_accuracies, test_accuracy = do_cross_val('logistic_regression',\n",
    "                                            k_, initial_w, y_train,\n",
    "                                            X_train, y_test, X_train_std,\n",
    "                                            X_test_std)\n",
    "boxplots_log.append(cv_accuracies)\n",
    "test_accuracies_log.append(test_accuracy)"
   ]
  },
  {
   "cell_type": "markdown",
   "metadata": {},
   "source": [
    "**With degree 2 and interaction terms**"
   ]
  },
  {
   "cell_type": "code",
   "execution_count": 34,
   "metadata": {},
   "outputs": [],
   "source": [
    "y_train, X_train, y_test, X_train_std, X_test_std = create_dataset(data_,\n",
    "                                                                   labels,\n",
    "                                                                   interact = True,\n",
    "                                                                   degree = 2)\n",
    "# Perform logistic regression with Newton's Method\n",
    "cv_accuracies, test_accuracy = do_cross_val('logistic_regression',\n",
    "                                            k_, initial_w, y_train,\n",
    "                                            X_train, y_test, X_train_std,\n",
    "                                            X_test_std)\n",
    "boxplots_log.append(cv_accuracies)\n",
    "test_accuracies_log.append(test_accuracy)"
   ]
  },
  {
   "cell_type": "markdown",
   "metadata": {},
   "source": [
    "**With degree 3 and interaction terms**"
   ]
  },
  {
   "cell_type": "code",
   "execution_count": 35,
   "metadata": {},
   "outputs": [],
   "source": [
    "y_train, X_train, y_test, X_train_std, X_test_std = create_dataset(data_,\n",
    "                                                                   labels,\n",
    "                                                                   interact = True,\n",
    "                                                                   degree = 3)\n",
    "# Perform logistic regression with Newton's Method\n",
    "cv_accuracies, test_accuracy = do_cross_val('logistic_regression',\n",
    "                                            k_, initial_w, y_train,\n",
    "                                            X_train, y_test, X_train_std,\n",
    "                                            X_test_std)\n",
    "boxplots_log.append(cv_accuracies)\n",
    "test_accuracies_log.append(test_accuracy)"
   ]
  },
  {
   "cell_type": "markdown",
   "metadata": {},
   "source": [
    "# Create Boxplots"
   ]
  },
  {
   "cell_type": "code",
   "execution_count": 36,
   "metadata": {},
   "outputs": [
    {
     "data": {
      "image/png": "[encoded data removed]",
      "text/plain": [
       "<Figure size 576x396 with 1 Axes>"
      ]
     },
     "metadata": {},
     "output_type": "display_data"
    }
   ],
   "source": [
    "# Create boxplots\n",
    "\n",
    "labels=['-D/-IT', '2D/-IT','3D/-IT','2D/+IT','3D/+IT']\n",
    "boxplotter(boxplots_log, test_accuracies_log, labels,\n",
    "           'Features Combination Method', 'Prediction Accuracy', 'FeatureExpansion.png')"
   ]
  },
  {
   "cell_type": "markdown",
   "metadata": {},
   "source": [
    "# Testing Different Preprocessing Methods"
   ]
  },
  {
   "cell_type": "markdown",
   "metadata": {},
   "source": [
    "**With feature filtering. Replace by Mean**"
   ]
  },
  {
   "cell_type": "code",
   "execution_count": 2,
   "metadata": {},
   "outputs": [
    {
     "name": "stdout",
     "output_type": "stream",
     "text": [
      "The original dimensions of the training data set was 250000 samples and 30 columns\n",
      " After feature and sample filtering, there are 250000 samples and 30 columns\n"
     ]
    }
   ],
   "source": [
    "# Set random seed\n",
    "np.random.seed(0)\n",
    "\n",
    "(labels, data_raw, ids_raw) = load_csv_data(\"data/train.csv\")\n",
    "(t_labels, t_data_raw, t_ids) = load_csv_data(\"data/test.csv\")\n",
    "\n",
    "data_, data_t_ = process_data(data_raw, t_data_raw,\n",
    "                                      feature_filtering = True,\n",
    "                                      replace = 'mean', remove_outlier=False, standardize=False)\n",
    "\n",
    "y_train, X_train, y_test, X_train_std, X_test_std = create_dataset(data_,\n",
    "                                                                   labels,\n",
    "                                                                   interact = True,\n",
    "                                                                   degree = 2)\n",
    "boxplots_preprocessing = []\n",
    "test_accuracies_preprocessing = []"
   ]
  },
  {
   "cell_type": "code",
   "execution_count": 3,
   "metadata": {},
   "outputs": [],
   "source": [
    "# Initialize parameters\n",
    "initial_w = np.random.rand(X_train_std.shape[1])\n",
    "k_ = 6\n",
    "thresh = 0.5\n",
    "\n",
    "# Perform logistic regression with Newton's Method\n",
    "\n",
    "cv_accuracies, test_accuracy = do_cross_val('logistic_regression',\n",
    "                                            k_, initial_w, y_train,\n",
    "                                            X_train, y_test, X_train_std,\n",
    "                                            X_test_std)\n",
    "\n",
    "boxplots_preprocessing.append(cv_accuracies)\n",
    "test_accuracies_preprocessing.append(test_accuracy)"
   ]
  },
  {
   "cell_type": "markdown",
   "metadata": {},
   "source": [
    "**With feature filtering. Replace by median**"
   ]
  },
  {
   "cell_type": "code",
   "execution_count": 4,
   "metadata": {},
   "outputs": [
    {
     "name": "stdout",
     "output_type": "stream",
     "text": [
      "The original dimensions of the training data set was 250000 samples and 30 columns\n",
      " After feature and sample filtering, there are 250000 samples and 30 columns\n"
     ]
    }
   ],
   "source": [
    "# Set random seed\n",
    "np.random.seed(0)\n",
    "\n",
    "(labels, data_raw, ids_raw) = load_csv_data(\"data/train.csv\")\n",
    "(t_labels, t_data_raw, t_ids) = load_csv_data(\"data/test.csv\")\n",
    "\n",
    "data_, data_t_ = process_data(data_raw, t_data_raw, feature_filtering = True,\n",
    "                              replace = 'median', remove_outlier=False, standardize=False)\n",
    "\n",
    "y_train, X_train, y_test, X_train_std, X_test_std = create_dataset(data_,\n",
    "                                                                   labels,\n",
    "                                                                   interact = True,\n",
    "                                                                   degree = 2)"
   ]
  },
  {
   "cell_type": "code",
   "execution_count": 5,
   "metadata": {},
   "outputs": [],
   "source": [
    "# Initialize parameters\n",
    "initial_w = np.random.rand(X_train_std.shape[1])\n",
    "k_ = 6\n",
    "thresh = 0.5\n",
    "\n",
    "# Perform logistic regression with Newton's Method\n",
    "\n",
    "cv_accuracies, test_accuracy = do_cross_val('logistic_regression',\n",
    "                                            k_, initial_w, y_train,\n",
    "                                            X_train, y_test, X_train_std,\n",
    "                                            X_test_std)\n",
    "\n",
    "boxplots_preprocessing.append(cv_accuracies)\n",
    "test_accuracies_preprocessing.append(test_accuracy)"
   ]
  },
  {
   "cell_type": "markdown",
   "metadata": {},
   "source": [
    "**With feature filtering. Replace by zero**"
   ]
  },
  {
   "cell_type": "code",
   "execution_count": 6,
   "metadata": {},
   "outputs": [
    {
     "name": "stdout",
     "output_type": "stream",
     "text": [
      "The original dimensions of the training data set was 250000 samples and 30 columns\n",
      " After feature and sample filtering, there are 250000 samples and 30 columns\n"
     ]
    }
   ],
   "source": [
    "# Set random seed\n",
    "np.random.seed(0)\n",
    "\n",
    "(labels, data_raw, ids_raw) = load_csv_data(\"data/train.csv\")\n",
    "(t_labels, t_data_raw, t_ids) = load_csv_data(\"data/test.csv\")\n",
    "\n",
    "data_, data_t_ = process_data(data_raw, t_data_raw, feature_filtering = True,\n",
    "                                      replace = 'zero', remove_outlier=False, standardize=False)\n",
    "\n",
    "y_train, X_train, y_test, X_train_std, X_test_std = create_dataset(data_,\n",
    "                                                                   labels,\n",
    "                                                                   interact = True,\n",
    "                                                                   degree = 2)"
   ]
  },
  {
   "cell_type": "code",
   "execution_count": 7,
   "metadata": {},
   "outputs": [],
   "source": [
    "# Initialize parameters\n",
    "initial_w = np.random.rand(X_train_std.shape[1])\n",
    "k_ = 6\n",
    "thresh = 0.5\n",
    "\n",
    "# Perform logistic regression with Newton's Method\n",
    "\n",
    "cv_accuracies, test_accuracy = do_cross_val('logistic_regression',\n",
    "                                            k_, initial_w, y_train,\n",
    "                                            X_train, y_test, X_train_std,\n",
    "                                            X_test_std)\n",
    "\n",
    "boxplots_preprocessing.append(cv_accuracies)\n",
    "test_accuracies_preprocessing.append(test_accuracy)"
   ]
  },
  {
   "cell_type": "markdown",
   "metadata": {},
   "source": [
    "**Without feature filtering. Remove outliers and replace by mean**"
   ]
  },
  {
   "cell_type": "code",
   "execution_count": 8,
   "metadata": {},
   "outputs": [
    {
     "name": "stdout",
     "output_type": "stream",
     "text": [
      "The original dimensions of the training data set was 250000 samples and 30 columns\n",
      " After feature and sample filtering, there are 250000 samples and 30 columns\n"
     ]
    }
   ],
   "source": [
    "# Set random seed\n",
    "np.random.seed(0)\n",
    "\n",
    "(labels, data_raw, ids_raw) = load_csv_data(\"data/train.csv\")\n",
    "(t_labels, t_data_raw, t_ids) = load_csv_data(\"data/test.csv\")\n",
    "\n",
    "data_, data_t_ = process_data(data_raw, t_data_raw, feature_filtering = False,\n",
    "                                      replace = 'mean', remove_outlier=True, standardize=False)\n",
    "\n",
    "y_train, X_train, y_test, X_train_std, X_test_std = create_dataset(data_,\n",
    "                                                                   labels,\n",
    "                                                                   interact = True,\n",
    "                                                                   degree = 2)"
   ]
  },
  {
   "cell_type": "code",
   "execution_count": 9,
   "metadata": {},
   "outputs": [],
   "source": [
    "# Initialize parameters\n",
    "initial_w = np.random.rand(X_train_std.shape[1])\n",
    "k_ = 6\n",
    "thresh = 0.5\n",
    "\n",
    "# Perform logistic regression with Newton's Method\n",
    "\n",
    "cv_accuracies, test_accuracy = do_cross_val('logistic_regression',\n",
    "                                            k_, initial_w, y_train,\n",
    "                                            X_train, y_test, X_train_std,\n",
    "                                            X_test_std)\n",
    "\n",
    "boxplots_preprocessing.append(cv_accuracies)\n",
    "test_accuracies_preprocessing.append(test_accuracy)"
   ]
  },
  {
   "cell_type": "markdown",
   "metadata": {},
   "source": [
    "**Without feature filtering. Remove outliers. Replace with median**"
   ]
  },
  {
   "cell_type": "code",
   "execution_count": 10,
   "metadata": {},
   "outputs": [
    {
     "name": "stdout",
     "output_type": "stream",
     "text": [
      "The original dimensions of the training data set was 250000 samples and 30 columns\n",
      " After feature and sample filtering, there are 250000 samples and 30 columns\n"
     ]
    }
   ],
   "source": [
    "# Set random seed\n",
    "np.random.seed(0)\n",
    "\n",
    "(labels, data_raw, ids_raw) = load_csv_data(\"data/train.csv\")\n",
    "(t_labels, t_data_raw, t_ids) = load_csv_data(\"data/test.csv\")\n",
    "\n",
    "data_, data_t_ = process_data(data_raw, t_data_raw, feature_filtering = False,\n",
    "                                      replace = 'median', remove_outlier=True, standardize=False)\n",
    "\n",
    "y_train, X_train, y_test, X_train_std, X_test_std = create_dataset(data_,\n",
    "                                                                   labels,\n",
    "                                                                   interact = True,\n",
    "                                                                   degree = 2)"
   ]
  },
  {
   "cell_type": "code",
   "execution_count": 11,
   "metadata": {},
   "outputs": [],
   "source": [
    "# Initialize parameters\n",
    "initial_w = np.random.rand(X_train_std.shape[1])\n",
    "k_ = 6\n",
    "thresh = 0.5\n",
    "\n",
    "# Perform logistic regression with Newton's Method\n",
    "\n",
    "cv_accuracies, test_accuracy = do_cross_val('logistic_regression',\n",
    "                                            k_, initial_w, y_train,\n",
    "                                            X_train, y_test, X_train_std,\n",
    "                                            X_test_std)\n",
    "\n",
    "boxplots_preprocessing.append(cv_accuracies)\n",
    "test_accuracies_preprocessing.append(test_accuracy)"
   ]
  },
  {
   "cell_type": "markdown",
   "metadata": {},
   "source": [
    "**Without feature removal. Remove outliers. Replace by zero**"
   ]
  },
  {
   "cell_type": "code",
   "execution_count": 12,
   "metadata": {},
   "outputs": [
    {
     "name": "stdout",
     "output_type": "stream",
     "text": [
      "The original dimensions of the training data set was 250000 samples and 30 columns\n",
      " After feature and sample filtering, there are 250000 samples and 30 columns\n"
     ]
    }
   ],
   "source": [
    "# Set random seed\n",
    "np.random.seed(0)\n",
    "\n",
    "(labels, data_raw, ids_raw) = load_csv_data(\"data/train.csv\")\n",
    "(t_labels, t_data_raw, t_ids) = load_csv_data(\"data/test.csv\")\n",
    "\n",
    "data_, data_t_ = process_data(data_raw, t_data_raw, feature_filtering = False,\n",
    "                                      replace = 'zero', remove_outlier=True, standardize=False)\n",
    "\n",
    "y_train, X_train, y_test, X_train_std, X_test_std = create_dataset(data_,\n",
    "                                                                   labels,\n",
    "                                                                   interact = True,\n",
    "                                                                   degree = 2)"
   ]
  },
  {
   "cell_type": "code",
   "execution_count": 13,
   "metadata": {},
   "outputs": [],
   "source": [
    "# Initialize parameters\n",
    "initial_w = np.random.rand(X_train_std.shape[1])\n",
    "k_ = 6\n",
    "thresh = 0.5\n",
    "\n",
    "# Perform logistic regression with Newton's Method\n",
    "\n",
    "cv_accuracies, test_accuracy = do_cross_val('logistic_regression',\n",
    "                                            k_, initial_w, y_train,\n",
    "                                            X_train, y_test, X_train_std,\n",
    "                                            X_test_std)\n",
    "\n",
    "boxplots_preprocessing.append(cv_accuracies)\n",
    "test_accuracies_preprocessing.append(test_accuracy)"
   ]
  },
  {
   "cell_type": "markdown",
   "metadata": {},
   "source": [
    "# Create Boxplots"
   ]
  },
  {
   "cell_type": "code",
   "execution_count": 14,
   "metadata": {},
   "outputs": [
    {
     "data": {
      "image/png": "[encoded data removed]",
      "text/plain": [
       "<Figure size 576x396 with 1 Axes>"
      ]
     },
     "metadata": {},
     "output_type": "display_data"
    }
   ],
   "source": [
    "# Create boxplots\n",
    "\n",
    "labels=['SF/mean', 'SF/median','SF/zero','O/mean','O/median', 'O/zero']\n",
    "boxplotter(boxplots_preprocessing, test_accuracies_preprocessing, labels,\n",
    "           'Preprocessing Method', 'Prediction Accuracy', 'Preprocessing.png')\n"
   ]
  },
  {
   "cell_type": "code",
   "execution_count": null,
   "metadata": {},
   "outputs": [],
   "source": []
  }
 ],
 "metadata": {
  "kernelspec": {
   "display_name": "Python [conda env:ada]",
   "language": "python",
   "name": "conda-env-ada-py"
  },
  "language_info": {
   "codemirror_mode": {
    "name": "ipython",
    "version": 3
   },
   "file_extension": ".py",
   "mimetype": "text/x-python",
   "name": "python",
   "nbconvert_exporter": "python",
   "pygments_lexer": "ipython3",
   "version": "3.6.6"
  }
 },
 "nbformat": 4,
 "nbformat_minor": 2
}
