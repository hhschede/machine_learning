{
 "cells": [
  {
   "cell_type": "markdown",
   "metadata": {},
   "source": [
    "Importation of modules and functions\n",
    "==="
   ]
  },
  {
   "cell_type": "code",
   "execution_count": 9,
   "metadata": {},
   "outputs": [
    {
     "name": "stdout",
     "output_type": "stream",
     "text": [
      "The autoreload extension is already loaded. To reload it, use:\n",
      "  %reload_ext autoreload\n"
     ]
    }
   ],
   "source": [
    "# Modules\n",
    "import csv\n",
    "import numpy as np\n",
    "import matplotlib.pyplot as plt\n",
    "from mpl_toolkits import mplot3d\n",
    "import datetime\n",
    "import random\n",
    "import warnings\n",
    "warnings.simplefilter(\"error\")\n",
    "\n",
    "# Functions\n",
    "from implementations import *\n",
    "from helpers import *\n",
    "\n",
    "# Autoreload\n",
    "%load_ext autoreload\n",
    "%autoreload 2\n",
    "\n",
    "# Set random seed\n",
    "np.random.seed(1)"
   ]
  },
  {
   "cell_type": "markdown",
   "metadata": {},
   "source": [
    "Data loading\n",
    "==="
   ]
  },
  {
   "cell_type": "code",
   "execution_count": 2,
   "metadata": {},
   "outputs": [],
   "source": [
    "(labels_raw, data_raw, ids_raw) = load_csv_data(\"data/train.csv\")\n",
    "(t_labels, t_data_raw, t_ids) = load_csv_data(\"data/test.csv\")"
   ]
  },
  {
   "cell_type": "markdown",
   "metadata": {},
   "source": [
    "Data filtering and standardization\n",
    "==="
   ]
  },
  {
   "cell_type": "code",
   "execution_count": 3,
   "metadata": {
    "scrolled": true
   },
   "outputs": [
    {
     "name": "stdout",
     "output_type": "stream",
     "text": [
      "The original dimensions of the training data set was 250000 samples and 30 columns\n",
      " After feature and sample filtering, there are 250000 samples and 23 columns\n"
     ]
    }
   ],
   "source": [
    "data_, data_t_, labels = process_data(data_raw, t_data_raw, labels_raw, ids_raw,sample_filtering = False, feature_filtering = True, replace = 'mean')\n",
    "\n",
    "# Should not standardize all this stuff in the beginning! Only at the very end after the model has been selected!!\n",
    "# Check down two inputs, where the sets are standardized!\n",
    "\n",
    "# data, means, variance = standardize(data_)\n",
    "# need to standardize test using moments calculated from training\n",
    "# data_t = standardize_test(data_t_, means, variance)\n",
    "\n",
    "data = data_.copy()\n",
    "data_t = data_t_.copy()\n",
    "\n",
    "# perform PCA\n",
    "\n",
    "# eigVal, eigVec, sumEigVal = PCA(data, threshold = 0.7)\n",
    "# data = data.dot(eigVec)\n",
    "# data_t = data_t.dot(eigVec)\n",
    "# print(\"we have reduce the number of feature with PCA to {0}\".format(eigVec.shape[1]))"
   ]
  },
  {
   "cell_type": "markdown",
   "metadata": {},
   "source": [
    "Build data into matrix form\n",
    "==="
   ]
  },
  {
   "cell_type": "code",
   "execution_count": 4,
   "metadata": {},
   "outputs": [],
   "source": [
    "y, tx = build_model_data(data, labels)\n",
    "y_t, tx_t = build_model_data(data_t,t_labels)"
   ]
  },
  {
   "cell_type": "markdown",
   "metadata": {},
   "source": [
    "Splitting into train and test set\n",
    "==="
   ]
  },
  {
   "cell_type": "code",
   "execution_count": 5,
   "metadata": {},
   "outputs": [
    {
     "name": "stdout",
     "output_type": "stream",
     "text": [
      "Standardized and randomized samples are found as the variables X_train, y_train, X_test, y_test. Values are split for testing and training sets with the ratio of 0.8\n"
     ]
    }
   ],
   "source": [
    "X_train, y_train, X_test, y_test = split_data(tx, y)\n",
    "\n",
    "# Create the standardized X_train for use of testing the model on the test set. Note that this should\n",
    "# Not be done before crossvalidation, as the crossvalidation function standardizes the sets within the loops\n",
    "\n",
    "X_train_standardized, means, variance = standardize(X_train)\n",
    "X_test_standardized = standardize_test(X_test, means, variance)\n",
    "\n",
    "print('Standardized and randomized samples are found as the variables X_train, y_train, X_test, y_test. Values' +\n",
    "      ' are split for testing and training sets with the ratio of 0.8')"
   ]
  },
  {
   "cell_type": "markdown",
   "metadata": {},
   "source": [
    "Linear regression with gradient descent (GD)\n",
    "==="
   ]
  },
  {
   "cell_type": "code",
   "execution_count": 28,
   "metadata": {},
   "outputs": [
    {
     "data": {
      "image/png": "[encoded data removed]",
      "text/plain": [
       "<Figure size 576x396 with 1 Axes>"
      ]
     },
     "metadata": {},
     "output_type": "display_data"
    },
    {
     "name": "stdout",
     "output_type": "stream",
     "text": [
      "The mean of the 4 cross validation test sets is 20.292589039083627 with variance 5.315927246818269. Compare this to the training set mean loss of 19.848784472175616\n"
     ]
    }
   ],
   "source": [
    "# Initialize w vector\n",
    "initial_w = np.random.rand(X_train.shape[1])\n",
    "k_ = 4\n",
    "\n",
    "# Perform linear regression by gradient descent with cross validation (k=4)\n",
    "test_loss_mean, test_loss_var, vector_test_loss, train_loss_mean, w = least_squares_GD(y_train, X_train, initial_w, gamma = 0.00001, k=k_, max_iters = 250)\n",
    "\n",
    "means_over_time = vector_test_loss.mean(axis=0)\n",
    "error1 = abs(means_over_time - vector_test_loss[0])\n",
    "error2 = abs(means_over_time - vector_test_loss[1])\n",
    "error3 = abs(means_over_time- vector_test_loss[2])\n",
    "error4 = abs(means_over_time - vector_test_loss[3])\n",
    "x = np.arange(len(error1))\n",
    "\n",
    "plt.style.use('seaborn')\n",
    "# for i in np.arange(4):\n",
    "#     plt.plot(x, vector_test_loss[i], label= 'Trial {}'.format(i))\n",
    "plt.plot(x, vector_test_loss[0], label='Trial 1', c='red')\n",
    "plt.fill_between(x, vector_test_loss[0]-error1, vector_test_loss[0]+error1,\n",
    "    alpha=0.2, edgecolor='#CC4F1B', facecolor='#FF9848')\n",
    "plt.plot(x, vector_test_loss[1], label='Trial 2', c = 'green')\n",
    "plt.fill_between(x, vector_test_loss[1] - error2, vector_test_loss[1] + error2, alpha = 0.2, edgecolor='#FF3F1B', facecolor = '#12E99F')\n",
    "plt.plot(x, vector_test_loss[2], label='Trial 3', c='blue')\n",
    "plt.fill_between(x, vector_test_loss[2]-error3, vector_test_loss[2]+error3,\n",
    "    alpha=0.2, edgecolor='#CC4F1B', facecolor='#12E2FF')\n",
    "plt.plot(x, vector_test_loss[3], label='Trial 4', c='purple')\n",
    "plt.fill_between(x, vector_test_loss[3]-error4, vector_test_loss[3]+error4,\n",
    "    alpha=0.2, edgecolor='#CC4F1B', facecolor='#FF00FF')\n",
    "plt.xlabel('Iteration')\n",
    "plt.ylabel('Loss')\n",
    "plt.title('Test Set Loss Over Iterations of Gradient Descent')\n",
    "plt.legend()\n",
    "plt.show()\n",
    "\n",
    "print('The mean of the {} cross validation test sets is {} with variance {}. \\\n",
    "Compare this to the training set mean loss of {}'.format(k_,test_loss_mean, test_loss_var,train_loss_mean))"
   ]
  },
  {
   "cell_type": "code",
   "execution_count": null,
   "metadata": {},
   "outputs": [],
   "source": [
    "# Performing a test for prediction accuracy\n",
    "\n",
    "w = least_squares_GD(y_train, X_train, initial_w, gamma = 0.00001, k=0, max_iters = 250)\n"
   ]
  },
  {
   "cell_type": "markdown",
   "metadata": {},
   "source": [
    "Linear regression with stochastic gradient descent (SGD)\n",
    "==="
   ]
  },
  {
   "cell_type": "code",
   "execution_count": null,
   "metadata": {},
   "outputs": [],
   "source": [
    "#initial_w = np.ones(X_train.shape[1])\n",
    "initial_w = np.random.rand(X_train.shape[1])\n",
    "losses, ws = least_squares_SGD(y_train, X_train, initial_w, max_iters = 250, tol = 1e-4, patience = 5) # fit model, retrieve parameters ws\n",
    "test_losses = list(map(lambda x: compute_loss(y_test, X_test, x, method = 'MSE'), ws)) # retrieve losses using test set with ws\n",
    "\n",
    "plt.style.use('seaborn')\n",
    "plt.plot(losses, label='Training set loss', c='blue')\n",
    "plt.plot(test_losses, label='Test set loss', c='red')\n",
    "plt.xlabel('Iteration')\n",
    "plt.ylabel('Loss')\n",
    "plt.title('Cost Function Loss Over Iterations of Stochastic Gradient Descent')\n",
    "plt.legend()\n",
    "plt.show()\n",
    "\n",
    "# Make plot with label prediction accuracy\n",
    "\n",
    "pred_ytrain = list(map(lambda x: predict_labels(x, X_train), ws)) # Training prediction\n",
    "pred_accuracytrain = list(map(lambda x: pred_accuracy(x, y_train), pred_ytrain))\n",
    "pred_ytest = list(map(lambda x: predict_labels(x, X_test), ws)) # Test prediction\n",
    "pred_accuracytest = list(map(lambda x: pred_accuracy(x, y_test), pred_ytest))\n",
    "\n",
    "\n",
    "plt.plot(pred_accuracytrain, label='Training set prediction accuracy', c='blue')\n",
    "plt.plot(pred_accuracytest, label='Test set prediction accuracy', c='red')\n",
    "plt.legend()\n",
    "plt.xlabel('Iteration')\n",
    "plt.ylabel('Prediction Accuracy')\n",
    "plt.title('Prediction Accuracy Over Iterations of Stochastic Gradient Descent')\n",
    "plt.show()\n"
   ]
  },
  {
   "cell_type": "markdown",
   "metadata": {},
   "source": [
    "Linear regression using least squares normal equations\n",
    "==="
   ]
  },
  {
   "cell_type": "code",
   "execution_count": null,
   "metadata": {},
   "outputs": [],
   "source": [
    "w = least_squares(y_train, X_train)\n",
    "\n",
    "pred_y = predict_labels(w, X_test)\n",
    "pred_accuracy(pred_y,y_test)"
   ]
  },
  {
   "cell_type": "markdown",
   "metadata": {},
   "source": [
    "Linear regression using the normal equations with additional polynomial degrees\n",
    "==="
   ]
  },
  {
   "cell_type": "code",
   "execution_count": null,
   "metadata": {},
   "outputs": [],
   "source": [
    "degrees = range(1,15)\n",
    "rmse_tr = np.zeros(len(degrees))\n",
    "rmse_ts = np.zeros(len(degrees))\n",
    "pred_tr = np.zeros(len(degrees))\n",
    "pred_ts = np.zeros(len(degrees))\n",
    "\n",
    "\n",
    "for ind, degree in enumerate(degrees):\n",
    "    #train the model\n",
    "    X_test_poly = build_poly(X_test,degree)\n",
    "    X_train_poly = build_poly(X_train,degree)\n",
    "    w = least_squares(y_train, X_train_poly)\n",
    "    rmse_tr[ind] = (np.sqrt(2 * compute_loss(y_train, X_train_poly, w)))\n",
    "    pred_tr[ind] = pred_accuracy(predict_labels(w,X_train_poly),y_train)\n",
    "    \n",
    "    #test the model\n",
    "    \n",
    "    rmse_ts[ind] = (np.sqrt(2 * compute_loss(y_test, X_test_poly, w)))\n",
    "    pred_ts[ind] = (pred_accuracy(predict_labels(w, X_test_poly),y_test))\n",
    "    \n",
    "    # print the update\n",
    "    print(\"degree: {d} \\t rmse_ts: {a} \\t  pred_ts: {b}\".format(d = degree, a = rmse_ts[ind], b = pred_ts[ind]))\n",
    "\n",
    "\n",
    "    \n",
    "\n",
    "# plot the loss\n",
    "plt.style.use('seaborn')\n",
    "plt.plot(degrees,rmse_tr, c='blue')\n",
    "plt.plot(degrees,rmse_ts, c='red')\n",
    "plt.title('Loss')\n",
    "plt.xlabel('Polynomial Degree')\n",
    "plt.ylabel('Loss')\n",
    "plt.legend(['training set', 'testing set'], loc='upper left')\n",
    "plt.show()\n",
    "\n",
    "\n",
    "#plot the accuracy\n",
    "plt.style.use('seaborn')\n",
    "plt.plot(degrees,pred_tr, c='blue')\n",
    "plt.plot(degrees,pred_ts, c='red')\n",
    "plt.title('Accuracy')\n",
    "plt.xlabel('Polynomial Degree')\n",
    "plt.ylabel('Accuracy')\n",
    "plt.legend(['training set', 'testing set'], loc='upper left')\n",
    "plt.show()\n"
   ]
  },
  {
   "cell_type": "markdown",
   "metadata": {},
   "source": [
    "Linear regression using ridge regression\n",
    "==="
   ]
  },
  {
   "cell_type": "code",
   "execution_count": null,
   "metadata": {},
   "outputs": [],
   "source": [
    "lambdas = np.logspace(-5, 0, 15)\n",
    "rmse_tr = []\n",
    "rmse_ts = []\n",
    "pred_tr = []\n",
    "pred_ts = []\n",
    "\n",
    "for ind, lambda_ in enumerate(lambdas):\n",
    "    \n",
    "    w = ridge_regression(y_train, X_train, lambda_)\n",
    "    rmse_tr.append(np.sqrt(2 * compute_loss(y_train, X_train, w)))\n",
    "    pred_tr.append(pred_accuracy(predict_labels(w, X_train),y_train))\n",
    "    \n",
    "    \n",
    "    rmse_ts.append(np.sqrt(2 * compute_loss(y_test, X_test, w)))\n",
    "    pred_ts.append(pred_accuracy(predict_labels(w, X_test),y_test))\n",
    "    \n",
    "plt.style.use('seaborn')\n",
    "plt.semilogx(lambdas,rmse_tr, c='blue')\n",
    "plt.semilogx(lambdas,rmse_ts, c='red')\n",
    "plt.legend(['training set', 'testing set'], loc='upper left')\n",
    "plt.xlabel('Lambda')\n",
    "plt.ylabel('Loss')\n",
    "plt.show()\n",
    "\n",
    "plt.style.use('seaborn')\n",
    "plt.semilogx(lambdas,pred_tr, c='blue')\n",
    "plt.semilogx(lambdas,pred_ts, c='red')\n",
    "plt.xlabel('Lambda')\n",
    "plt.ylabel('Accuracy')\n",
    "plt.legend(['training set', 'testing set'], loc='upper right')\n",
    "plt.show()\n",
    "\n",
    "# print(np.max(pred))"
   ]
  },
  {
   "cell_type": "markdown",
   "metadata": {},
   "source": [
    "# Logistic regression using gradient descent and stochastic gradient descent"
   ]
  },
  {
   "cell_type": "code",
   "execution_count": null,
   "metadata": {},
   "outputs": [],
   "source": [
    "y_train[y_train == -1] = 0\n",
    "y_test[y_test == -1] = 0\n",
    "y[y == -1] = 0"
   ]
  },
  {
   "cell_type": "code",
   "execution_count": null,
   "metadata": {
    "scrolled": false
   },
   "outputs": [],
   "source": [
    "initial_w = np.random.rand(X_train.shape[1])\n",
    "losses, ws = logistic_regression(y_train, X_train, initial_w, method = 'gd', max_iters = 2000, gamma = 0.0005) # fit model, retrieve parameters ws\n",
    "test_losses = list(map(lambda x: compute_loss(y_test, X_test, x, lam = 0, method = \"logistic\"), ws)) # retrieve losses using test set with ws\n",
    "\n",
    "\n",
    "\n",
    "# Make plot with label prediction accuracy\n",
    "\n",
    "pred_ytrain = list(map(lambda x: predict_labels_logistic(x, X_train), ws)) # Training prediction\n",
    "pred_accuracytrain = list(map(lambda x: pred_accuracy(x, y_train), pred_ytrain))\n",
    "pred_ytest = list(map(lambda x: predict_labels_logistic(x, X_test), ws)) # Test prediction\n",
    "pred_accuracytest = list(map(lambda x: pred_accuracy(x, y_test), pred_ytest))\n",
    "\n",
    "\n",
    "plotCurves(losses, pred_accuracytrain, test_losses, pred_accuracytest, \"Logistic Regression\")\n",
    "\n",
    "\"\"\"\n",
    "plt.style.use('seaborn')\n",
    "plt.plot(losses, label='Training set loss', c='blue')\n",
    "plt.plot(test_losses, label='Test set loss', c='red')\n",
    "plt.xlabel('Iteration')\n",
    "plt.ylabel('Loss')\n",
    "plt.title('Logistic Regression: Cost Function Loss Over Iterations of Stochastic Gradient Descent')\n",
    "plt.legend()\n",
    "plt.show()\n",
    "plt.plot(pred_accuracytrain, label='Training set prediction accuracy', c='blue')\n",
    "plt.plot(pred_accuracytest, label='Test set prediction accuracy', c='red')\n",
    "plt.legend()\n",
    "plt.xlabel('Iteration')\n",
    "plt.ylabel('Prediction Accuracy')\n",
    "plt.title('Logistic Regression Prediction Accuracy Over Iterations of Gradient Descent')\n",
    "plt.show()\n",
    "\"\"\""
   ]
  },
  {
   "cell_type": "code",
   "execution_count": null,
   "metadata": {},
   "outputs": [],
   "source": [
    "y_sample = y[:10000] \n",
    "tx_sample = tx[:10000,:]\n",
    "\n",
    "X_train_sample, y_train_sample, X_test_sample, y_test_sample = split_data(tx_sample, y_sample)"
   ]
  },
  {
   "cell_type": "markdown",
   "metadata": {},
   "source": [
    "### Gradient descent with varying learning rates\n"
   ]
  },
  {
   "cell_type": "code",
   "execution_count": null,
   "metadata": {
    "scrolled": true
   },
   "outputs": [],
   "source": [
    "num_iter = 10000\n",
    "\n",
    "lr = [0.00001,0.00005,0.0001,0.0005,0.001] \n",
    "\n",
    "\n",
    "test_losses  = np.zeros([len(lr),(num_iter+1)])\n",
    "test_acc = np.zeros([len(lr),(num_iter+1)])\n",
    "train_losses = np.zeros([len(lr),(num_iter)])\n",
    "train_acc= np.zeros([len(lr),(num_iter+1)])\n",
    "\n",
    "initial_w = np.random.rand(X_train.shape[1])\n",
    "\n",
    "for i in range(len(lr)):\n",
    "    \n",
    "    l_tr, ws = logistic_regression(y_train_sample, X_train_sample, initial_w, max_iters = num_iter, gamma = lr[i], method = 'gd') # fit model, retrieve parameters ws\n",
    "    train_losses[i,:] = np.array(l_tr)\n",
    "    l_ts = list(map(lambda x: compute_loss(y_test_sample, X_test_sample, x, lam = 0, method = \"logistic\"), ws)) # retrieve losses using test set with ws\n",
    "    test_losses[i,:] = np.array(l_ts)\n",
    "    pred_ytrain = list(map(lambda x: predict_labels_logistic(x, X_train_sample), ws)) # Training prediction\n",
    "    train_acc[i,:] = list(map(lambda x: pred_accuracy(x, y_train_sample), pred_ytrain))\n",
    "    pred_ytest = list(map(lambda x: predict_labels_logistic(x, X_test_sample), ws)) # Test prediction\n",
    "    test_acc[i,:] = list(map(lambda x: pred_accuracy(x, y_test_sample), pred_ytest))\n",
    "\n",
    "for i in range(len(lr)):\n",
    "    titre = \"learning rate \"+str(lr[i])\n",
    "    plotCurves(train_losses[i,:], train_acc[i,:], test_losses[i,:], test_acc[i,:], titre)\n"
   ]
  },
  {
   "cell_type": "code",
   "execution_count": null,
   "metadata": {},
   "outputs": [],
   "source": [
    "num_iter = 1000\n",
    "\n",
    "lr = [0.00001,0.00005,0.0001,0.0005,0.001] \n",
    "\n",
    "\n",
    "test_losses  = np.zeros([len(lr),(num_iter+1)])\n",
    "test_acc = np.zeros([len(lr),(num_iter+1)])\n",
    "train_losses = np.zeros([len(lr),(num_iter)])\n",
    "train_acc= np.zeros([len(lr),(num_iter+1)])\n",
    "\n",
    "initial_w = np.random.rand(X_train.shape[1])\n",
    "\n",
    "for i in range(len(lr)):\n",
    "    \n",
    "    l_tr, ws = logistic_regression(y_train_sample, X_train_sample, initial_w, max_iters = num_iter, gamma = lr[i], method = 'gd') # fit model, retrieve parameters ws\n",
    "    train_losses[i,:] = np.array(l_tr)\n",
    "    l_ts = list(map(lambda x: compute_loss(y_test_sample, X_test_sample, x, lam = 0, method = \"logistic\"), ws)) # retrieve losses using test set with ws\n",
    "    test_losses[i,:] = np.array(l_ts)\n",
    "    pred_ytrain = list(map(lambda x: predict_labels_logistic(x, X_train_sample), ws)) # Training prediction\n",
    "    train_acc[i,:] = list(map(lambda x: pred_accuracy(x, y_train_sample), pred_ytrain))\n",
    "    pred_ytest = list(map(lambda x: predict_labels_logistic(x, X_test_sample), ws)) # Test prediction\n",
    "    test_acc[i,:] = list(map(lambda x: pred_accuracy(x, y_test_sample), pred_ytest))\n",
    "\n",
    "for i in range(len(lr)):\n",
    "    titre = \"learning rate \"+str(lr[i])\n",
    "    plotCurves(train_losses[i,:], train_acc[i,:], test_losses[i,:], test_acc[i,:], titre)\n"
   ]
  },
  {
   "cell_type": "code",
   "execution_count": null,
   "metadata": {},
   "outputs": [],
   "source": [
    "num_iter = 20000\n",
    "\n",
    "lr = [0.00005,0.0001] \n",
    "\n",
    "\n",
    "test_losses  = np.zeros([len(lr),(num_iter+1)])\n",
    "test_acc = np.zeros([len(lr),(num_iter+1)])\n",
    "train_losses = np.zeros([len(lr),(num_iter)])\n",
    "train_acc= np.zeros([len(lr),(num_iter+1)])\n",
    "\n",
    "initial_w = np.random.rand(X_train.shape[1])\n",
    "\n",
    "for i in range(len(lr)):\n",
    "    \n",
    "    l_tr, ws = logistic_regression(y_train_sample, X_train_sample, initial_w, max_iters = num_iter, gamma = lr[i], method = 'gd') # fit model, retrieve parameters ws\n",
    "    train_losses[i,:] = np.array(l_tr)\n",
    "    l_ts = list(map(lambda x: compute_loss(y_test_sample, X_test_sample, x, lam = 0, method = \"logistic\"), ws)) # retrieve losses using test set with ws\n",
    "    test_losses[i,:] = np.array(l_ts)\n",
    "    pred_ytrain = list(map(lambda x: predict_labels_logistic(x, X_train_sample), ws)) # Training prediction\n",
    "    train_acc[i,:] = list(map(lambda x: pred_accuracy(x, y_train_sample), pred_ytrain))\n",
    "    pred_ytest = list(map(lambda x: predict_labels_logistic(x, X_test_sample), ws)) # Test prediction\n",
    "    test_acc[i,:] = list(map(lambda x: pred_accuracy(x, y_test_sample), pred_ytest))\n",
    "\n",
    "for i in range(len(lr)):\n",
    "    titre = \"learning rate \"+str(lr[i])\n",
    "    plotCurves(train_losses[i,:], train_acc[i,:], test_losses[i,:], test_acc[i,:], titre)\n"
   ]
  },
  {
   "cell_type": "markdown",
   "metadata": {},
   "source": [
    "### Stochastic Gradient Descent with varying learning rates"
   ]
  },
  {
   "cell_type": "code",
   "execution_count": null,
   "metadata": {
    "scrolled": true
   },
   "outputs": [],
   "source": [
    "num_iter = 10000\n",
    "\n",
    "lr = [0.00001,0.00005,0.0001,0.0005,0.001] \n",
    "\n",
    "\n",
    "test_losses  = np.zeros([len(lr),(num_iter+1)])\n",
    "test_acc = np.zeros([len(lr),(num_iter+1)])\n",
    "train_losses = np.zeros([len(lr),(num_iter)])\n",
    "train_acc= np.zeros([len(lr),(num_iter+1)])\n",
    "\n",
    "initial_w = np.random.rand(X_train.shape[1])\n",
    "\n",
    "for i in range(len(lr)):\n",
    "    \n",
    "    l_tr, ws = logistic_regression(y_train_sample, X_train_sample, initial_w, max_iters = num_iter, gamma = lr[i], method = 'sgd') # fit model, retrieve parameters ws\n",
    "    train_losses[i,:] = np.array(l_tr)\n",
    "    l_ts = list(map(lambda x: compute_loss(y_test_sample, X_test_sample, x, lam = 0, method = \"logistic\"), ws)) # retrieve losses using test set with ws\n",
    "    test_losses[i,:] = np.array(l_ts)\n",
    "    pred_ytrain = list(map(lambda x: predict_labels(x, X_train_sample), ws)) # Training prediction\n",
    "    train_acc[i,:] = list(map(lambda x: pred_accuracy(x, y_train_sample), pred_ytrain))\n",
    "    pred_ytest = list(map(lambda x: predict_labels(x, X_test_sample), ws)) # Test prediction\n",
    "    test_acc[i,:] = list(map(lambda x: pred_accuracy(x, y_test_sample), pred_ytest))\n",
    "\n",
    "for i in range(len(lr)):\n",
    "    titre = \"learning rate \"+str(lr[i])\n",
    "    plotCurves(train_losses[i,:], train_acc[i,:], test_losses[i,:], test_acc[i,:], titre)\n"
   ]
  },
  {
   "cell_type": "code",
   "execution_count": null,
   "metadata": {
    "scrolled": true
   },
   "outputs": [],
   "source": [
    "num_iter = 20000\n",
    "\n",
    "lr = [0.00005,0.0001,0.0005] \n",
    "\n",
    "\n",
    "test_losses  = np.zeros([len(lr),(num_iter+1)])\n",
    "test_acc = np.zeros([len(lr),(num_iter+1)])\n",
    "train_losses = np.zeros([len(lr),(num_iter)])\n",
    "train_acc= np.zeros([len(lr),(num_iter+1)])\n",
    "\n",
    "initial_w = np.random.rand(X_train.shape[1])\n",
    "\n",
    "for i in range(len(lr)):\n",
    "    \n",
    "    l_tr, ws = logistic_regression(y_train_sample, X_train_sample, initial_w, max_iters = num_iter, gamma = lr[i], method = 'sgd') # fit model, retrieve parameters ws\n",
    "    train_losses[i,:] = np.array(l_tr)\n",
    "    l_ts = list(map(lambda x: compute_loss(y_test_sample, X_test_sample, x, lam = 0, method = \"logistic\"), ws)) # retrieve losses using test set with ws\n",
    "    test_losses[i,:] = np.array(l_ts)\n",
    "    pred_ytrain = list(map(lambda x: predict_labels(x, X_train_sample), ws)) # Training prediction\n",
    "    train_acc[i,:] = list(map(lambda x: pred_accuracy(x, y_train_sample), pred_ytrain))\n",
    "    pred_ytest = list(map(lambda x: predict_labels(x, X_test_sample), ws)) # Test prediction\n",
    "    test_acc[i,:] = list(map(lambda x: pred_accuracy(x, y_test_sample), pred_ytest))\n",
    "    \n",
    "for i in range(len(lr)):\n",
    "    titre = \"learning rate \"+str(lr[i])\n",
    "    plotCurves(train_losses[i,:], train_acc[i,:], test_losses[i,:], test_acc[i,:], titre)\n",
    "    print(\"best test accuracy = {0}\".format(max(test_acc[i,:])))"
   ]
  },
  {
   "cell_type": "code",
   "execution_count": null,
   "metadata": {},
   "outputs": [],
   "source": []
  },
  {
   "cell_type": "markdown",
   "metadata": {},
   "source": [
    "Logistic regression using Newton's method\n",
    "==="
   ]
  },
  {
   "cell_type": "code",
   "execution_count": null,
   "metadata": {},
   "outputs": [],
   "source": [
    "# initial_w = np.random.rand(X_train.shape[1])\n",
    "# losses, ws = logistic_hessian(y_train, X_train, initial_w) # fit model, retrieve parameters ws\n",
    "# test_losses = list(map(lambda x: compute_loss(y_test, X_test, x, method = 'MSE'), ws)) # retrieve losses using test set with ws\n",
    "\n",
    "# plt.style.use('seaborn')\n",
    "# plt.plot(losses, label='Training set loss', c='blue')\n",
    "# plt.plot(test_losses, label='Test set loss', c='red')\n",
    "# plt.xlabel('Iteration')\n",
    "# plt.ylabel('Loss')\n",
    "# plt.title('Logistic Regression: Cost Function Loss Over Iterations of Stochastic Gradient Descent')\n",
    "# plt.legend()\n",
    "# plt.show()\n",
    "\n",
    "# # Make plot with label prediction accuracy\n",
    "\n",
    "# pred_ytrain = list(map(lambda x: predict_labels(x, X_train), ws)) # Training prediction\n",
    "# pred_accuracytrain = list(map(lambda x: pred_accuracy(x, y_train), pred_ytrain))\n",
    "# pred_ytest = list(map(lambda x: predict_labels(x, X_test), ws)) # Test prediction\n",
    "# pred_accuracytest = list(map(lambda x: pred_accuracy(x, y_test), pred_ytest))\n",
    "\n",
    "\n",
    "# plt.plot(pred_accuracytrain, label='Training set prediction accuracy', c='blue')\n",
    "# plt.plot(pred_accuracytest, label='Test set prediction accuracy', c='red')\n",
    "# plt.legend()\n",
    "# plt.xlabel('Iteration')\n",
    "# plt.ylabel('Prediction Accuracy')\n",
    "# plt.title('Logistic Regression Prediction Accuracy Over Iterations of Gradient Descent')\n",
    "# plt.show()\n",
    "\n",
    "\"\"\"IF YOU READ THIS: I tried doing something here so that LR is faster and more accurate,\n",
    "the problem is that we can't calculate things that way, it's too big, but maybe I'll find a way\n",
    "another time.\"\"\""
   ]
  },
  {
   "cell_type": "markdown",
   "metadata": {},
   "source": [
    "# Regularized Logistic Regression"
   ]
  },
  {
   "cell_type": "code",
   "execution_count": null,
   "metadata": {},
   "outputs": [],
   "source": [
    "lambdas = np.logspace(-10,0, 11)\n",
    "loss_tr = []\n",
    "loss_ts = []\n",
    "pred_tr = []\n",
    "pred_ts = []\n",
    "initial_w = np.random.rand(X_train.shape[1])\n",
    "\n",
    "# There is a runtime warning but just be patient\n",
    "\n",
    "for ind, lambda_ in enumerate(lambdas):\n",
    "    \n",
    "    losses, ws = reg_logistic_regression(y_train_sample, X_train_sample, initial_w, lamb = lambda_, methods ='gd', gamma = 0.0001, max_iters=5000)\n",
    "    loss_tr.append(losses[-1])\n",
    "    best_w = ws[-1]\n",
    "    \n",
    "    pred_tr.append(pred_accuracy(predict_labels_logistic(best_w, X_train_sample),y_train_sample))\n",
    "    \n",
    "    test_losses = compute_loss(y_test_sample, X_test_sample, best_w, lam = lambda_, method = 'reg_logistic') # retrieve losses using test set with ws\n",
    "    loss_ts.append(test_losses)\n",
    "    pred_ts.append(pred_accuracy(predict_labels_logistic(best_w, X_test_sample),y_test_sample))\n",
    "\n",
    "    \n",
    "plt.style.use('seaborn')\n",
    "plt.semilogx(lambdas,loss_tr, c='blue')\n",
    "plt.semilogx(lambdas,loss_ts, c='red')\n",
    "plt.legend(['training set', 'testing set'], loc='upper left')\n",
    "plt.xlabel('Lambda')\n",
    "plt.ylabel('Loss')\n",
    "plt.show()\n",
    "\n",
    "plt.style.use('seaborn')\n",
    "plt.semilogx(lambdas,pred_tr, c='blue')\n",
    "plt.semilogx(lambdas,pred_ts, c='red')\n",
    "plt.xlabel('Lambda')\n",
    "plt.ylabel('Accuracy')\n",
    "plt.legend(['training set', 'testing set'], loc='upper right')\n",
    "plt.show()\n",
    "\n",
    "####\n"
   ]
  },
  {
   "cell_type": "code",
   "execution_count": null,
   "metadata": {},
   "outputs": [],
   "source": [
    "# lamb = 0.1\n",
    "# losses, ws = reg_logistic_regression(y_train, X_train, \n",
    "#                          initial_w, lamb, methods = 'gd', \n",
    "#                          gamma = 0.01, max_iters= 6000)\n",
    "\n",
    "# test_losses = list(map(lambda x: compute_loss(y_test, X_test, x, lam = lamb, method = 'reg_logistic'), ws)) # retrieve losses using test set with ws\n",
    "# plt.style.use('seaborn')\n",
    "# plt.plot(losses, label='Training set loss', c='blue')\n",
    "# plt.plot(test_losses, label='Test set loss', c='red')\n",
    "# plt.xlabel('Iteration')\n",
    "# plt.ylabel('Loss')\n",
    "# plt.title('Regularized Logistic Regression: Cost Function Loss Over Iterations of Gradient Descent')\n",
    "# plt.legend()\n",
    "# plt.show()\n",
    "\n",
    "# # Make plot with label prediction accuracy\n",
    "\n",
    "# pred_ytrain = list(map(lambda x: predict_labels(x, X_train), ws)) # Training prediction\n",
    "# pred_accuracytrain = list(map(lambda x: pred_accuracy(x, y_train), pred_ytrain))\n",
    "# pred_ytest = list(map(lambda x: predict_labels(x, X_test), ws)) # Test prediction\n",
    "# pred_accuracytest = list(map(lambda x: pred_accuracy(x, y_test), pred_ytest))\n",
    "\n",
    "\n",
    "# plt.plot(pred_accuracytrain, label='Training set prediction accuracy', c='blue')\n",
    "# plt.plot(pred_accuracytest, label='Test set prediction accuracy', c='red')\n",
    "# plt.legend()\n",
    "# plt.xlabel('Iteration')\n",
    "# plt.ylabel('Prediction Accuracy')\n",
    "# plt.title('Regularized Logistic Regression Prediction Accuracy Over Iterations of Gradient Descent')\n",
    "# plt.show()"
   ]
  },
  {
   "cell_type": "markdown",
   "metadata": {},
   "source": [
    "### Using the polynomial model"
   ]
  },
  {
   "cell_type": "code",
   "execution_count": null,
   "metadata": {},
   "outputs": [],
   "source": [
    "degree = 12\n",
    "X_test_poly = build_poly(data_test,degree)\n",
    "X_train_poly = build_poly(data,degree)\n",
    "w = least_squares(labels, X_train_poly)\n",
    "rmse_tr = (np.sqrt(2 * compute_loss(labels, X_train_poly, w)))\n",
    "pred_tr = pred_accuracy(predict_labels(w,X_train_poly),labels)\n",
    "\n",
    "test_prediction = predict_labels(w, X_test_poly)\n",
    "    "
   ]
  },
  {
   "cell_type": "code",
   "execution_count": null,
   "metadata": {},
   "outputs": [],
   "source": [
    "name = \"prediction.csv\"\n",
    "ids = ids_test\n",
    "y_pred = test_prediction\n",
    "create_csv_submission(ids, y_pred, name)\n",
    "\n",
    "# this yielded like 0.62 on kaggle"
   ]
  },
  {
   "cell_type": "markdown",
   "metadata": {},
   "source": [
    "### Using logistic regression"
   ]
  },
  {
   "cell_type": "code",
   "execution_count": null,
   "metadata": {},
   "outputs": [],
   "source": [
    "initial_w = np.ones(tx.shape[1])\n",
    "y[y == -1] = 0\n",
    "losses, ws = logistic_regression(y, tx, initial_w, method = 'sgd', max_iters = 6000) # fit model, retrieve parameters ws"
   ]
  },
  {
   "cell_type": "code",
   "execution_count": null,
   "metadata": {},
   "outputs": [],
   "source": [
    "pred = tx_t.dot(ws[-1])\n",
    "pred[np.where(pred <= 0.5)] = -1\n",
    "pred[np.where(pred > 0.5)] = 1\n",
    "\n",
    "name = \"prediction.csv\"\n",
    "create_csv_submission(t_ids, pred, name)\n",
    "\n",
    "# this yields 0.73 on kaggle"
   ]
  },
  {
   "cell_type": "code",
   "execution_count": null,
   "metadata": {},
   "outputs": [],
   "source": [
    "initial_w = np.ones(tx.shape[1])\n",
    "y[y == -1] = 0\n",
    "losses, ws = reg_logistic_regression(y, tx, initial_w, lamb = 0.1, methods = 'sgd', max_iters = 20000, gamma = 0.0001)\n",
    "\n",
    "pred = tx_t.dot(ws[-1])\n",
    "pred[np.where(pred <= 0.5)] = -1\n",
    "pred[np.where(pred > 0.5)] = 1\n",
    "\n",
    "name = \"prediction_2.csv\"\n",
    "create_csv_submission(t_ids, pred, name)"
   ]
  }
 ],
 "metadata": {
  "kernelspec": {
   "display_name": "Python [default]",
   "language": "python",
   "name": "python3"
  },
  "language_info": {
   "codemirror_mode": {
    "name": "ipython",
    "version": 3
   },
   "file_extension": ".py",
   "mimetype": "text/x-python",
   "name": "python",
   "nbconvert_exporter": "python",
   "pygments_lexer": "ipython3",
   "version": "3.6.6"
  }
 },
 "nbformat": 4,
 "nbformat_minor": 2
}
