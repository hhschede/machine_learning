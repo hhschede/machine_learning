{
 "cells": [
  {
   "cell_type": "code",
   "execution_count": 1,
   "metadata": {},
   "outputs": [
    {
     "name": "stdout",
     "output_type": "stream",
     "text": [
      "The original dimensions of the training data set was 250000 samples and 30 columns. After feature and sample filtering, there are 223877 samples and 23 columns\n"
     ]
    }
   ],
   "source": [
    "# Modules\n",
    "import csv\n",
    "import numpy as np\n",
    "import matplotlib.pyplot as plt\n",
    "from mpl_toolkits import mplot3d\n",
    "import datetime\n",
    "\n",
    "# Functions\n",
    "from implementations import *\n",
    "from helpers import *\n",
    "\n",
    "# Autoreload\n",
    "%load_ext autoreload\n",
    "%autoreload 2\n",
    "\n",
    "# Set random seed\n",
    "np.random.seed(1)\n",
    "\n",
    "\n",
    "(labels_raw, data_raw, ids_raw) = load_csv_data(\"data/train.csv\")\n",
    "(t_labels, t_data_raw, t_ids) = load_csv_data(\"data/test.csv\")\n",
    "data_, data_t_, labels, ids = process_data(data_raw, t_data_raw, labels_raw, ids_raw, zero = False)\n"
   ]
  },
  {
   "cell_type": "code",
   "execution_count": 28,
   "metadata": {},
   "outputs": [],
   "source": [
    "\n",
    "def hello(times):\n",
    "    for i in np.arange(times):\n",
    "        x = 'hello' * i\n",
    "        yield x\n",
    " \n",
    "okay = hello(4)\n",
    "next(okay)\n",
    "\n",
    "\n",
    "def build_k_indices(y, k_fold, seed):\n",
    "    \"\"\"build k indices for k-fold.\"\"\"\n",
    "    num_row = y.shape[0]\n",
    "    interval = int(num_row / k_fold)\n",
    "    np.random.seed(seed)\n",
    "    indices = np.random.permutation(num_row)\n",
    "    k_indices = [indices[k * interval: (k + 1) * interval] for k in range(k_fold)]\n",
    "    return np.array(k_indices)\n",
    "\n",
    "def cross_val(y, x, k_indices, k, lambda_, degree):\n",
    "    \"\"\"get subsets for cross validation\"\"\"\n",
    "    \n",
    "    k_indices = build_k_indices(labels, k, 0)\n",
    "\n",
    "    for i in np.arange(k):\n",
    "        te_indice = k_indices[i]\n",
    "        tr_indice = np.delete(k_indices, te_indice)\n",
    "        y_te = y[te_indice]\n",
    "        y_tr = y[tr_indice]\n",
    "        x_te = x[te_indice]\n",
    "        x_tr = x[tr_indice]\n",
    "        \n",
    "        # standardize the sets\n",
    "        \n",
    "        x_train, mean, variance = standardize(x_tr)\n",
    "        x_test = standardize_test(x_te, mean, variance)\n",
    "    \n",
    "        yield np.array(y_tr), np.array(x_train), np.array(y_te), np.array(x_test) #this is a generator! call next(object) for next set\n",
    "\n",
    "\n",
    "\n",
    "\n",
    "\n"
   ]
  },
  {
   "cell_type": "code",
   "execution_count": 29,
   "metadata": {},
   "outputs": [
    {
     "name": "stderr",
     "output_type": "stream",
     "text": [
      "/anaconda3/envs/ada/lib/python3.6/site-packages/ipykernel/__main__.py:27: DeprecationWarning: in the future out of bounds indices will raise an error instead of being ignored by `numpy.delete`.\n"
     ]
    }
   ],
   "source": [
    "\n",
    "\n",
    "def least_squares_GD(y, tx, initial_w, tol = 1e-8, max_iters = 10000, gamma = 0.05, k=4,  write = False):\n",
    "    \"\"\"Gradient descent algorithm.\"\"\"\n",
    "    gen = cross_val(y, tx, k_indices, k, 0.01, 2)\n",
    "    test_loss = []\n",
    "    \n",
    "    for i in np.arange(k):\n",
    "        y_tr, x_tr, y_te, x_te = next(gen)\n",
    "\n",
    "        # Define parameters to store w and loss\n",
    "        ws = [initial_w]\n",
    "        w = initial_w\n",
    "        # losses = [compute_loss(y_tr, x_tr, w)]\n",
    "        # diff = losses[0]\n",
    "        n_iter=0\n",
    "\n",
    "        while (n_iter < max_iters): # or (diff > tol):\n",
    "            # compute gradient\n",
    "            gd = compute_gradient(y_tr, x_tr, w)\n",
    "            # compute next w\n",
    "            w = w - gamma*gd\n",
    "\n",
    "            # compute loss and diff\n",
    "            # loss = compute_loss(y_tr, x_tr, w) \n",
    "            # diff = abs(loss-losses[-1])\n",
    "\n",
    "            # store w and loss and increment\n",
    "            # ws.append(w)\n",
    "            n_iter += 1\n",
    "\n",
    "            if write == True:\n",
    "                print(\"Gradient Descent({bi}/{ti}): loss={l}, w0={w0}, w1={w1}\".format(\n",
    "                      bi=n_iter, ti=max_iters - 1, l=loss, w0=w[0], w1=w[1]))\n",
    "            \n",
    "        # append the test_loss to the list so it can be averaged at the end\n",
    "        test_loss.append(compute_loss(y_te, x_te, w))\n",
    "    return np.array(test_loss).mean()\n",
    "\n",
    "\n",
    "initial_w = np.zeros(data_.shape[1])\n",
    "losses = least_squares_GD(labels, data_, initial_w, gamma = 0.0001, max_iters = 20) # fit model and retrieve W's across iterations\n"
   ]
  },
  {
   "cell_type": "code",
   "execution_count": 30,
   "metadata": {},
   "outputs": [
    {
     "name": "stdout",
     "output_type": "stream",
     "text": [
      "0.4994044016567428\n"
     ]
    }
   ],
   "source": [
    "print(losses)"
   ]
  },
  {
   "cell_type": "code",
   "execution_count": 34,
   "metadata": {},
   "outputs": [
    {
     "data": {
      "image/png": "[encoded data removed]",
      "text/plain": [
       "<Figure size 576x396 with 1 Axes>"
      ]
     },
     "metadata": {},
     "output_type": "display_data"
    }
   ],
   "source": [
    "\n",
    "plt.style.use('seaborn')\n",
    "plt.plot(losses, label='Training set loss', c='blue')\n",
    "# plt.plot(losses, label='Test set loss', c='red')\n",
    "plt.xlabel('Iteration')\n",
    "plt.ylabel('Loss')\n",
    "plt.title('Cost Function Loss Over Iterations of Gradient Descent')\n",
    "plt.legend()\n",
    "plt.show()"
   ]
  },
  {
   "cell_type": "code",
   "execution_count": null,
   "metadata": {},
   "outputs": [],
   "source": []
  }
 ],
 "metadata": {
  "kernelspec": {
   "display_name": "Python [conda env:ada]",
   "language": "python",
   "name": "conda-env-ada-py"
  },
  "language_info": {
   "codemirror_mode": {
    "name": "ipython",
    "version": 3
   },
   "file_extension": ".py",
   "mimetype": "text/x-python",
   "name": "python",
   "nbconvert_exporter": "python",
   "pygments_lexer": "ipython3",
   "version": "3.6.6"
  }
 },
 "nbformat": 4,
 "nbformat_minor": 2
}
