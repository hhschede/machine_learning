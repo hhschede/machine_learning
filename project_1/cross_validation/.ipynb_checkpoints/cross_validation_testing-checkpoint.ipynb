{
 "cells": [
  {
   "cell_type": "code",
   "execution_count": 1,
   "metadata": {},
   "outputs": [],
   "source": [
    "# Modules\n",
    "import csv\n",
    "import numpy as np\n",
    "import matplotlib.pyplot as plt\n",
    "from mpl_toolkits import mplot3d\n",
    "import datetime\n",
    "import os\n",
    "\n",
    "# Functions\n",
    "from implementations_cross_validation import *\n",
    "from helpers import *\n",
    "from preprocessing import *\n",
    "\n",
    "# Autoreload\n",
    "%load_ext autoreload\n",
    "%autoreload 2\n"
   ]
  },
  {
   "cell_type": "code",
   "execution_count": 2,
   "metadata": {},
   "outputs": [
    {
     "name": "stdout",
     "output_type": "stream",
     "text": [
      "The original dimensions of the training data set was 250000 samples and 30 columns\n",
      " After feature and sample filtering, there are 223877 samples and 23 columns\n"
     ]
    }
   ],
   "source": [
    "# Set random seed\n",
    "np.random.seed(1)\n",
    "\n",
    "(labels_raw, data_raw, ids_raw) = load_csv_data(\"data/train.csv\")\n",
    "(t_labels, t_data_raw, t_ids) = load_csv_data(\"data/test.csv\")\n",
    "# labels_raw_portion = labels_raw[:10000]\n",
    "# data_raw_portion = data_raw[:10000,:]\n",
    "# ids_raw_portion = ids_raw[:10000]\n",
    "data_, data_t_, labels = process_data(data_raw, t_data_raw, labels_raw, ids_raw, replace = 'mean')\n"
   ]
  },
  {
   "cell_type": "code",
   "execution_count": 3,
   "metadata": {},
   "outputs": [],
   "source": [
    "# Create train/test split\n",
    "\n",
    "X_train, y_train, X_test, y_test = split_data(data_, labels, ratio=0.8, seed=1)\n",
    "\n",
    "# Create standardizations for the split\n",
    "\n",
    "X_train_std, mean, variance = standardize(X_train)\n",
    "X_test_std = standardize_test(X_test, mean, variance)\n",
    "\n",
    "# Initialize boxplots values\n",
    "\n",
    "boxplots = []\n",
    "test_accuracies = []"
   ]
  },
  {
   "cell_type": "markdown",
   "metadata": {},
   "source": [
    "# Linear Regression: Gradient Descent"
   ]
  },
  {
   "cell_type": "code",
   "execution_count": 4,
   "metadata": {},
   "outputs": [],
   "source": [
    "# Initialize w vector\n",
    "initial_w = np.random.rand(data_.shape[1])\n",
    "k_ = 4\n",
    "\n",
    "# Perform linear regression by gradient descent with cross validation (k=4)\n",
    "test_loss_mean, test_loss_var, vector_test_loss, train_loss_mean, w_final, accuracies = least_squares_GD(y_train, X_train, initial_w, gamma = 0.00005, k=k_, max_iters = 5000)\n",
    "boxplots.append(accuracies)\n",
    "\n",
    "# Perform linear regression by gradient descent on whole training set\n",
    "w = least_squares_GD(y_train, X_train_std, initial_w, gamma = 0.00005, k=0, max_iters = 5000)\n",
    "\n",
    "# Use w to predict unseen test set labels\n",
    "test_pred_lab = predict_labels(w, X_test_std)\n",
    "test_accuracy = pred_accuracy(test_pred_lab, y_test)\n",
    "test_accuracies.append(test_accuracy)"
   ]
  },
  {
   "cell_type": "code",
   "execution_count": 5,
   "metadata": {},
   "outputs": [
    {
     "data": {
      "text/plain": [
       "98"
      ]
     },
     "execution_count": 5,
     "metadata": {},
     "output_type": "execute_result"
    }
   ],
   "source": [
    "# Write results to file\n",
    "\n",
    "file_object = open('cv_results', 'w')\n",
    "file_object.write('fold1, fold2, fold3, fold4, test_set \\n')\n",
    "acc_s = str(accuracies[0]) + ', ' + str(accuracies[1]) + ', ' + str(accuracies[2]) + ', ' + str(accuracies[3])\n",
    "acc_t = str(test_accuracy) + '\\n'\n",
    "file_object.write(acc_s + ', ' + acc_t)\n"
   ]
  },
  {
   "cell_type": "code",
   "execution_count": 6,
   "metadata": {},
   "outputs": [
    {
     "data": {
      "text/plain": [
       "[<matplotlib.lines.Line2D at 0x11f12d518>]"
      ]
     },
     "execution_count": 6,
     "metadata": {},
     "output_type": "execute_result"
    },
    {
     "data": {
      "image/png": "[encoded data removed]",
      "text/plain": [
       "<Figure size 576x396 with 1 Axes>"
      ]
     },
     "metadata": {},
     "output_type": "display_data"
    }
   ],
   "source": [
    "plt.style.use('seaborn')\n",
    "plt.boxplot(accuracies)\n",
    "plt.plot(1, test_accuracy, marker='o', c='red')"
   ]
  },
  {
   "cell_type": "markdown",
   "metadata": {},
   "source": [
    "# Linear Regression: Stochastic Gradient Descent"
   ]
  },
  {
   "cell_type": "code",
   "execution_count": 7,
   "metadata": {},
   "outputs": [],
   "source": [
    "# Initialize w vector\n",
    "initial_w = np.random.rand(data_.shape[1])\n",
    "k_ = 4\n",
    "batch_size = 500 # default batch size in SGD function\n",
    "max_iter_batch = int(X_train.shape[0] / batch_size) - 1 # how many iterations one should do\n",
    "\n",
    "# Perform algorithm with cross validation (k=4)\n",
    "w_final, accuracies = least_squares_SGD(y_train, X_train, initial_w, batch_size = batch_size, gamma = 0.00005, k=k_, max_iters=max_iter_batch)\n",
    "boxplots.append(accuracies)\n",
    "\n",
    "# Perform algorithm on whole training set\n",
    "w = least_squares_SGD(y_train, X_train, initial_w, gamma = 0.00005, k=0, max_iters=max_iter_batch)\n",
    "\n",
    "# Use w to predict unseen test set labels\n",
    "test_pred_lab = predict_labels(w, X_test_std)\n",
    "test_accuracy = pred_accuracy(test_pred_lab, y_test)\n",
    "test_accuracies.append(test_accuracy)"
   ]
  },
  {
   "cell_type": "code",
   "execution_count": 8,
   "metadata": {},
   "outputs": [
    {
     "data": {
      "text/plain": [
       "98"
      ]
     },
     "execution_count": 8,
     "metadata": {},
     "output_type": "execute_result"
    }
   ],
   "source": [
    "# Write results to file\n",
    "\n",
    "acc_s = str(accuracies[0]) + ', ' + str(accuracies[1]) + ', ' + str(accuracies[2]) + ', ' + str(accuracies[3])\n",
    "acc_t = str(test_accuracy) + '\\n'\n",
    "file_object.write(acc_s + ', ' + acc_t)"
   ]
  },
  {
   "cell_type": "markdown",
   "metadata": {},
   "source": [
    "# Linear Regression: Direct Least Squares"
   ]
  },
  {
   "cell_type": "code",
   "execution_count": 9,
   "metadata": {},
   "outputs": [],
   "source": [
    "k_ = 4\n",
    "\n",
    "# Perform linear regression by direct least squares with cross validation (k=4)\n",
    "test_loss_mean, test_loss_var, train_loss_mean, w_final, accuracies = least_squares(y_train, X_train, k_)\n",
    "boxplots.append(accuracies)\n",
    "\n",
    "# Perform linear regression by direct least squares on whole training set\n",
    "w = least_squares(y_train, X_train_std, k=0)\n",
    "\n",
    "# Use w to predict unseen test set labels\n",
    "test_pred_lab = predict_labels(w, X_test_std)\n",
    "test_accuracy = pred_accuracy(test_pred_lab, y_test)\n",
    "test_accuracies.append(test_accuracy)"
   ]
  },
  {
   "cell_type": "code",
   "execution_count": 10,
   "metadata": {},
   "outputs": [
    {
     "data": {
      "text/plain": [
       "99"
      ]
     },
     "execution_count": 10,
     "metadata": {},
     "output_type": "execute_result"
    }
   ],
   "source": [
    "# Write results to file\n",
    "\n",
    "acc_s = str(accuracies[0]) + ', ' + str(accuracies[1]) + ', ' + str(accuracies[2]) + ', ' + str(accuracies[3])\n",
    "acc_t = str(test_accuracy) + '\\n'\n",
    "file_object.write(acc_s + ', ' + acc_t)\n"
   ]
  },
  {
   "cell_type": "markdown",
   "metadata": {},
   "source": [
    "# Linear Regression: Regularized"
   ]
  },
  {
   "cell_type": "code",
   "execution_count": 30,
   "metadata": {},
   "outputs": [],
   "source": [
    "# Search for optimal lambda value to implement for cross validation\n",
    "\n",
    "lambdas = np.logspace(-7, 0, 30)\n",
    "rmse_tr = []\n",
    "rmse_ts = []\n",
    "pred_tr = []\n",
    "pred_ts = []\n",
    "\n",
    "for ind, lambda_ in enumerate(lambdas):\n",
    "    \n",
    "    w = ridge_regression(y_train, X_train, lambda_, k=0)\n",
    "    \n",
    "#     rmse_tr.append(np.sqrt(2 * compute_loss(y_train, X_train, w)))\n",
    "    pred_tr.append(pred_accuracy(predict_labels(w, X_train), y_train))\n",
    "#     rmse_ts.append(np.sqrt(2 * compute_loss(y_test, X_test, w)))\n",
    "    pred_ts.append(pred_accuracy(predict_labels(w, X_test), y_test))\n",
    "    \n",
    "selected_lambda = lambdas[np.argmax(pred_ts)]"
   ]
  },
  {
   "cell_type": "code",
   "execution_count": 32,
   "metadata": {},
   "outputs": [],
   "source": [
    "k_ = 4\n",
    "\n",
    "# Perform regularized linear regression with cross validation (k=4)\n",
    "# Note that the value for lambda that is selected for this cross validation assessment it taken \n",
    "# from the above grid search which provided the best accuracies scores for the test set.\n",
    "\n",
    "w_final, accuracies = ridge_regression(y_train, X_train, lambda_=selected_lambda, k=k_)\n",
    "boxplots.append(accuracies)\n",
    "\n",
    "# Perform regularized linear regression on whole training set\n",
    "w = ridge_regression(y_train, X_train_std, lambda_=selected_lambda, k=0)\n",
    "\n",
    "# Use w to predict unseen test set labels\n",
    "test_pred_lab = predict_labels(w, X_test_std)\n",
    "test_accuracy = pred_accuracy(test_pred_lab, y_test)\n",
    "test_accuracies.append(test_accuracy)"
   ]
  },
  {
   "cell_type": "code",
   "execution_count": 33,
   "metadata": {},
   "outputs": [],
   "source": [
    "# Write results to file\n",
    "\n",
    "acc_s = str(accuracies[0]) + ', ' + str(accuracies[1]) + ', ' + str(accuracies[2]) + ', ' + str(accuracies[3])\n",
    "acc_t = str(test_accuracy) + '\\n'\n",
    "file_object.write(acc_s + ', ' + acc_t)\n",
    "file_object.close()"
   ]
  },
  {
   "cell_type": "markdown",
   "metadata": {},
   "source": [
    "# Logistic Regression"
   ]
  },
  {
   "cell_type": "code",
   "execution_count": null,
   "metadata": {},
   "outputs": [],
   "source": [
    "# Initialize parameters\n",
    "initial_w = np.random.rand(data_.shape[1])\n",
    "k_ = 4\n",
    "thresh = 0.5\n",
    "\n",
    "# Perform logistic regression with Newton's Method\n",
    "\n",
    "w_final, accuracies = logistic_hessian(y_train, X_train, initial_w = initial_w, k=k_, lam=0.1)\n",
    "boxplots.append(accuracies)\n",
    "\n",
    "# Perform algorithm on entire training set to retrieve w\n",
    "w = logistic_hessian(y_train, X_train_std, initial_w=initial_w,lam=0.1, k=0)\n",
    "\n",
    "# Use w to predict unseen test set labels\n",
    "test_pred_lab = predict_labels_logistic(w, X_test_std, threshold=thresh)\n",
    "test_accuracy = pred_accuracy(test_pred_lab, y_test)\n",
    "test_accuracies.append(test_accuracy)"
   ]
  },
  {
   "cell_type": "code",
   "execution_count": null,
   "metadata": {},
   "outputs": [],
   "source": [
    "print(test_accuracy)"
   ]
  },
  {
   "cell_type": "code",
   "execution_count": null,
   "metadata": {},
   "outputs": [],
   "source": [
    "# Write results to file\n",
    "\n",
    "acc_s = str(accuracies[0]) + ', ' + str(accuracies[1]) + ', ' + str(accuracies[2]) + ', ' + str(accuracies[3])\n",
    "acc_t = str(test_accuracy) + '\\n'\n",
    "file_object.write(acc_s + ', ' + acc_t)\n",
    "file_object.close()"
   ]
  },
  {
   "cell_type": "markdown",
   "metadata": {},
   "source": [
    "# Create Boxplots"
   ]
  },
  {
   "cell_type": "code",
   "execution_count": 35,
   "metadata": {},
   "outputs": [
    {
     "name": "stdout",
     "output_type": "stream",
     "text": [
      "[0.5557565605806812, 0.5716582914572864, 0.6879731993299832, 0.6879061976549413]\n"
     ]
    },
    {
     "data": {
      "image/png": "[encoded data removed]",
      "text/plain": [
       "<Figure size 576x396 with 1 Axes>"
      ]
     },
     "metadata": {},
     "output_type": "display_data"
    }
   ],
   "source": [
    "# Create boxplots\n",
    "\n",
    "plt.style.use('seaborn')\n",
    "plt.boxplot(boxplots)\n",
    "plt.plot(1, test_accuracies[0], marker='o', c='red')\n",
    "plt.plot(2, test_accuracies[1], marker='o', c='red')\n",
    "plt.plot(3, test_accuracies[2], marker='o', c='red')\n",
    "plt.plot(4, test_accuracies[3], marker='o', c='red')\n",
    "print(test_accuracies)"
   ]
  },
  {
   "cell_type": "code",
   "execution_count": null,
   "metadata": {},
   "outputs": [],
   "source": [
    "# #make a plot of the four k's to see how they vary over time\n",
    "\n",
    "# means_over_time = vector_test_loss.mean(axis=0)\n",
    "# error1 = abs(means_over_time - vector_test_loss[0])\n",
    "# error2 = abs(means_over_time - vector_test_loss[1])\n",
    "# error3 = abs(means_over_time- vector_test_loss[2])\n",
    "# error4 = abs(means_over_time - vector_test_loss[3])\n",
    "# x = np.arange(len(error1))\n",
    "\n",
    "\n",
    "# plt.style.use('seaborn')\n",
    "# # for i in np.arange(4):\n",
    "# #     plt.plot(x, vector_test_loss[i], label= 'Trial {}'.format(i))\n",
    "# plt.plot(x, vector_test_loss[0], label='Trial 1', c='red')\n",
    "# plt.fill_between(x, vector_test_loss[0]-error1, vector_test_loss[0]+error1,\n",
    "#     alpha=0.2, edgecolor='#CC4F1B', facecolor='#FF9848')\n",
    "# plt.plot(x, vector_test_loss[1], label='Trial 2', c = 'green')\n",
    "# plt.fill_between(x, vector_test_loss[1] - error2, vector_test_loss[1] + error2, alpha = 0.2, edgecolor='#FF3F1B', facecolor = '#12E99F')\n",
    "# plt.plot(x, vector_test_loss[2], label='Trial 3', c='blue')\n",
    "# plt.fill_between(x, vector_test_loss[2]-error3, vector_test_loss[2]+error3,\n",
    "#     alpha=0.2, edgecolor='#CC4F1B', facecolor='#12E2FF')\n",
    "# plt.plot(x, vector_test_loss[3], label='Trial 4', c='purple')\n",
    "# plt.fill_between(x, vector_test_loss[3]-error4, vector_test_loss[3]+error4,\n",
    "#     alpha=0.2, edgecolor='#CC4F1B', facecolor='#FF00FF')\n",
    "# plt.xlabel('Iteration')\n",
    "# plt.ylabel('Loss')\n",
    "# plt.title('Test Set Loss Over Iterations of Gradient Descent')\n",
    "# plt.legend()\n",
    "# plt.show()"
   ]
  },
  {
   "cell_type": "code",
   "execution_count": null,
   "metadata": {},
   "outputs": [],
   "source": []
  }
 ],
 "metadata": {
  "kernelspec": {
   "display_name": "Python [conda env:ada]",
   "language": "python",
   "name": "conda-env-ada-py"
  },
  "language_info": {
   "codemirror_mode": {
    "name": "ipython",
    "version": 3
   },
   "file_extension": ".py",
   "mimetype": "text/x-python",
   "name": "python",
   "nbconvert_exporter": "python",
   "pygments_lexer": "ipython3",
   "version": "3.6.6"
  }
 },
 "nbformat": 4,
 "nbformat_minor": 2
}
