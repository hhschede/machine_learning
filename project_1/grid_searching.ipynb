{
 "cells": [
  {
   "cell_type": "markdown",
   "metadata": {},
   "source": [
    "Importation of modules and functions\n",
    "==="
   ]
  },
  {
   "cell_type": "code",
   "execution_count": 1,
   "metadata": {},
   "outputs": [],
   "source": [
    "# Modules\n",
    "import csv\n",
    "import numpy as np\n",
    "import matplotlib.pyplot as plt\n",
    "from mpl_toolkits import mplot3d\n",
    "import sys\n",
    "import datetime\n",
    "import random\n",
    "import warnings\n",
    "\n",
    "# Functions\n",
    "sys.path.insert(0, './implementations/')\n",
    "from implementations import *\n",
    "from preprocessing import *\n",
    "from pca import *\n",
    "from plot import *\n",
    "from helpers import *\n",
    "\n",
    "# Autoreload\n",
    "%load_ext autoreload\n",
    "%autoreload 2\n",
    "\n",
    "# Set random seed\n",
    "np.random.seed(1)"
   ]
  },
  {
   "cell_type": "markdown",
   "metadata": {},
   "source": [
    "Training data loading\n",
    "==="
   ]
  },
  {
   "cell_type": "code",
   "execution_count": 2,
   "metadata": {},
   "outputs": [],
   "source": [
    "(labels_raw, data_raw, ids_raw) = load_csv_data(\"data/train.csv\")"
   ]
  },
  {
   "cell_type": "markdown",
   "metadata": {},
   "source": [
    "Splitting data and jets\n",
    "==="
   ]
  },
  {
   "cell_type": "code",
   "execution_count": 3,
   "metadata": {},
   "outputs": [],
   "source": [
    "# Splitting data\n",
    "X_train, y_train, X_test, y_test = split_data(data_raw, labels_raw)\n",
    "\n",
    "# Get feature jet_num\n",
    "jets = X_train[:,22]\n",
    "jets_t = X_test[:,22]\n",
    "\n",
    "# Get index of samples with appropriate jet\n",
    "idx_jet0 = np.argwhere(jets == 0)[:,0]\n",
    "idx_jet1 = np.argwhere(jets == 1)[:,0]\n",
    "idx_jet2 = np.argwhere(jets >= 2)[:,0]\n",
    "\n",
    "idx_jet0_t = np.argwhere(jets_t == 0)[:,0]\n",
    "idx_jet1_t = np.argwhere(jets_t == 1)[:,0]\n",
    "idx_jet2_t = np.argwhere(jets_t >= 2)[:,0]"
   ]
  },
  {
   "cell_type": "code",
   "execution_count": 4,
   "metadata": {},
   "outputs": [],
   "source": [
    "# Remove jet_num feature as it will be constant after separation\n",
    "X_train = np.delete(X_train, 22, axis=1)\n",
    "X_test = np.delete(X_test, 22, axis=1)\n",
    "\n",
    "# Split data relative to jets\n",
    "data_tr_j0 = X_train[idx_jet0,:]\n",
    "data_tr_j1 = X_train[idx_jet1,:]\n",
    "data_tr_j2 = X_train[idx_jet2,:]\n",
    "\n",
    "data_ts_j0 = X_test[idx_jet0_t,:]\n",
    "data_ts_j1 = X_test[idx_jet1_t,:]\n",
    "data_ts_j2 = X_test[idx_jet2_t,:]\n",
    "\n",
    "# Split labels relative to jets\n",
    "lab_j0 = y_train[idx_jet0]\n",
    "lab_j1 = y_train[idx_jet1]\n",
    "lab_j2 = y_train[idx_jet2]\n",
    "\n",
    "lab_j0_t = y_test[idx_jet0_t]\n",
    "lab_j1_t = y_test[idx_jet1_t]\n",
    "lab_j2_t = y_test[idx_jet2_t]"
   ]
  },
  {
   "cell_type": "markdown",
   "metadata": {},
   "source": [
    "Data filtering and normalization\n",
    "==="
   ]
  },
  {
   "cell_type": "code",
   "execution_count": 5,
   "metadata": {},
   "outputs": [
    {
     "name": "stdout",
     "output_type": "stream",
     "text": [
      "Filtering features\n",
      "Finding and replacing outliers by column mean\n",
      "Replacing NaN points with feature mean value\n",
      "Standardizing the data\n",
      "Filtering features\n",
      "Finding and replacing outliers by column mean\n",
      "Replacing NaN points with feature mean value\n",
      "Standardizing the data\n",
      "Filtering features\n",
      "Finding and replacing outliers by column mean\n",
      "Replacing NaN points with feature mean value\n",
      "Standardizing the data\n"
     ]
    }
   ],
   "source": [
    "# Filtering features, missing values and outliers\n",
    "data_j0, data_j0_t = process_data(data_tr_j0, data_ts_j0)\n",
    "data_j1, data_j1_t = process_data(data_tr_j1, data_ts_j1)\n",
    "data_j2, data_j2_t = process_data(data_tr_j2, data_ts_j2)"
   ]
  },
  {
   "cell_type": "code",
   "execution_count": 6,
   "metadata": {},
   "outputs": [
    {
     "name": "stdout",
     "output_type": "stream",
     "text": [
      "Building polynomial of degree 4\n",
      "Building the interactive terms\n",
      "Taking the log value of the data\n",
      "Building the interactive terms of order three\n",
      "Performing PCA and keeping feature explaining 1 of the variance\n",
      "Reducing the number of PCA to 382\n",
      "Adding a columns of ones to the dataset\n",
      "Building polynomial of degree 4\n",
      "Building the interactive terms\n",
      "Taking the log value of the data\n",
      "Building the interactive terms of order three\n",
      "Performing PCA and keeping feature explaining 1 of the variance\n",
      "Reducing the number of PCA to 556\n",
      "Adding a columns of ones to the dataset\n",
      "Building polynomial of degree 4\n",
      "Building the interactive terms\n",
      "Taking the log value of the data\n",
      "Building the interactive terms of order three\n",
      "Performing PCA and keeping feature explaining 1 of the variance\n",
      "Reducing the number of PCA to 957\n",
      "Adding a columns of ones to the dataset\n"
     ]
    }
   ],
   "source": [
    "# Transforming data using polynomials, log and interaction terms\n",
    "y_j0, tx_j0, y_j0_t, tx_j0_t = transform_data(data_j0, data_j0_t, lab_j0, lab_j0_t)\n",
    "y_j1, tx_j1, y_j1_t, tx_j1_t = transform_data(data_j1, data_j1_t, lab_j1, lab_j1_t)\n",
    "y_j2, tx_j2, y_j2_t, tx_j2_t = transform_data(data_j2, data_j2_t, lab_j2, lab_j2_t)"
   ]
  },
  {
   "cell_type": "code",
   "execution_count": 7,
   "metadata": {},
   "outputs": [
    {
     "name": "stdout",
     "output_type": "stream",
     "text": [
      "25/50\t train acc : 0.8514445153460205 \t | test acc : 0.8464732366183092\n",
      "50/50\t train acc : 0.8514069792174969 \t | test acc : 0.8465232616308154\n",
      "25/50\t train acc : 0.8205049608776317 \t | test acc : 0.8150909441480815\n",
      "50/50\t train acc : 0.8204888279422441 \t | test acc : 0.8154765730445401\n",
      "25/50\t train acc : 0.853594298698616 \t | test acc : 0.8412566604387239\n",
      "50/50\t train acc : 0.8529401638779867 \t | test acc : 0.8411182617119922\n"
     ]
    }
   ],
   "source": [
    "max_iter = 50\n",
    "\n",
    "initial_w = np.zeros(tx_j0.shape[1])\n",
    "losses, losses_t, acc0, acc_t0, w_0 = logistic_hessian(y_j0, tx_j0, y_j0_t, tx_j0_t, initial_w, gamma = 0.08, lam = 0.01, max_iters = max_iter)\n",
    "\n",
    "initial_w = np.zeros(tx_j1.shape[1])\n",
    "losses, losses_t, acc1, acc_t1, w_1 = logistic_hessian(y_j1, tx_j1, y_j1_t, tx_j1_t, initial_w, gamma = 0.0575, lam = 10, max_iters = max_iter)\n",
    "\n",
    "initial_w = np.zeros(tx_j2.shape[1])\n",
    "losses, losses_t, acc2, acc_t2, w_2 = logistic_hessian(y_j2, tx_j2, y_j2_t, tx_j2_t, initial_w, gamma = 0.065, lam = 10, max_iters = max_iter)"
   ]
  },
  {
   "cell_type": "code",
   "execution_count": 8,
   "metadata": {},
   "outputs": [
    {
     "data": {
      "image/png": "[encoded data removed]",
      "text/plain": [
       "<Figure size 576x396 with 1 Axes>"
      ]
     },
     "metadata": {},
     "output_type": "display_data"
    }
   ],
   "source": [
    "# Plotting the training and testing accuracies of the three jet groups\n",
    "\n",
    "plt.style.use('seaborn')\n",
    "\n",
    "plt.ylim(0.8, 0.86)\n",
    "plt.xlim(1.5,50)\n",
    "plt.plot(acc0, label='train_jet_num = 0', c='blue', linestyle='dashed')\n",
    "plt.plot(acc_t0, label='test_jet_num = 0', c='blue')\n",
    "\n",
    "plt.plot(acc1, label='train_jet_num = 1', c='red', linestyle='dashed')\n",
    "plt.plot(acc_t1, label='test_jet_num = 1', c='red')\n",
    "\n",
    "plt.plot(acc2, label='train_jet_num > 1', c='green', linestyle='dashed')\n",
    "plt.plot(acc_t2, label='test_jet_num > 1', c='green')\n",
    "\n",
    "plt.xlabel('Iteration')\n",
    "plt.ylabel('Prediction Accuracy')\n",
    "plt.legend()\n",
    "plt.savefig('jet_acc.png')\n",
    "\n",
    "plt.show()"
   ]
  },
  {
   "cell_type": "markdown",
   "metadata": {},
   "source": [
    "Grid search for best lambda and learning rate\n",
    "==="
   ]
  },
  {
   "cell_type": "markdown",
   "metadata": {},
   "source": [
    "Jet num = 0\n",
    "=="
   ]
  },
  {
   "cell_type": "code",
   "execution_count": 99,
   "metadata": {},
   "outputs": [
    {
     "name": "stdout",
     "output_type": "stream",
     "text": [
      "gamma: 0.05 \t| lambda: 0.01 \t| test acc: 0.8451225612806403\n",
      "gamma: 0.05 \t| lambda: 0.1 \t| test acc: 0.8451725862931466\n",
      "gamma: 0.05 \t| lambda: 1.0 \t| test acc: 0.8451725862931466\n",
      "gamma: 0.05 \t| lambda: 10.0 \t| test acc: 0.8453226613306654\n",
      "gamma: 0.05 \t| lambda: 100.0 \t| test acc: 0.8451725862931466\n",
      "gamma: 0.0575 \t| lambda: 0.01 \t| test acc: 0.8459229614807404\n",
      "gamma: 0.0575 \t| lambda: 0.1 \t| test acc: 0.8459229614807404\n",
      "gamma: 0.0575 \t| lambda: 1.0 \t| test acc: 0.8458729364682341\n",
      "gamma: 0.0575 \t| lambda: 10.0 \t| test acc: 0.8453726863431715\n",
      "gamma: 0.0575 \t| lambda: 100.0 \t| test acc: 0.8453726863431715\n",
      "gamma: 0.065 \t| lambda: 0.01 \t| test acc: 0.8462231115557779\n",
      "gamma: 0.065 \t| lambda: 0.1 \t| test acc: 0.8462731365682842\n",
      "gamma: 0.065 \t| lambda: 1.0 \t| test acc: 0.8462731365682842\n",
      "gamma: 0.065 \t| lambda: 10.0 \t| test acc: 0.8458729364682341\n",
      "gamma: 0.065 \t| lambda: 100.0 \t| test acc: 0.8455227613806904\n",
      "gamma: 0.07250000000000001 \t| lambda: 0.01 \t| test acc: 0.8463231615807904\n",
      "gamma: 0.07250000000000001 \t| lambda: 0.1 \t| test acc: 0.8465232616308154\n",
      "gamma: 0.07250000000000001 \t| lambda: 1.0 \t| test acc: 0.8462731365682842\n",
      "gamma: 0.07250000000000001 \t| lambda: 10.0 \t| test acc: 0.8464232116058029\n",
      "gamma: 0.07250000000000001 \t| lambda: 100.0 \t| test acc: 0.8453726863431715\n",
      "gamma: 0.08 \t| lambda: 0.01 \t| test acc: 0.8468734367183591\n",
      "gamma: 0.08 \t| lambda: 0.1 \t| test acc: 0.846823411705853\n",
      "gamma: 0.08 \t| lambda: 1.0 \t| test acc: 0.8464732366183092\n",
      "gamma: 0.08 \t| lambda: 10.0 \t| test acc: 0.8466233116558279\n",
      "gamma: 0.08 \t| lambda: 100.0 \t| test acc: 0.8454227113556778\n"
     ]
    }
   ],
   "source": [
    "num_iter = 50\n",
    "lr = np.linspace(0.05,0.08,5)\n",
    "lamb = np.logspace(-2,2,5)\n",
    "\n",
    "initial_w = np.zeros(tx_j0.shape[1])\n",
    "\n",
    "best_gamma = 0\n",
    "best_lambda = 0\n",
    "best_acc = 0\n",
    "grid_acc = np.zeros([len(lr),len(lamb)])\n",
    "\n",
    "# Performing grid search for lambda and gamma(learning rate)\n",
    "for g in range(len(lr)):\n",
    "    for l in range(len(lamb)):\n",
    "        grid_acc[g,l] = Grid_Search_logistic(y_j0, tx_j0, y_j0_t, tx_j0_t, initial_w, gamma=lr[g], lam=lamb[l], max_iters = num_iter, momentum = 0)\n",
    "        print(\"gamma: {0} \\t| lambda: {1} \\t| test acc: {2}\".format(lr[g],lamb[l], grid_acc[g,l]))\n",
    "        if (grid_acc[g,l] > best_acc):\n",
    "            best_acc = grid_acc[g,l]\n",
    "            best_gamma = lr[g]\n",
    "            best_lambda = lamb[l]\n",
    "\n",
    "file = \"grid_search_logistic_jet0.npy\"\n",
    "np.save(file, grid_acc)"
   ]
  },
  {
   "cell_type": "markdown",
   "metadata": {},
   "source": [
    "Jet num = 1\n",
    "=="
   ]
  },
  {
   "cell_type": "code",
   "execution_count": 101,
   "metadata": {},
   "outputs": [
    {
     "name": "stdout",
     "output_type": "stream",
     "text": [
      "gamma: 0.05 \t| lambda: 0.01 \t| test acc: 0.8168905456648885\n",
      "gamma: 0.05 \t| lambda: 0.1 \t| test acc: 0.8168905456648885\n",
      "gamma: 0.05 \t| lambda: 1.0 \t| test acc: 0.817211903078604\n",
      "gamma: 0.05 \t| lambda: 10.0 \t| test acc: 0.8176618034578058\n",
      "gamma: 0.05 \t| lambda: 100.0 \t| test acc: 0.8166977312166591\n",
      "gamma: 0.0575 \t| lambda: 0.01 \t| test acc: 0.8167620026994022\n",
      "gamma: 0.0575 \t| lambda: 0.1 \t| test acc: 0.8167620026994022\n",
      "gamma: 0.0575 \t| lambda: 1.0 \t| test acc: 0.8168905456648885\n",
      "gamma: 0.0575 \t| lambda: 10.0 \t| test acc: 0.8178546179060351\n",
      "gamma: 0.0575 \t| lambda: 100.0 \t| test acc: 0.816569188251173\n",
      "gamma: 0.065 \t| lambda: 0.01 \t| test acc: 0.8165049167684298\n",
      "gamma: 0.065 \t| lambda: 0.1 \t| test acc: 0.8165049167684298\n",
      "gamma: 0.065 \t| lambda: 1.0 \t| test acc: 0.8168905456648885\n",
      "gamma: 0.065 \t| lambda: 10.0 \t| test acc: 0.8172761745613472\n",
      "gamma: 0.065 \t| lambda: 100.0 \t| test acc: 0.8170833601131178\n",
      "gamma: 0.07250000000000001 \t| lambda: 0.01 \t| test acc: 0.8166977312166591\n",
      "gamma: 0.07250000000000001 \t| lambda: 0.1 \t| test acc: 0.8166334597339161\n",
      "gamma: 0.07250000000000001 \t| lambda: 1.0 \t| test acc: 0.8163763738029436\n",
      "gamma: 0.07250000000000001 \t| lambda: 10.0 \t| test acc: 0.816569188251173\n",
      "gamma: 0.07250000000000001 \t| lambda: 100.0 \t| test acc: 0.817211903078604\n",
      "gamma: 0.08 \t| lambda: 0.01 \t| test acc: 0.8163121023202006\n",
      "gamma: 0.08 \t| lambda: 0.1 \t| test acc: 0.8161835593547143\n",
      "gamma: 0.08 \t| lambda: 1.0 \t| test acc: 0.8160550163892281\n",
      "gamma: 0.08 \t| lambda: 10.0 \t| test acc: 0.816569188251173\n",
      "gamma: 0.08 \t| lambda: 100.0 \t| test acc: 0.8170190886303748\n"
     ]
    }
   ],
   "source": [
    "num_iter = 50\n",
    "lr = np.linspace(0.05,0.08,5)\n",
    "lamb = np.logspace(-2,2,5)\n",
    "\n",
    "initial_w = np.zeros(tx_j1.shape[1])\n",
    "\n",
    "best_gamma = 0\n",
    "best_lambda = 0\n",
    "best_acc = 0\n",
    "grid_acc = np.zeros([len(lr),len(lamb)])\n",
    "\n",
    "# Performing grid search for lambda and gamma(learning rate)\n",
    "for g in range(len(lr)):\n",
    "    for l in range(len(lamb)):\n",
    "        grid_acc[g,l] = Grid_Search_logistic(y_j1, tx_j1, y_j1_t, tx_j1_t, initial_w, gamma=lr[g], lam=lamb[l], max_iters = num_iter, momentum = 0)\n",
    "        print(\"gamma: {0} \\t| lambda: {1} \\t| test acc: {2}\".format(lr[g],lamb[l], grid_acc[g,l]))\n",
    "        if (grid_acc[g,l] > best_acc):\n",
    "            best_acc = grid_acc[g,l]\n",
    "            best_gamma = lr[g]\n",
    "            best_lambda = lamb[l]\n",
    "\n",
    "file = \"grid_search_logistic_jet1.npy\"\n",
    "np.save(file, grid_acc)"
   ]
  },
  {
   "cell_type": "markdown",
   "metadata": {},
   "source": [
    "Jet num > 1\n",
    "=="
   ]
  },
  {
   "cell_type": "code",
   "execution_count": 100,
   "metadata": {},
   "outputs": [
    {
     "name": "stdout",
     "output_type": "stream",
     "text": [
      "gamma: 0.05 \t| lambda: 0.01 \t| test acc: 0.8413950591654556\n",
      "gamma: 0.05 \t| lambda: 0.1 \t| test acc: 0.8413950591654556\n",
      "gamma: 0.05 \t| lambda: 1.0 \t| test acc: 0.8418102553456508\n",
      "gamma: 0.05 \t| lambda: 10.0 \t| test acc: 0.8418102553456508\n",
      "gamma: 0.05 \t| lambda: 100.0 \t| test acc: 0.8406338661684313\n",
      "gamma: 0.0575 \t| lambda: 0.01 \t| test acc: 0.8415334578921874\n",
      "gamma: 0.0575 \t| lambda: 0.1 \t| test acc: 0.8416026572555533\n",
      "gamma: 0.0575 \t| lambda: 1.0 \t| test acc: 0.8414642585288216\n",
      "gamma: 0.0575 \t| lambda: 10.0 \t| test acc: 0.8419486540723825\n",
      "gamma: 0.0575 \t| lambda: 100.0 \t| test acc: 0.8416026572555533\n",
      "gamma: 0.065 \t| lambda: 0.01 \t| test acc: 0.8411182617119922\n",
      "gamma: 0.065 \t| lambda: 0.1 \t| test acc: 0.8411182617119922\n",
      "gamma: 0.065 \t| lambda: 1.0 \t| test acc: 0.8412566604387239\n",
      "gamma: 0.065 \t| lambda: 10.0 \t| test acc: 0.8425022489793094\n",
      "gamma: 0.065 \t| lambda: 100.0 \t| test acc: 0.8416718566189191\n",
      "gamma: 0.07250000000000001 \t| lambda: 0.01 \t| test acc: 0.8413950591654556\n",
      "gamma: 0.07250000000000001 \t| lambda: 0.1 \t| test acc: 0.8412566604387239\n",
      "gamma: 0.07250000000000001 \t| lambda: 1.0 \t| test acc: 0.8413258598020898\n",
      "gamma: 0.07250000000000001 \t| lambda: 10.0 \t| test acc: 0.8424330496159436\n",
      "gamma: 0.07250000000000001 \t| lambda: 100.0 \t| test acc: 0.8411874610753581\n",
      "gamma: 0.08 \t| lambda: 0.01 \t| test acc: 0.8416718566189191\n",
      "gamma: 0.08 \t| lambda: 0.1 \t| test acc: 0.841741055982285\n",
      "gamma: 0.08 \t| lambda: 1.0 \t| test acc: 0.8416718566189191\n",
      "gamma: 0.08 \t| lambda: 10.0 \t| test acc: 0.8420178534357484\n",
      "gamma: 0.08 \t| lambda: 100.0 \t| test acc: 0.8406338661684313\n"
     ]
    }
   ],
   "source": [
    "num_iter = 50\n",
    "lr = np.linspace(0.05,0.08,5)\n",
    "lamb = np.logspace(-2,2,5)\n",
    "\n",
    "initial_w = np.zeros(tx_j2.shape[1])\n",
    "\n",
    "best_gamma = 0\n",
    "best_lambda = 0\n",
    "best_acc = 0\n",
    "grid_acc = np.zeros([len(lr),len(lamb)])\n",
    "\n",
    "# Performing grid search for lambda and gamma(learning rate)\n",
    "for g in range(len(lr)):\n",
    "    for l in range(len(lamb)):\n",
    "        grid_acc[g,l] = Grid_Search_logistic(y_j2, tx_j2, y_j2_t, tx_j2_t, initial_w, gamma=lr[g], lam=lamb[l], max_iters = num_iter, momentum = 0)\n",
    "        print(\"gamma: {0} \\t| lambda: {1} \\t| test acc: {2}\".format(lr[g],lamb[l], grid_acc[g,l]))\n",
    "        if (grid_acc[g,l] > best_acc):\n",
    "            best_acc = grid_acc[g,l]\n",
    "            best_gamma = lr[g]\n",
    "            best_lambda = lamb[l]\n",
    "\n",
    "file = \"grid_search_logistic_jet2.npy\"\n",
    "np.save(file, grid_acc)\n"
   ]
  },
  {
   "cell_type": "markdown",
   "metadata": {},
   "source": [
    "Heat maps for the grid search\n",
    "=="
   ]
  },
  {
   "cell_type": "code",
   "execution_count": 102,
   "metadata": {},
   "outputs": [],
   "source": [
    "# Initalizing the parameters:\n",
    "lr = np.linspace(0.05,0.08,5)\n",
    "lamb = np.logspace(-2,2,5)"
   ]
  },
  {
   "cell_type": "code",
   "execution_count": 103,
   "metadata": {},
   "outputs": [
    {
     "data": {
      "text/plain": [
       "Text(52,0.5,'gamma')"
      ]
     },
     "execution_count": 103,
     "metadata": {},
     "output_type": "execute_result"
    },
    {
     "data": {
      "image/png": "[encoded data removed]",
      "text/plain": [
       "<Figure size 576x396 with 2 Axes>"
      ]
     },
     "metadata": {},
     "output_type": "display_data"
    }
   ],
   "source": [
    "file = \"grid_search_logistic_jet0.npy\"\n",
    "grid_acc = np.load(file)\n",
    "import seaborn as sns; sns.set()\n",
    "ax = sns.heatmap(grid_acc,xticklabels=lamb, yticklabels=lr,vmin= 0.844, vmax=0.847)\n",
    "ax.set_xlabel('lambda')\n",
    "ax.set_ylabel('gamma')"
   ]
  },
  {
   "cell_type": "code",
   "execution_count": 104,
   "metadata": {},
   "outputs": [
    {
     "data": {
      "text/plain": [
       "Text(52,0.5,'gamma')"
      ]
     },
     "execution_count": 104,
     "metadata": {},
     "output_type": "execute_result"
    },
    {
     "data": {
      "image/png": "[encoded data removed]",
      "text/plain": [
       "<Figure size 576x396 with 2 Axes>"
      ]
     },
     "metadata": {},
     "output_type": "display_data"
    }
   ],
   "source": [
    "file = \"grid_search_logistic_jet1.npy\"\n",
    "grid_acc = np.load(file)\n",
    "import seaborn as sns; sns.set()\n",
    "ax = sns.heatmap(grid_acc,xticklabels=lamb, yticklabels=lr,vmin= 0.814, vmax=0.818)\n",
    "ax.set_xlabel('lambda')\n",
    "ax.set_ylabel('gamma')"
   ]
  },
  {
   "cell_type": "code",
   "execution_count": 105,
   "metadata": {},
   "outputs": [
    {
     "data": {
      "text/plain": [
       "Text(52,0.5,'gamma')"
      ]
     },
     "execution_count": 105,
     "metadata": {},
     "output_type": "execute_result"
    },
    {
     "data": {
      "image/png": "[encoded data removed]",
      "text/plain": [
       "<Figure size 576x396 with 2 Axes>"
      ]
     },
     "metadata": {},
     "output_type": "display_data"
    }
   ],
   "source": [
    "file = \"grid_search_logistic_jet2.npy\"\n",
    "grid_acc = np.load(file)\n",
    "import seaborn as sns; sns.set()\n",
    "ax = sns.heatmap(grid_acc,xticklabels=lamb, yticklabels=lr,vmin= 0.837, vmax=0.843)\n",
    "ax.set_xlabel('lambda')\n",
    "ax.set_ylabel('gamma')"
   ]
  }
 ],
 "metadata": {
  "kernelspec": {
   "display_name": "Python 3",
   "language": "python",
   "name": "python3"
  },
  "language_info": {
   "codemirror_mode": {
    "name": "ipython",
    "version": 3
   },
   "file_extension": ".py",
   "mimetype": "text/x-python",
   "name": "python",
   "nbconvert_exporter": "python",
   "pygments_lexer": "ipython3",
   "version": "3.6.5"
  }
 },
 "nbformat": 4,
 "nbformat_minor": 2
}
