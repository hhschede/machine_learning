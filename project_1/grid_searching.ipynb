{
 "cells": [
  {
   "cell_type": "markdown",
   "metadata": {},
   "source": [
    "Importation of modules and functions\n",
    "==="
   ]
  },
  {
   "cell_type": "code",
   "execution_count": null,
   "metadata": {},
   "outputs": [],
   "source": [
    "# Modules\n",
    "import csv\n",
    "import numpy as np\n",
    "import matplotlib.pyplot as plt\n",
    "from mpl_toolkits import mplot3d\n",
    "import sys\n",
    "import datetime\n",
    "import random\n",
    "import warnings\n",
    "\n",
    "# Functions\n",
    "sys.path.insert(0, './implementations/')\n",
    "from implementations import *\n",
    "from preprocessing import *\n",
    "from pca import *\n",
    "from plot import *\n",
    "from helpers import *\n",
    "\n",
    "# Autoreload\n",
    "%load_ext autoreload\n",
    "%autoreload 2\n",
    "\n",
    "# Set random seed\n",
    "np.random.seed(1)"
   ]
  },
  {
   "cell_type": "markdown",
   "metadata": {},
   "source": [
    "Training data loading\n",
    "==="
   ]
  },
  {
   "cell_type": "code",
   "execution_count": null,
   "metadata": {},
   "outputs": [],
   "source": [
    "(labels_raw, data_raw, ids_raw) = load_csv_data(\"data/train.csv\")"
   ]
  },
  {
   "cell_type": "markdown",
   "metadata": {},
   "source": [
    "Splitting data and jets\n",
    "==="
   ]
  },
  {
   "cell_type": "code",
   "execution_count": null,
   "metadata": {},
   "outputs": [],
   "source": [
    "# Splitting data\n",
    "X_train, y_train, X_test, y_test = split_data(data_raw, labels_raw)\n",
    "\n",
    "# Get feature jet_num\n",
    "jets = X_train[:,22]\n",
    "jets_t = X_test[:,22]\n",
    "\n",
    "# Get index of samples with appropriate jet\n",
    "idx_jet0 = np.argwhere(jets == 0)[:,0]\n",
    "idx_jet1 = np.argwhere(jets == 1)[:,0]\n",
    "idx_jet2 = np.argwhere(jets >= 2)[:,0]\n",
    "\n",
    "idx_jet0_t = np.argwhere(jets_t == 0)[:,0]\n",
    "idx_jet1_t = np.argwhere(jets_t == 1)[:,0]\n",
    "idx_jet2_t = np.argwhere(jets_t >= 2)[:,0]"
   ]
  },
  {
   "cell_type": "code",
   "execution_count": null,
   "metadata": {},
   "outputs": [],
   "source": [
    "# Remove jet_num feature as it will be constant after separation\n",
    "X_train = np.delete(X_train, 22, axis=1)\n",
    "X_test = np.delete(X_test, 22, axis=1)\n",
    "\n",
    "# Split data relative to jets\n",
    "data_tr_j0 = X_train[idx_jet0,:]\n",
    "data_tr_j1 = X_train[idx_jet1,:]\n",
    "data_tr_j2 = X_train[idx_jet2,:]\n",
    "\n",
    "data_ts_j0 = X_test[idx_jet0_t,:]\n",
    "data_ts_j1 = X_test[idx_jet1_t,:]\n",
    "data_ts_j2 = X_test[idx_jet2_t,:]\n",
    "\n",
    "# Split labels relative to jets\n",
    "lab_j0 = y_train[idx_jet0]\n",
    "lab_j1 = y_train[idx_jet1]\n",
    "lab_j2 = y_train[idx_jet2]\n",
    "\n",
    "lab_j0_t = y_test[idx_jet0_t]\n",
    "lab_j1_t = y_test[idx_jet1_t]\n",
    "lab_j2_t = y_test[idx_jet2_t]"
   ]
  },
  {
   "cell_type": "markdown",
   "metadata": {},
   "source": [
    "Data filtering and normalization\n",
    "==="
   ]
  },
  {
   "cell_type": "code",
   "execution_count": null,
   "metadata": {},
   "outputs": [],
   "source": [
    "# Filtering features, missing values and outliers\n",
    "data_j0, data_j0_t = process_data(data_tr_j0, data_ts_j0)\n",
    "data_j1, data_j1_t = process_data(data_tr_j1, data_ts_j1)\n",
    "data_j2, data_j2_t = process_data(data_tr_j2, data_ts_j2)"
   ]
  },
  {
   "cell_type": "code",
   "execution_count": null,
   "metadata": {},
   "outputs": [],
   "source": [
    "# Transforming data using polynomials, log and interaction terms\n",
    "y_j0, tx_j0, y_j0_t, tx_j0_t = transform_data(data_j0, data_j0_t, lab_j0, lab_j0_t, 6)\n",
    "y_j1, tx_j1, y_j1_t, tx_j1_t = transform_data(data_j1, data_j1_t, lab_j1, lab_j1_t, log = False)\n",
    "y_j2, tx_j2, y_j2_t, tx_j2_t = transform_data(data_j2, data_j2_t, lab_j2, lab_j2_t)"
   ]
  },
  {
   "cell_type": "markdown",
   "metadata": {},
   "source": [
    "Grid search for best lambda and learning rate\n",
    "==="
   ]
  },
  {
   "cell_type": "markdown",
   "metadata": {},
   "source": [
    "Jet num = 0\n",
    "=="
   ]
  },
  {
   "cell_type": "code",
   "execution_count": null,
   "metadata": {},
   "outputs": [],
   "source": [
    "num_iter = 100\n",
    "lr = np.arange(0.05,0.1,0.005)\n",
    "lamb = np.logspace(-3,3,7)\n",
    "\n",
    "initial_w = np.zeros(tx_j0.shape[1])\n",
    "\n",
    "best_gamma = 0\n",
    "best_lambda = 0\n",
    "best_acc = 0\n",
    "grid_acc = np.zeros([len(lr),len(lamb)])\n",
    "\n",
    "# Performing grid search for lambda and gamma(learning rate)\n",
    "for g in range(len(lr)):\n",
    "    for l in range(len(lamb)):\n",
    "        grid_acc[g,l] = Grid_Search_logistic(y_j0, tx_j0, y_j0_t, tx_j0_t, initial_w, gamma=lr[g], lam=lamb[l], max_iters = num_iter, momentum = 0)\n",
    "        print(\"gamma: {0} \\t| lambda: {1} \\t| test acc: {2}\".format(lr[g],lamb[l], grid_acc[g,l]))\n",
    "        if (grid_acc[g,l] > best_acc):\n",
    "            best_acc = grid_acc[g,l]\n",
    "            best_gamma = lr[g]\n",
    "            best_lambda = lamb[l]\n",
    "\n",
    "file = \"grid_search_logistic_jet0.npy\"\n",
    "np.save(file, grid_acc)"
   ]
  },
  {
   "cell_type": "markdown",
   "metadata": {},
   "source": [
    "Jet num = 1\n",
    "=="
   ]
  },
  {
   "cell_type": "code",
   "execution_count": null,
   "metadata": {},
   "outputs": [],
   "source": [
    "num_iter = 100\n",
    "lr = np.arange(0.05,0.1,0.005)\n",
    "lamb = np.logspace(-3,3,7)\n",
    "\n",
    "initial_w = np.zeros(tx_j1.shape[1])\n",
    "\n",
    "best_gamma = 0\n",
    "best_lambda = 0\n",
    "best_acc = 0\n",
    "grid_acc = np.zeros([len(lr),len(lamb)])\n",
    "\n",
    "# Performing grid search for lambda and gamma(learning rate)\n",
    "for g in range(len(lr)):\n",
    "    for l in range(len(lamb)):\n",
    "        grid_acc[g,l] = Grid_Search_logistic(y_j1, tx_j1, y_j1_t, tx_j1_t, initial_w, gamma=lr[g], lam=lamb[l], max_iters = num_iter, momentum = 0)\n",
    "        print(\"gamma: {0} \\t| lambda: {1} \\t| test acc: {2}\".format(lr[g],lamb[l], grid_acc[g,l]))\n",
    "        if (grid_acc[g,l] > best_acc):\n",
    "            best_acc = grid_acc[g,l]\n",
    "            best_gamma = lr[g]\n",
    "            best_lambda = lamb[l]\n",
    "\n",
    "file = \"grid_search_logistic_jet1.npy\"\n",
    "np.save(file, grid_acc)"
   ]
  },
  {
   "cell_type": "markdown",
   "metadata": {},
   "source": [
    "Jet num > 1\n",
    "=="
   ]
  },
  {
   "cell_type": "code",
   "execution_count": null,
   "metadata": {},
   "outputs": [],
   "source": [
    "num_iter = 100\n",
    "lr = np.arange(0.05,0.1,0.005)\n",
    "lamb = np.logspace(-3,3,7)\n",
    "\n",
    "initial_w = np.zeros(tx_j2.shape[1])\n",
    "\n",
    "best_gamma = 0\n",
    "best_lambda = 0\n",
    "best_acc = 0\n",
    "grid_acc = np.zeros([len(lr),len(lamb)])\n",
    "\n",
    "# Performing grid search for lambda and gamma(learning rate)\n",
    "for g in range(len(lr)):\n",
    "    for l in range(len(lamb)):\n",
    "        grid_acc[g,l] = Grid_Search_logistic(y_j2, tx_j2, y_j2_t, tx_j2_t, initial_w, gamma=lr[g], lam=lamb[l], max_iters = num_iter, momentum = 0)\n",
    "        print(\"gamma: {0} \\t| lambda: {1} \\t| test acc: {2}\".format(lr[g],lamb[l], grid_acc[g,l]))\n",
    "        if (grid_acc[g,l] > best_acc):\n",
    "            best_acc = grid_acc[g,l]\n",
    "            best_gamma = lr[g]\n",
    "            best_lambda = lamb[l]\n",
    "\n",
    "file = \"grid_search_logistic_jet2.npy\"\n",
    "np.save(file, grid_acc)\n"
   ]
  },
  {
   "cell_type": "markdown",
   "metadata": {},
   "source": [
    "Heat maps for the grid search\n",
    "=="
   ]
  },
  {
   "cell_type": "code",
   "execution_count": null,
   "metadata": {},
   "outputs": [],
   "source": [
    "file = \"grid_search/grid_search_logistic_jet0.npy\"\n",
    "grid_acc = np.load(file)\n",
    "import seaborn as sns; sns.set()\n",
    "ax = sns.heatmap(grid_acc,xticklabels=lamb, yticklabels=lr,vmin= 0.844, vmax=0.849)\n",
    "ax.set_xlabel('lambda')\n",
    "ax.set_ylabel('gamma')"
   ]
  },
  {
   "cell_type": "code",
   "execution_count": null,
   "metadata": {},
   "outputs": [],
   "source": [
    "file = \"grid_search/grid_search_logistic_jet1.npy\"\n",
    "grid_acc = np.load(file)\n",
    "import seaborn as sns; sns.set()\n",
    "ax = sns.heatmap(grid_acc,xticklabels=lamb, yticklabels=lr,vmin= 0.814, vmax=0.818)\n",
    "ax.set_xlabel('lambda')\n",
    "ax.set_ylabel('gamma')"
   ]
  },
  {
   "cell_type": "code",
   "execution_count": null,
   "metadata": {},
   "outputs": [],
   "source": [
    "file = \"grid_search/grid_search_logistic_jet2.npy\"\n",
    "grid_acc = np.load(file)\n",
    "import seaborn as sns; sns.set()\n",
    "ax = sns.heatmap(grid_acc,xticklabels=lamb, yticklabels=lr,vmin= 0.837, vmax=0.8426)\n",
    "ax.set_xlabel('lambda')\n",
    "ax.set_ylabel('gamma')"
   ]
  },
  {
   "cell_type": "markdown",
   "metadata": {},
   "source": [
    "Grid search for best alpha for momentum\n",
    "==="
   ]
  },
  {
   "cell_type": "markdown",
   "metadata": {},
   "source": [
    "Jet num = 0\n",
    "=="
   ]
  },
  {
   "cell_type": "code",
   "execution_count": null,
   "metadata": {},
   "outputs": [],
   "source": [
    "num_iter = 100\n",
    "mom = np.arange(0,1,0.1)\n",
    "\n",
    "initial_w = np.zeros(tx_j0.shape[1])\n",
    "\n",
    "best_mom = 0\n",
    "best_acc = 0\n",
    "grid_acc = np.zeros(mom.shape)\n",
    "\n",
    "# Performing grid search for momentum\n",
    "for m in range(len(mom)):\n",
    "    grid_acc[m] = Grid_Search_logistic(y_j0, tx_j0, y_j0_t, tx_j0_t, initial_w, gamma=0.075, lam=1, max_iters = num_iter, momentum = mom[m])\n",
    "    print(\"momentum alpha: {0} \\t| test acc: {1}\".format(mom[m], grid_acc[m]))\n",
    "    if (grid_acc[m] > best_acc):\n",
    "        best_acc = grid_acc[m]\n",
    "        best_mom = mom[m]\n",
    "\n",
    "file = \"grid_search_logistic_jet0_momentum.npy\"\n",
    "np.save(file, grid_acc)"
   ]
  },
  {
   "cell_type": "markdown",
   "metadata": {},
   "source": [
    "Jet num = 1\n",
    "=="
   ]
  },
  {
   "cell_type": "code",
   "execution_count": null,
   "metadata": {},
   "outputs": [],
   "source": [
    "num_iter = 100\n",
    "mom = np.arange(0.1,0.9,0.1)\n",
    "\n",
    "initial_w = np.zeros(tx_j1.shape[1])\n",
    "\n",
    "best_mom = 0\n",
    "best_acc = 0\n",
    "grid_acc = np.zeros(mom.shape)\n",
    "\n",
    "# Performing grid search for momentum\n",
    "for m in range(len(mom)):\n",
    "    grid_acc[m] = Grid_Search_logistic(y_j1, tx_j1, y_j1_t, tx_j1_t, initial_w, gamma=0.075, lam=100, max_iters = num_iter, momentum = mom[m])\n",
    "    print(\"momentum alpha: {0} \\t| test acc: {1}\".format(mom[m], grid_acc[m]))\n",
    "    if (grid_acc[m] > best_acc):\n",
    "        best_acc = grid_acc[m]\n",
    "        best_mom = mom[m]\n",
    "\n",
    "file = \"grid_search_logistic_jet1_momentum.npy\"\n",
    "np.save(file, grid_acc)"
   ]
  },
  {
   "cell_type": "markdown",
   "metadata": {},
   "source": [
    "Jet num > 1\n",
    "=="
   ]
  },
  {
   "cell_type": "code",
   "execution_count": null,
   "metadata": {},
   "outputs": [],
   "source": [
    "num_iter = 100\n",
    "mom = np.arange(0.1,0.9,0.1)\n",
    "\n",
    "initial_w = np.zeros(tx_j2.shape[1])\n",
    "\n",
    "best_mom = 0\n",
    "best_acc = 0\n",
    "grid_acc = np.zeros(mom.shape)\n",
    "\n",
    "# Performing grid search for momentum\n",
    "for m in range(len(mom)):\n",
    "    grid_acc[m] = Grid_Search_logistic(y_j2, tx_j2, y_j2_t, tx_j2_t, initial_w, gamma=0.07, lam=0.001, max_iters = num_iter, momentum = mom[m])\n",
    "    print(\"momentum alpha: {0} \\t| test acc: {1}\".format(mom[m], grid_acc[m]))\n",
    "    if (grid_acc[m] > best_acc):\n",
    "        best_acc = grid_acc[m]\n",
    "        best_mom = mom[m]\n",
    "\n",
    "file = \"grid_search_logistic_jet2_momentum.npy\"\n",
    "np.save(file, grid_acc)"
   ]
  }
 ],
 "metadata": {
  "kernelspec": {
   "display_name": "Python 3",
   "language": "python",
   "name": "python3"
  },
  "language_info": {
   "codemirror_mode": {
    "name": "ipython",
    "version": 3
   },
   "file_extension": ".py",
   "mimetype": "text/x-python",
   "name": "python",
   "nbconvert_exporter": "python",
   "pygments_lexer": "ipython3",
   "version": "3.6.5"
  }
 },
 "nbformat": 4,
 "nbformat_minor": 2
}
