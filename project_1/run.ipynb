{
 "cells": [
  {
   "cell_type": "markdown",
   "metadata": {},
   "source": [
    "Importation of modules and functions\n",
    "==="
   ]
  },
  {
   "cell_type": "code",
   "execution_count": null,
   "metadata": {},
   "outputs": [],
   "source": [
    "# Modules\n",
    "import csv\n",
    "import numpy as np\n",
    "import matplotlib.pyplot as plt\n",
    "from mpl_toolkits import mplot3d\n",
    "import sys\n",
    "import datetime\n",
    "import random\n",
    "import warnings\n",
    "\n",
    "# Functions\n",
    "sys.path.insert(0, './implementations/')\n",
    "from implementations import *\n",
    "from preprocessing import *\n",
    "from pca import *\n",
    "from plot import *\n",
    "from helpers import *\n",
    "\n",
    "# Autoreload\n",
    "%load_ext autoreload\n",
    "%autoreload 2\n",
    "\n",
    "# Set random seed\n",
    "np.random.seed(1)"
   ]
  },
  {
   "cell_type": "markdown",
   "metadata": {},
   "source": [
    "Training data loading\n",
    "==="
   ]
  },
  {
   "cell_type": "code",
   "execution_count": null,
   "metadata": {},
   "outputs": [],
   "source": [
    "(labels_raw, data_raw, ids_raw) = load_csv_data(\"data/train.csv\")"
   ]
  },
  {
   "cell_type": "markdown",
   "metadata": {},
   "source": [
    "Data filtering and normalization \n",
    "==="
   ]
  },
  {
   "cell_type": "code",
   "execution_count": null,
   "metadata": {},
   "outputs": [],
   "source": [
    "# Splitting data\n",
    "X_train, y_train, X_test, y_test = split_data(data_raw, labels_raw)\n",
    "\n",
    "# Filtering missing values and outliers\n",
    "X_train, X_test, y_train = process_data(X_train, X_test, y_train, ids_raw, sample_filtering = False, feature_filtering = False, replace = 'median',remove_outlier = True)\n",
    "\n",
    "# Standardization\n",
    "X_train, means, variance = standardize(X_train)\n",
    "X_test = standardize_test(X_test, means, variance)\n",
    "\n",
    "# Build interaction terms\n",
    "X_train_int = build_interact_terms(X_train)\n",
    "X_test_int = build_interact_terms(X_test)\n",
    "\n",
    "# Build polynomial of degree 2\n",
    "X_train_poly = build_poly(X_train, 2)\n",
    "X_test_poly = build_poly(X_test, 2)\n",
    "\n",
    "# Combine polynomial and int term\n",
    "data_train = np.c_[X_train_poly, X_train_int]\n",
    "data_test = np.c_[X_test_poly, X_test_int]\n",
    "\n",
    "# Perform PCA\n",
    "eigVal, eigVec, sumEigVal = PCA(data_train, threshold = 0.9)\n",
    "data = data_train.dot(eigVec)\n",
    "data_t = data_test.dot(eigVec)\n",
    "print(\"we have reduce the number of feature with PCA to {0}\".format(eigVec.shape[1]))\n"
   ]
  },
  {
   "cell_type": "markdown",
   "metadata": {},
   "source": [
    "Build data into matrix form\n",
    "==="
   ]
  },
  {
   "cell_type": "code",
   "execution_count": null,
   "metadata": {},
   "outputs": [],
   "source": [
    "y, tx = build_model_data(data, y_train)\n",
    "y_t, tx_t = build_model_data(data_t,y_test)"
   ]
  },
  {
   "cell_type": "markdown",
   "metadata": {},
   "source": [
    "Logistic regression using Newton's method\n",
    "==="
   ]
  },
  {
   "cell_type": "code",
   "execution_count": null,
   "metadata": {
    "scrolled": true
   },
   "outputs": [],
   "source": [
    "initial_w = np.random.rand(tx.shape[1])\n",
    "losses, losses_t, acc, acc_t, w = logistic_hessian(y, tx, y_t, tx_t, initial_w, 0.07, 500, 75) # fit model, retrieve parameters \n",
    "\n",
    "plt.style.use('seaborn')\n",
    "plt.plot(losses, label='Training set loss', c='blue')\n",
    "plt.plot(losses_t, label='Test set loss', c='red')\n",
    "plt.xlabel('Iteration')\n",
    "plt.ylabel('Loss')\n",
    "plt.title('Logistic Regression: Cost Function Loss Over Iterations of Stochastic Gradient Descent')\n",
    "plt.legend()\n",
    "plt.show()\n",
    "\n",
    "# Make plot with label prediction accuracy\n",
    "\n",
    "plt.plot(acc, label='Training set prediction accuracy', c='blue')\n",
    "plt.plot(acc_t, label='Test set prediction accuracy', c='red')\n",
    "plt.legend()\n",
    "plt.xlabel('Iteration')\n",
    "plt.ylabel('Prediction Accuracy')\n",
    "plt.title('Logistic Regression Prediction Accuracy Over Iterations of Gradient Descent')\n",
    "plt.show()"
   ]
  },
  {
   "cell_type": "markdown",
   "metadata": {},
   "source": [
    "Grid search for best paramaters\n",
    "==="
   ]
  },
  {
   "cell_type": "code",
   "execution_count": null,
   "metadata": {},
   "outputs": [],
   "source": [
    "num_iter = 200\n",
    "lr = 0.07\n",
    "lam = np.logspace(-5,5,10)\n",
    "\n",
    "initial_w = np.random.rand(tx.shape[1])\n",
    "\n",
    "for j in range(len(lam)):\n",
    "    print(\"Learning rate : {0} ¦ \".format(lr) + \"Lambda : {0}\".format(lam[j]))\n",
    "    loss_tr, loss_ts, acc_tr, acc_ts, w = logistic_hessian(y, tx, y_t, tx_t, initial_w, gamma=lr, lam=lam[j], max_iters=75) \n",
    "\n",
    "    titre = \"learning rate \"+str(lr) + \" lambda \" + str(lam[j])\n",
    "    plt.show(plotCurves(loss_tr, acc_tr, loss_ts, acc_ts, titre))\n",
    "\n",
    "\n"
   ]
  },
  {
   "cell_type": "markdown",
   "metadata": {},
   "source": [
    "Kaggle \n",
    "===="
   ]
  },
  {
   "cell_type": "markdown",
   "metadata": {},
   "source": [
    "Testing data loading\n",
    "==="
   ]
  },
  {
   "cell_type": "code",
   "execution_count": null,
   "metadata": {},
   "outputs": [],
   "source": [
    "(labels_t, data_raw_t, ids_t) = load_csv_data(\"data/test.csv\")"
   ]
  },
  {
   "cell_type": "markdown",
   "metadata": {},
   "source": [
    "Data filtering and normalization (both datasets entirely)\n",
    "==="
   ]
  },
  {
   "cell_type": "code",
   "execution_count": null,
   "metadata": {},
   "outputs": [],
   "source": [
    "# Filtering missing values and outliers\n",
    "data_tr, data_ts, y_tr = process_data(data_raw, data_raw_t, labels_raw, ids_raw, sample_filtering = False, feature_filtering = False, replace = 'median',remove_outlier = True)\n",
    "\n",
    "# Standardization\n",
    "data_tr, means, variance = standardize(data_tr)\n",
    "data_ts = standardize_test(data_ts, means, variance)\n",
    "\n",
    "# Build interaction terms\n",
    "data_tr_int = build_interact_terms(data_tr)\n",
    "data_ts_int = build_interact_terms(data_ts)\n",
    "\n",
    "# Build polynomial of degree 2\n",
    "data_tr_poly = build_poly(data_tr, 2)\n",
    "data_ts_poly = build_poly(data_ts, 2)\n",
    "\n",
    "# Combine polynomial and int term\n",
    "data_train = np.c_[data_tr_poly, data_tr_int]\n",
    "data_test = np.c_[data_ts_poly, data_ts_int]\n",
    "\n",
    "# Perform PCA\n",
    "eigVal, eigVec, sumEigVal = PCA(data_train, threshold = 1)\n",
    "data = data_train.dot(eigVec)\n",
    "data_t = data_test.dot(eigVec)\n",
    "print(\"we have reduce the number of feature with PCA to {0}\".format(eigVec.shape[1]))\n"
   ]
  },
  {
   "cell_type": "markdown",
   "metadata": {},
   "source": [
    "Build data into matrix form\n",
    "==="
   ]
  },
  {
   "cell_type": "code",
   "execution_count": null,
   "metadata": {},
   "outputs": [],
   "source": [
    "y, tx = build_model_data(data, y_tr)\n",
    "y_t, tx_t = build_model_data(data_t,labels_t)"
   ]
  },
  {
   "cell_type": "markdown",
   "metadata": {},
   "source": [
    "Logistic regression using Newton's method\n",
    "==="
   ]
  },
  {
   "cell_type": "code",
   "execution_count": null,
   "metadata": {},
   "outputs": [],
   "source": [
    "initial_w = np.random.rand(tx.shape[1])\n",
    "losses, losses_t, acc, acc_t, w = logistic_hessian(y, tx, y_t, tx_t, initial_w, 0.07, 500, 200) # fit model, retrieve parameters "
   ]
  },
  {
   "cell_type": "markdown",
   "metadata": {},
   "source": [
    "Kaggle submission\n",
    "==="
   ]
  },
  {
   "cell_type": "code",
   "execution_count": null,
   "metadata": {},
   "outputs": [],
   "source": [
    "pred_t = predict_labels_logistic(w, tx_t, 0.5)\n",
    "\n",
    "name = \"last_pred.csv\"\n",
    "create_csv_submission(ids_t, pred_t, name)\n",
    "\n",
    "# This yields 0.82817 on Kaggle"
   ]
  },
  {
   "cell_type": "code",
   "execution_count": null,
   "metadata": {},
   "outputs": [],
   "source": []
  }
 ],
 "metadata": {
  "kernelspec": {
   "display_name": "Python 3",
   "language": "python",
   "name": "python3"
  },
  "language_info": {
   "codemirror_mode": {
    "name": "ipython",
    "version": 3
   },
   "file_extension": ".py",
   "mimetype": "text/x-python",
   "name": "python",
   "nbconvert_exporter": "python",
   "pygments_lexer": "ipython3",
   "version": "3.6.5"
  }
 },
 "nbformat": 4,
 "nbformat_minor": 2
}
