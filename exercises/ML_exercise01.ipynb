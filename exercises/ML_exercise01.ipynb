{
 "cells": [
  {
   "cell_type": "code",
   "execution_count": 26,
   "metadata": {
    "nbpresent": {
     "id": "3a029a94-fe7f-4d07-9448-4a92731aa9f8"
    }
   },
   "outputs": [
    {
     "name": "stdout",
     "output_type": "stream",
     "text": [
      "[[ 1  0  3  5]\n",
      " [ 1  1  5  7]\n",
      " [ 0  0  4 10]\n",
      " [ 2 -1  5 11]]\n",
      "This is the mean 1.0 and this is the variance 0.5 of column 0\n",
      "This is the mean 0.0 and this is the variance 0.5 of column 1\n",
      "This is the mean 4.25 and this is the variance 0.6875 of column 2\n",
      "This is the mean 8.25 and this is the variance 5.6875 of column 3\n",
      "[[ 0  0 -1  0]\n",
      " [ 0  2  1  0]\n",
      " [-2  0  0  0]\n",
      " [ 2 -2  1  0]]\n"
     ]
    },
    {
     "data": {
      "text/plain": [
       "array([[ 0,  0, -1,  0],\n",
       "       [ 0,  2,  1,  0],\n",
       "       [-2,  0,  0,  0],\n",
       "       [ 2, -2,  1,  0]])"
      ]
     },
     "execution_count": 26,
     "metadata": {},
     "output_type": "execute_result"
    }
   ],
   "source": [
    "# Task A: Matrix Standardization\n",
    "# Here we take each feature, subtract the mean and divide by the variance of each feature.\n",
    "# This results in 0 mean and unit variance for the dimensions\n",
    "\n",
    "# This function accepts data matrix X (n x d) and outputs the standardized matrix\n",
    "\n",
    "import numpy as np\n",
    "def standardize(X):\n",
    "    # input X is n x d numpy matrix\n",
    "    array = np.array(X) # confirm that X is a numpy matrix\n",
    "    for idx, column in enumerate(array.T):\n",
    "        mean = np.mean(column)\n",
    "        variance = np.var(column)\n",
    "        print('This is the mean {} and this is the variance {} of column {}'.format(mean,variance,idx))\n",
    "        for sidx, sample in enumerate(column):\n",
    "            array[sidx,idx] = (sample - mean)/(variance)\n",
    "    return array\n",
    "        \n",
    "data = [[1,0,3,5],[1,1,5,7],[0,0,4,10],[2,-1,5,11]]\n",
    "standardize(data)\n",
    "    "
   ]
  },
  {
   "cell_type": "code",
   "execution_count": 36,
   "metadata": {
    "nbpresent": {
     "id": "744102f9-6b99-41d5-863c-5ee5c703e92e"
    }
   },
   "outputs": [
    {
     "name": "stdout",
     "output_type": "stream",
     "text": [
      "2 3\n"
     ]
    },
    {
     "data": {
      "text/plain": [
       "array([[1.        , 6.32455532, 9.43398113],\n",
       "       [3.        , 2.82842712, 6.40312424]])"
      ]
     },
     "execution_count": 36,
     "metadata": {},
     "output_type": "execute_result"
    }
   ],
   "source": [
    "# Task B: Pairwise distance in the plane\n",
    "# Write a function that accepts two matrices (one is P, p x 2 and the other is Q, q x 2).\n",
    "# Here each row contains the x,y coordinates\n",
    "# The output has to be all pairwise distances between all points between the two matrices\n",
    "# All output distances will be saved in matrix D, where Dij is the distance of the ith point in\n",
    "# P to the jth point in Q\n",
    "\n",
    "import numpy as np\n",
    "\n",
    "def pairwise(P,Q):\n",
    "    # check that p has 2 columns\n",
    "    P = np.array(P)\n",
    "    Q = np.array(Q)\n",
    "    if P.shape[1] != 2:\n",
    "        print('First matrix does not have two columns')\n",
    "        return None\n",
    "    if Q.shape[1] != 2:\n",
    "        print('Second matrix does not have two columns')\n",
    "        return None\n",
    "    print(P.shape[0], Q.shape[0])\n",
    "    distance_matrix = np.zeros([P.shape[0], Q.shape[0]])\n",
    "    \n",
    "    def euclid(x,y):\n",
    "        return np.sqrt((x[1]-y[1])**2 + (x[0]-y[0])**2)\n",
    "        \n",
    "    for idxP, point in enumerate(P):\n",
    "        for idxQ, coord in enumerate(Q):\n",
    "            distance = euclid(point,coord)\n",
    "            distance_matrix[idxP,idxQ] = distance\n",
    "    \n",
    "    return distance_matrix\n",
    "            \n",
    "p = [[0,1],[4,1]]\n",
    "q = [[1,1],[6,3],[8,6]]\n",
    "\n",
    "pairwise(p,q)"
   ]
  },
  {
   "cell_type": "code",
   "execution_count": 100,
   "metadata": {
    "nbpresent": {
     "id": "3b3d51ee-00bf-4f94-a2dc-8dd56c1287b7"
    }
   },
   "outputs": [
    {
     "name": "stdout",
     "output_type": "stream",
     "text": [
      "The first model is the more likely one with a probability of [[24.19707245]] (difference in percent was [[23.75388761]]) and parameters ([0, 5], [[1, 0], [0, 1]])\n"
     ]
    }
   ],
   "source": [
    "# Task C: Likelihood of a Data Sample\n",
    "# Implementation for two model case. xn is in R-d space\n",
    "# two sets of parameters, u1, sigma1, u2, sigma2\n",
    "# probability of x given u and sigma is given by equation\n",
    "# The function must return the most likely assignment (1, 2)\n",
    "# Which means xn is assigned to one gausian distribution\n",
    "\n",
    "import numpy as np\n",
    "\n",
    "def evaluate(x, mu, cov):\n",
    "    # Here the models mean\n",
    "    # and the covariance are incorporated\n",
    "    x = np.array(x)\n",
    "    mu = np.array(mu)\n",
    "    cov = np.array(cov)\n",
    "    d = x.shape[1]\n",
    "    det = np.linalg.det(cov)\n",
    "    inv = np.linalg.inv(cov)\n",
    "    probability = 100*np.exp(-0.5 * np.matmul(np.matmul((x - mu),inv),(x - mu).T))/(((2*np.pi)**(d/2) * det) ** 0.5) \n",
    "    return probability\n",
    "\n",
    "def assignment(sample, m1, m2):\n",
    "    # here m1 and m2 are tuples containing the model \n",
    "    # parameters in the order - mean and covariance\n",
    "    prob1 = evaluate(sample, m1[0], m1[1])\n",
    "    prob2 = evaluate(sample, m2[0], m1[1])\n",
    "    if abs(prob1 - prob2) < 5:\n",
    "        print('The models are basically the same with a percent probability margin of 5%')\n",
    "    elif prob1 > prob2:\n",
    "        print('The first model is the more likely one with a probability of {} (difference in percent was {}) and parameters {}'.format(prob1, (prob1-prob2),m1))\n",
    "    else:\n",
    "        print('The second model is the more likely one with probability of {} (difference in percent was {}) and parameters'.format(prob2, (prob2-prob1) ,m2))\n",
    "    \n",
    "X = [[0, 4]]\n",
    "u1 = [0, 5]\n",
    "s1 = [[1, 0],[0, 1]]\n",
    "u2 = [0, 7]\n",
    "s2 = [[4, 3], [3, 4]]\n",
    "m1 = (u1, s1)\n",
    "m2 = (u2, s2)\n",
    "\n",
    "assignment(X, m1, m2)\n",
    "\n"
   ]
  },
  {
   "cell_type": "code",
   "execution_count": null,
   "metadata": {},
   "outputs": [],
   "source": []
  },
  {
   "cell_type": "code",
   "execution_count": null,
   "metadata": {},
   "outputs": [],
   "source": []
  }
 ],
 "metadata": {
  "kernelspec": {
   "display_name": "Python [conda env:ada]",
   "language": "python",
   "name": "conda-env-ada-py"
  },
  "language_info": {
   "codemirror_mode": {
    "name": "ipython",
    "version": 3
   },
   "file_extension": ".py",
   "mimetype": "text/x-python",
   "name": "python",
   "nbconvert_exporter": "python",
   "pygments_lexer": "ipython3",
   "version": "3.6.6"
  }
 },
 "nbformat": 4,
 "nbformat_minor": 2
}
