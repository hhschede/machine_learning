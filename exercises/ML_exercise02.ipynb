{
 "cells": [
  {
   "cell_type": "code",
   "execution_count": 105,
   "metadata": {},
   "outputs": [
    {
     "name": "stdout",
     "output_type": "stream",
     "text": [
      "The number of samples in this dataset is 10000\n"
     ]
    }
   ],
   "source": [
    "# Task 1: Computing the cost function\n",
    "# yn is approximated by w0 + w1xn1. Height is used as the input variable, and weight as the output\n",
    "# Coefficients w0 and w1 are the model parameters. A mean-square-error is defined on the next line\n",
    "# 1/2N sum(y-f(x1))^2. We are required to find w0 and w1 that will minimize this cost function\n",
    "\n",
    "# Extracting data from HTML and converting to arrays for algorithm\n",
    "\n",
    "import requests\n",
    "import io\n",
    "import numpy as np\n",
    "import matplotlib.pyplot as plt\n",
    "\n",
    "html = 'https://raw.githubusercontent.com/epfml/ML_course/master/labs/ex02/template/height_weight_genders.csv'\n",
    "pull = requests.get(html).content\n",
    "strings = io.StringIO(pull.decode('utf-8'))\n",
    "# print(strings.getvalue())\n",
    "\n",
    "# Creating array\n",
    "\n",
    "height_list = [] # strip strings into lists first\n",
    "weight_list = []\n",
    "for idx, line in enumerate(strings.readlines()):\n",
    "    if idx == 0:\n",
    "        pass\n",
    "    else:\n",
    "        split = line.split(',')\n",
    "        #print(float(split[1]))\n",
    "        h = float(split[1])\n",
    "        w = float(split[2])\n",
    "        height_list.append(h)\n",
    "        weight_list.append(w)\n",
    "\n",
    "height = np.matrix(height_list).T\n",
    "# standardize and normalize the features\n",
    "column_variance = []\n",
    "height_scaled = np.copy(height)\n",
    "\n",
    "for idx, column in enumerate(height_scaled.T):\n",
    "    mean = np.mean(column)\n",
    "    variance = np.std(column)\n",
    "    for entry, value in enumerate(column):\n",
    "        height_scaled[entry, idx] = (value - mean)/variance # scale dat shit\n",
    "\n",
    "ones = np.matrix(np.ones(height_scaled.size)).T\n",
    "X = np.concatenate((ones, height_scaled), axis=1) # appending column of 1 for w0\n",
    "\n",
    "target = np.matrix(weight_list).T\n",
    "target_scaled = np.copy(target)\n",
    "\n",
    "for idx, column in enumerate(target.T):\n",
    "    mean = np.mean(column)\n",
    "    variance = np.std(column)\n",
    "    for entry, value in enumerate(column.T):\n",
    "        target_scaled[entry, idx] = (value - mean)/variance # scale dat shit\n",
    "\n",
    "print('The number of samples in this dataset is {}'.format(height.size))\n",
    "\n",
    "# Computing MSE\n",
    "\n",
    "\n",
    "def compute_MSE(y, tx, w):\n",
    "    # X is the augmented matrix with ones appended\n",
    "    if y.shape[0] == tx.shape[0] and w.shape[1] == tx.shape[1]:\n",
    "        error = np.matrix(y).T - np.dot(tx, w.T) # the dotproduct is 1000x1\n",
    "        sum_sqrd = np.linalg.norm(error, 2) ** 2\n",
    "        # sum_sqrd = np.square(error)\n",
    "        mse = np.sum(sum_sqrd) / (2 * X.shape[0])\n",
    "        # print(mse)\n",
    "        return mse\n",
    "    else:\n",
    "        'Incompatible dimensions for y and training data'\n",
    "\n",
    "# w = np.matrix([1,2])\n",
    "\n",
    "#compute_MSE(y, X, w)\n"
   ]
  },
  {
   "cell_type": "code",
   "execution_count": 106,
   "metadata": {},
   "outputs": [],
   "source": [
    "# Task 2: Grid search\n",
    "# Fill in a function grid.search(y, tx, w0, w1) to implement grid search.\n",
    "# Per for loop: one dimension and compute the cost function for each setting of w0 and w1\n",
    "# When all values of the cost function are stored in the variable loss, the code finds a minimum\n",
    "# Code prints obtained minimum value of the cost function with determined w0 and w1.\n",
    "# Also a contour plot and the plot of the fit\n",
    "\n",
    "\n",
    "\n",
    "def grid_search(y, tx, w0, w1, plot=True):\n",
    "    import matplotlib.pyplot as plt\n",
    "    import seaborn as sns\n",
    "\n",
    "    # y is a numpy array of target values (weight)\n",
    "    # tx is a numpy augmented matrix (with ones) of training values\n",
    "    # w0 and w1 are numpy arrays of the range to form the grid\n",
    "\n",
    "    # Make a matrix 400 x 400 with all the entry pairs of w0,w1\n",
    "\n",
    "    w_tuples = []\n",
    "    for value in w0:\n",
    "        [w_tuples.append((value, value2)) for value2 in w1]\n",
    "\n",
    "    grid = np.empty([0, 3])\n",
    "    for value in w_tuples:\n",
    "        w_reformed = np.matrix(value)\n",
    "        meanerror = compute_MSE(y, tx, w_reformed)\n",
    "        to_append = np.matrix([float(meanerror), value[0], value[1]])\n",
    "        # print(to_append)\n",
    "        # create matrix with meanerror, and in the other columns values for w0 and w1 for that given error then idx\n",
    "        grid = np.concatenate((grid, to_append), axis=0)\n",
    "\n",
    "    idx_min = np.argmin(grid[:, 0])\n",
    "    print('The lowest error is {} with w0 value of {} and w1 value of {}'.format(grid[idx_min,0], grid[idx_min, 1], grid[idx_min, 2]))\n",
    "\n",
    "    if plot:\n",
    "\n",
    "        z_plot = np.zeros((100,1))\n",
    "        column = []\n",
    "        for value in grid[:, 0].tolist():\n",
    "            if len(column) < 100:\n",
    "                column.append(value[0])\n",
    "            if len(column) == 100:\n",
    "                z_plot = np.concatenate((z_plot, np.matrix(column).T), axis=1)\n",
    "                column = []\n",
    "        z_plot = z_plot[:,1:]\n",
    "        # fig, ax = plt.subplots()\n",
    "        # CS = ax.contour(w0, w1, z_plot)\n",
    "        # ax.clabel(CS, inline=1, fontsize=10)\n",
    "        # ax.set_title('Contour plot')\n",
    "\n",
    "        plt.scatter(height_list, weight_list, c='blue')\n",
    "        plt.plot([0, 100],[grid[idx_min, 1], 100 * grid[idx_min, 2] + grid[idx_min, 1]], c='red')\n",
    "        plt.show()\n",
    "\n",
    "\n",
    "# Initiate w0 and w1 pairs\n",
    "\n",
    "# w0 = np.arange(-200, -150, 0.5)\n",
    "# w1 = np.arange(-10, 10, 0.2)\n",
    "# np.set_printoptions(threshold=np.nan)\n",
    "\n",
    "\n",
    "\n"
   ]
  },
  {
   "cell_type": "code",
   "execution_count": 64,
   "metadata": {},
   "outputs": [
    {
     "data": {
      "image/png": "[encoded data removed]",
      "text/plain": [
       "<Figure size 432x288 with 1 Axes>"
      ]
     },
     "metadata": {
      "needs_background": "light"
     },
     "output_type": "display_data"
    },
    {
     "name": "stdout",
     "output_type": "stream",
     "text": [
      "Values for w are [[-3.74602940e-13]\n",
      " [ 9.24756299e-01]] and the gradient right now is [[-4.16582679e-13]\n",
      " [-4.35716174e-13]]\n"
     ]
    }
   ],
   "source": [
    "# Task 3: Gradient Descent\n",
    "# We have already derived the gradient of the MSE function for linear regression\n",
    "\n",
    "\n",
    "# write function for gradient descent\n",
    "\n",
    "def gradient_descent(y, tx, w, step, iterations):\n",
    "\n",
    "    # y is a numpy column of target values\n",
    "    # tx is the augmented matrix x with samples in rows and dimensions in columns\n",
    "    # w is the np row array of w values\n",
    "    # step is the step size over which w is modified. int < 1\n",
    "    # iterations is the number of iterations to consider. int\n",
    "\n",
    "    # create function that computes gradients\n",
    "    def compute_gradient(y, tx, w):\n",
    "        error = y - np.dot(tx, w)\n",
    "        grad = - np.dot(tx.T, error) / tx.shape[0]\n",
    "        return grad\n",
    "\n",
    "    for i in np.arange(iterations):\n",
    "        gradient = compute_gradient(y, tx, w)\n",
    "        # print(gradient)\n",
    "        w = w - step * gradient\n",
    "        # print('Loop {}. The new value of w is {} and the gradient was {}'.format(i, w, gradient))\n",
    "\n",
    "    plt.scatter(height_scaled, target_scaled, c='blue')\n",
    "    plt.plot([-5, 5], [-5 * w.item(1) + w.item(0), 5 * w.item(1) + w.item(0)], c='red')\n",
    "    plt.xlabel('Height variable')\n",
    "    plt.ylabel('Weight variable')\n",
    "    plt.title('Linear regression by gradient descent')\n",
    "    plt.show()\n",
    "    print('Values for w are {} and the gradient right now is {}'.format(w,gradient))\n",
    "\n",
    "# Initiate w\n",
    "w_test = np.matrix([-20, -20]).T\n",
    "\n",
    "\n",
    "gradient_descent(target_scaled, X, w_test, 0.1, 300)"
   ]
  },
  {
   "cell_type": "code",
   "execution_count": 43,
   "metadata": {},
   "outputs": [
    {
     "data": {
      "image/png": "[encoded data removed]",
      "text/plain": [
       "<Figure size 432x288 with 1 Axes>"
      ]
     },
     "metadata": {
      "needs_background": "light"
     },
     "output_type": "display_data"
    },
    {
     "name": "stdout",
     "output_type": "stream",
     "text": [
      "The values for w are [[2.91437176e-16]\n",
      " [9.24756299e-01]] and the gradient is [[-0.00000000e+00]\n",
      " [-5.49960077e-15]]\n"
     ]
    }
   ],
   "source": [
    "# Task 4: Stochastic gradient descent\n",
    "import random\n",
    "random.seed(20)\n",
    "\n",
    "def stochastic_descent(y, tx, w, step):\n",
    "    # randomize the order of the dataset X\n",
    "    # keep randomized idx and transform target set\n",
    "    \n",
    "    rand_idx = (np.random.permutation(np.arange(tx.shape[0])))\n",
    "    tx_rand = tx[rand_idx, :]\n",
    "    target_rand = target_scaled[rand_idx,:]\n",
    "    \n",
    "    # create function that computes gradients\n",
    "    def compute_gradient(y, tx, w):\n",
    "        error = y - np.dot(tx, w)\n",
    "        grad = - np.dot(tx.T, error) / tx.shape[0]\n",
    "        return grad\n",
    "    \n",
    "    for idx, sample in enumerate(tx_rand):\n",
    "        gradient = compute_gradient(target_rand, tx_rand, w)\n",
    "        w = w - step * gradient\n",
    "        # print('Loop {}. W is {} and gradient is {}'.format(idx, w, gradient))\n",
    "    \n",
    "    plt.scatter(height_scaled, target_scaled, c='blue')\n",
    "    plt.plot([-5,5],[-5 * w.item(1) + w.item(0), 5 * w.item(1) + w.item(0)], c='red')\n",
    "    plt.show()\n",
    "    print('The values for w are {} and the gradient is {}'.format(w, gradient))\n",
    "\n",
    "w_test = np.matrix([-15, -10]).T\n",
    "\n",
    "stochastic_descent(target_scaled, X, w_test, 0.01)"
   ]
  },
  {
   "cell_type": "code",
   "execution_count": 77,
   "metadata": {},
   "outputs": [
    {
     "data": {
      "image/png": "[encoded data removed]",
      "text/plain": [
       "<Figure size 432x288 with 1 Axes>"
      ]
     },
     "metadata": {
      "needs_background": "light"
     },
     "output_type": "display_data"
    },
    {
     "name": "stdout",
     "output_type": "stream",
     "text": [
      "Values for w are [[-0.24811204]\n",
      " [-0.06769188]] and the gradient right now is [[-5.31161442e-12]\n",
      " [ 1.32819299e-12]]\n"
     ]
    }
   ],
   "source": [
    "# Task 5: Simulating the presence of outliers\n",
    "\n",
    "# Construct outlier points\n",
    "X_outs = np.matrix([1,4]*1000).reshape([1000,2])\n",
    "y_outs = np.matrix([-3] * 1000).reshape([1000,1])\n",
    "\n",
    "# Add them to X\n",
    "X_outliers = np.concatenate((X, X_outs), axis=0)\n",
    "y_outliers = np.concatenate((target_scaled, y_outs), axis=0)\n",
    "\n",
    "w_test = np.matrix([-20, -20]).T\n",
    "\n",
    "# Plot outliers to graph\n",
    "plt.scatter(X_outs[:,1].tolist(), y_outs.tolist())\n",
    "gradient_descent(y_outliers, X_outliers, w_test, 0.1, 300)"
   ]
  },
  {
   "cell_type": "code",
   "execution_count": 167,
   "metadata": {},
   "outputs": [
    {
     "data": {
      "image/png": "[encoded data removed]",
      "text/plain": [
       "<Figure size 432x288 with 1 Axes>"
      ]
     },
     "metadata": {
      "needs_background": "light"
     },
     "output_type": "display_data"
    },
    {
     "name": "stdout",
     "output_type": "stream",
     "text": [
      "The chosen values for w are [[0.8]\n",
      " [0. ]]\n"
     ]
    }
   ],
   "source": [
    "# Task 6: Robustness with MAE\n",
    "# Really shitty way to do this but generalizable!\n",
    "\n",
    "def mae(y, tx, w, step, iterations):\n",
    "    # make set of subgradients\n",
    "    set = np.matrix([1,0,0,1,-1,0,0,-1]).reshape(4,2) # this is not generalized: only for 2 dimensions\n",
    "\n",
    "    # test which subgradients fits the equality the best\n",
    "    def loss_mae(y, tx, w_input): # test error for mae\n",
    "        error = abs(y - np.dot(tx, w_input))\n",
    "        avg_error = np.mean(error)\n",
    "        return avg_error\n",
    "    \n",
    "    # apply subgradient to error calculation\n",
    "    for loop in np.arange(iterations):\n",
    "        # we need to save the errors and their given w directions\n",
    "        errors_set = np.matrix([loss_mae(y, tx, w + step * sample) for sample in set]).T\n",
    "        selected_direction = np.argmin(abs(errors_set))\n",
    "        if abs(errors_set[selected_direction]) < 0.0000001:\n",
    "            break\n",
    "        w = w + step * set[selected_direction].T\n",
    "        # print('selected direction is {}, error was {}'.format(set[selected_direction], errors_set[selected_direction]))\n",
    "    plt.scatter(height_scaled, target_scaled, c='blue')\n",
    "    plt.plot([-5,5],[-5 * w.item(1) + w.item(0), 5 * w.item(1) + w.item(0)], c='red')\n",
    "    plt.show()\n",
    "    print('The chosen values for w are {}'.format(w))\n",
    "\n",
    "    \n",
    "w_test = np.matrix([8, 0]).T\n",
    "mae(target_scaled, X, w_test, 0.1, 100)"
   ]
  },
  {
   "cell_type": "code",
   "execution_count": null,
   "metadata": {},
   "outputs": [],
   "source": []
  }
 ],
 "metadata": {
  "kernelspec": {
   "display_name": "Python [conda env:ada]",
   "language": "python",
   "name": "conda-env-ada-py"
  },
  "language_info": {
   "codemirror_mode": {
    "name": "ipython",
    "version": 3
   },
   "file_extension": ".py",
   "mimetype": "text/x-python",
   "name": "python",
   "nbconvert_exporter": "python",
   "pygments_lexer": "ipython3",
   "version": "3.6.6"
  }
 },
 "nbformat": 4,
 "nbformat_minor": 2
}
